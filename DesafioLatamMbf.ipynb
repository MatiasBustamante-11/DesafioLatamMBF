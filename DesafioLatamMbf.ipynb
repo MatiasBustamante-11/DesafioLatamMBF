{
 "cells": [
  {
   "cell_type": "markdown",
   "id": "40d610c9",
   "metadata": {},
   "source": [
    "# Data Scientist Challenge - LATAM Airlines\n",
    "### Matias Bustamante"
   ]
  },
  {
   "cell_type": "code",
   "execution_count": 155,
   "id": "b0e24459",
   "metadata": {},
   "outputs": [],
   "source": [
    "# Importación de librerias\n",
    "import pandas as pd\n",
    "import numpy as np\n",
    "import matplotlib.pyplot as plt\n",
    "import seaborn as sns\n",
    "\n",
    "from funpymodeling.exploratory import freq_tbl\n",
    "from sklearn.preprocessing import LabelEncoder\n",
    "from sklearn.metrics import confusion_matrix\n",
    "from sklearn.model_selection import train_test_split\n",
    "from sklearn.preprocessing import StandardScaler\n",
    "from sklearn import preprocessing\n",
    "from sklearn.model_selection import train_test_split\n",
    "from sklearn.tree import DecisionTreeClassifier\n",
    "from sklearn.ensemble import RandomForestClassifier\n",
    "from sklearn.ensemble import GradientBoostingClassifier\n",
    "from sklearn.ensemble import VotingClassifier\n",
    "from sklearn.linear_model import LogisticRegression \n",
    "from sklearn.metrics import accuracy_score,classification_report,recall_score,roc_auc_score,precision_score,f1_score,confusion_matrix\n",
    "from sklearn.compose import ColumnTransformer\n",
    "from sklearn.preprocessing import OneHotEncoder\n",
    "from sklearn.metrics import confusion_matrix"
   ]
  },
  {
   "cell_type": "code",
   "execution_count": 235,
   "id": "3f2b17b2",
   "metadata": {},
   "outputs": [],
   "source": [
    "#Funcion que sirve de herramienta para imprimir los resultados de diferentes modelos y crear una tabla comparativa entre ellos\n",
    "#Esta funcion ha sido usada previamente en otros proyectos. Ademas de utilizar el modelo y sus parametros, tambien\n",
    "# se le puede entregar el nombre del modelo, si se desea añadir a la tabla resumen y si la evaluación es para el conjunto\n",
    "# entrenamiento o el conjunto de prueba.\n",
    "log=[[\"Modelo\",\"Precision\",\"Roc\"]]\n",
    "def print_score(clf, X_train, y_train, X_test, y_test,modelo,add=True,train=True):\n",
    "    if train:\n",
    "        pred = clf.predict(X_train)\n",
    "        clf_report = pd.DataFrame(classification_report(y_train, pred, output_dict=True))\n",
    "        precision_tr = accuracy_score(y_train, pred) * 100\n",
    "        print(\"Data entrenamiento:\\n\")\n",
    "        print(\"Precision --->\",precision_tr,\"%\")\n",
    "        print(\"Reporte completo\\n\", clf_report)\n",
    "        print(\"Matriz de confusión:\\n\",confusion_matrix(y_train, pred))\n",
    "        print(\"Roc score --->\",roc_auc_score(y_train,pred)) \n",
    "        print(\"Acc score --->\",accuracy_score(y_train,pred)) \n",
    "        \n",
    "    elif train==False:\n",
    "        pred = clf.predict(X_test)\n",
    "        clf_report = pd.DataFrame(classification_report(y_test, pred, output_dict=True))\n",
    "        precision_ts = accuracy_score(y_test, pred) * 100\n",
    "        print(\"Data test:\\n\")\n",
    "        print(\"Precision --->\",precision_ts,\"%\")\n",
    "        print(\"Reporte completo\\n\", clf_report)\n",
    "        print(\"Matriz de confusión:\\n\",confusion_matrix(y_test, pred))\n",
    "        print(\"Roc score --->\",roc_auc_score(y_test,pred))\n",
    "        print(\"Acc score --->\",accuracy_score(y_test,pred)) \n",
    "        if add ==True:\n",
    "            log.append([modelo,precision_ts,roc_auc_score(y_test, pred)])\n",
    "            \n",
    "def plotHistogram(df, histsh, histrow):\n",
    "    nunique = df.nunique()\n",
    "    df = df[[col for col in df if nunique[col] > 1 and nunique[col] < 50]]\n",
    "    nRow, nCol = df.shape\n",
    "    columnNames = list(df)\n",
    "    nHistRow = (nCol + histrow - 1) / histrow\n",
    "    plt.figure(num=None, figsize=(6*histrow, 8*nHistRow), dpi=80, facecolor='w', edgecolor='k')\n",
    "    for i in range(min(nCol, histsh)):\n",
    "        plt.subplot(nHistRow, histrow, i+1)\n",
    "        df.iloc[:,i].hist()\n",
    "        plt.ylabel('counts')\n",
    "        plt.xticks(rotation=90)\n",
    "        plt.title(f'{columnNames[i]} (column {i})')\n",
    "    plt.tight_layout(pad=1.0, w_pad=1.0, h_pad=1.0)\n",
    "    plt.show()"
   ]
  },
  {
   "cell_type": "code",
   "execution_count": 57,
   "id": "ad4d0fd9",
   "metadata": {},
   "outputs": [],
   "source": [
    "#Funciones para calcular tasas con respecto a las diferentes variables solicitadas en el desafio.\n",
    "\n",
    "def frecuencia_atraso(data, col, destino, dif_min):\n",
    "    indice_col = data.columns.get_loc(col)\n",
    "    indice_dif_min = data.columns.get_loc(dif_min)\n",
    "    cont = 0\n",
    "    for indice in range(data.shape[0]):\n",
    "        if(data.iloc[indice, indice_col] == destino) & (data.iloc[indice, indice_dif_min] > 15):  \n",
    "            cont+=1        \n",
    "    return cont\n",
    "\n",
    "def cantidad(data, col, variable):\n",
    "    indice_col = data.columns.get_loc(col)\n",
    "    cont = 0\n",
    "    for indice in range(data.shape[0]):\n",
    "        if(data.iloc[indice, indice_col] == variable):\n",
    "            cont+=1     \n",
    "    return cont\n",
    "\n",
    "def tasa_ocurrencia(data, col, destino, dif_min):  \n",
    "    indice_col = data.columns.get_loc(col)\n",
    "    indice_dif_min = data.columns.get_loc(dif_min) \n",
    "    cont = 0 \n",
    "    for indice in range(data.shape[0]):\n",
    "        if(data.iloc[indice, indice_col] == destino):\n",
    "            cont+=1\n",
    "    aux = frecuencia_atraso(data, col, destino, dif_min)\n",
    "    return aux/cont\n",
    "\n",
    "def calculo_tasas(data, lista, col):\n",
    "    valores = []\n",
    "    atrasos = []\n",
    "    cantidad_total = []\n",
    "    for indice in range(len(lista)):\n",
    "        valores.append(tasa_ocurrencia(data, col, lista[indice], 'dif_min'))\n",
    "        atrasos.append(frecuencia_atraso(data, col, lista[indice],'dif_min'))\n",
    "        cantidad_total.append(cantidad(data, col, lista[indice]))\n",
    "        \n",
    "    return valores, atrasos, cantidad_total"
   ]
  },
  {
   "cell_type": "code",
   "execution_count": 140,
   "id": "f590b10b",
   "metadata": {},
   "outputs": [],
   "source": [
    "#Carga y lectura del dataset\n",
    "data = pd.read_csv(\"dataset_SCL.csv\", low_memory=False)"
   ]
  },
  {
   "cell_type": "markdown",
   "id": "a7f54e6d",
   "metadata": {},
   "source": [
    "# Pre-procesamiento dataset + feature engeeniering# "
   ]
  },
  {
   "cell_type": "code",
   "execution_count": 141,
   "id": "9ee82b86",
   "metadata": {},
   "outputs": [],
   "source": [
    "import numpy as np\n",
    "#Transformación de las fechas a tipo datetime\n",
    "data['Fecha-I'] =  pd.to_datetime(data['Fecha-I'])\n",
    "data['Fecha-O'] =  pd.to_datetime(data['Fecha-O'])"
   ]
  },
  {
   "cell_type": "code",
   "execution_count": 142,
   "id": "8ffababb",
   "metadata": {},
   "outputs": [
    {
     "data": {
      "text/plain": [
       " 0.0      4789\n",
       "-1.0      4026\n",
       " 1.0      3921\n",
       " 2.0      3622\n",
       "-2.0      3582\n",
       "          ... \n",
       " 141.0       5\n",
       " 136.0       4\n",
       " 146.0       4\n",
       " 149.0       4\n",
       " 139.0       3\n",
       "Name: dif_min, Length: 176, dtype: int64"
      ]
     },
     "execution_count": 142,
     "metadata": {},
     "output_type": "execute_result"
    }
   ],
   "source": [
    "#Columna de la diferencia de los minutos con respecto a la fecha de operacion y de i\n",
    "data['dif_min'] = (data['Fecha-O']-data['Fecha-I']).astype('timedelta64[m]')\n",
    "data['dif_min'].value_counts()"
   ]
  },
  {
   "cell_type": "code",
   "execution_count": 143,
   "id": "612fac95",
   "metadata": {},
   "outputs": [
    {
     "data": {
      "text/plain": [
       "0    45444\n",
       "1    22762\n",
       "Name: temporada_alta, dtype: int64"
      ]
     },
     "execution_count": 143,
     "metadata": {},
     "output_type": "execute_result"
    }
   ],
   "source": [
    "#Creación columna temporada_alta respecto los requisitos indicados\n",
    "data['temporada_alta'] = np.where(data['MES'] == 12, 1, 0) & np.where(data['DIA'] >= 15, 1, 0) \n",
    "data['temporada_alta'] = np.where(data['MES'] == 1, 1, data['temporada_alta']) | np.where(data['MES'] == 2, 1, data['temporada_alta'])\n",
    "data['temporada_alta'] = np.where(data['MES'] == 3, 1, data['temporada_alta']) & np.where(data['DIA'] <= 3, 1, data['temporada_alta'])\n",
    "data['temporada_alta'] = np.where(data['MES'] == 7, 1, data['temporada_alta']) & np.where(data['DIA'] >= 15, 1, data['temporada_alta']) & np.where(data['DIA'] <= 31, 1, data['temporada_alta'])\n",
    "data['temporada_alta'] = np.where(data['MES'] == 9, 1, data['temporada_alta']) & np.where(data['DIA'] >= 11, 1, data['temporada_alta']) & np.where(data['DIA'] <= 30, 1, data['temporada_alta'])\n",
    "data['temporada_alta'].value_counts()"
   ]
  },
  {
   "cell_type": "code",
   "execution_count": 144,
   "id": "93afd0d3",
   "metadata": {},
   "outputs": [
    {
     "data": {
      "text/plain": [
       "False    55592\n",
       "True     12614\n",
       "Name: atraso_15, dtype: int64"
      ]
     },
     "execution_count": 144,
     "metadata": {},
     "output_type": "execute_result"
    }
   ],
   "source": [
    "# Creación Columna si existió o no existió atraso.\n",
    "data['atraso_15'] = np.where(data['dif_min'] > 15, True, False)\n",
    "data['atraso_15'].value_counts()"
   ]
  },
  {
   "cell_type": "code",
   "execution_count": 145,
   "id": "5a256c16",
   "metadata": {},
   "outputs": [
    {
     "data": {
      "text/plain": [
       "tarde     25506\n",
       "mañana    25352\n",
       "noche     17348\n",
       "Name: periodo_dia, dtype: int64"
      ]
     },
     "execution_count": 145,
     "metadata": {},
     "output_type": "execute_result"
    }
   ],
   "source": [
    "#Creación variable periodo_dia\n",
    "\n",
    "data['periodo_dia'] = data['Fecha-I'].dt.hour\n",
    "data['periodo_dia'] = np.where((data['Fecha-I'].dt.hour >= 5) & (data['Fecha-I'].dt.hour< 12),\"mañana\", data['periodo_dia'])\n",
    "data['periodo_dia'] = np.where((data['Fecha-I'].dt.hour >= 12) & (data['Fecha-I'].dt.hour< 19),\"tarde\", data['periodo_dia'])\n",
    "data['periodo_dia'] = np.where((data['Fecha-I'].dt.hour >= 19) & (data['Fecha-I'].dt.hour< 24),\"noche\", data['periodo_dia'])\n",
    "data['periodo_dia'] = np.where((data['Fecha-I'].dt.hour >= 0) & (data['Fecha-I'].dt.hour< 5),\"noche\", data['periodo_dia'])\n",
    "data['periodo_dia'].value_counts()"
   ]
  },
  {
   "cell_type": "code",
   "execution_count": 146,
   "id": "194a46f5",
   "metadata": {},
   "outputs": [],
   "source": [
    "# Exportamos el dataset en formato archivo a modo de satisfacer la petición del documento.\n",
    "data.to_csv('synthetic_features.csv') "
   ]
  },
  {
   "cell_type": "code",
   "execution_count": 147,
   "id": "860e2652",
   "metadata": {},
   "outputs": [
    {
     "data": {
      "text/plain": [
       "0    50058\n",
       "1    18148\n",
       "Name: holiday, dtype: int64"
      ]
     },
     "execution_count": 147,
     "metadata": {},
     "output_type": "execute_result"
    }
   ],
   "source": [
    "#Creación variable holiday (si es fin de semana)\n",
    "\n",
    "data['holiday'] = np.where(data['DIANOM'] == \"Sabado\", 1, 0)\n",
    "data['holiday'] = np.where(data['DIANOM'] == \"Domingo\", 1, data['holiday'])\n",
    "data['holiday'].value_counts()"
   ]
  },
  {
   "cell_type": "code",
   "execution_count": 148,
   "id": "a05cd4f7",
   "metadata": {},
   "outputs": [
    {
     "data": {
      "text/plain": [
       "Diciembre     6357\n",
       "Enero         6108\n",
       "Noviembre     6081\n",
       "Octubre       6032\n",
       "Julio         5991\n",
       "Agosto        5744\n",
       "Septiembre    5610\n",
       "Febrero       5561\n",
       "Marzo         5480\n",
       "Mayo          5239\n",
       "Abril         5021\n",
       "Junio         4982\n",
       "Name: MESNOM, dtype: int64"
      ]
     },
     "execution_count": 148,
     "metadata": {},
     "output_type": "execute_result"
    }
   ],
   "source": [
    "#Creación variable nombre mes para un gráfico\n",
    "\n",
    "data['MESNOM'] = data['Fecha-I'].dt.month\n",
    "\n",
    "dict = {\"Enero\" : '1',\"Febrero\" : '2',\"Marzo\" : '3',\"Abril\" : '4',\"Mayo\" : '5',\"Junio\" : '6',\"Julio\" : '7',\"Agosto\": '8',\"Septiembre\" : '9',\"Octubre\" : '10',\"Noviembre\" : '11',\"Diciembre\" : '12'}\n",
    "lista=[\"0\",\"Enero\",\"Febrero\",\"Marzo\",\"Abril\",\"Mayo\",\"Junio\",\"Julio\",\"Agosto\",\"Septiembre\",\"Octubre\",\"Noviembre\",\"Diciembre\"]\n",
    "#dict = {\"1\" : 'Enero',\"2\" : 'Febrero',\"3\" : 'Marzo',\"4\" : 'Abril',\"5\" : 'Mayo',\"6\" : 'Junio',\"7\" : 'Julio',\"8\": 'Agosto',\"9\" : 'Septiembre',\"10\" : 'Octubre',\"11\" : 'Noviembre',\"12\" : 'Diciembre'}\n",
    "# por alguna razon el remplazo por diccionario no dio resultaedo, en son de ahorrar tiempo se remplaza de manera estandar.\n",
    "\n",
    "data['MESNOM'] = np.where(data['Fecha-I'].dt.month == 1,\"Enero\", data['MESNOM'])\n",
    "for i in range(len(lista)):\n",
    "    data['MESNOM'] = np.where(data['Fecha-I'].dt.month == i,lista[i], data['MESNOM'])\n",
    "    \n",
    "data['MESNOM'].value_counts()"
   ]
  },
  {
   "cell_type": "markdown",
   "id": "bb8d56bb",
   "metadata": {},
   "source": [
    "# Analisis exploratorio"
   ]
  },
  {
   "cell_type": "code",
   "execution_count": 44,
   "id": "1a1e4f54",
   "metadata": {},
   "outputs": [
    {
     "name": "stdout",
     "output_type": "stream",
     "text": [
      "(68206, 23)\n"
     ]
    }
   ],
   "source": [
    "print(data.shape)"
   ]
  },
  {
   "cell_type": "code",
   "execution_count": 45,
   "id": "451b694d",
   "metadata": {},
   "outputs": [
    {
     "data": {
      "text/html": [
       "<div>\n",
       "<style scoped>\n",
       "    .dataframe tbody tr th:only-of-type {\n",
       "        vertical-align: middle;\n",
       "    }\n",
       "\n",
       "    .dataframe tbody tr th {\n",
       "        vertical-align: top;\n",
       "    }\n",
       "\n",
       "    .dataframe thead th {\n",
       "        text-align: right;\n",
       "    }\n",
       "</style>\n",
       "<table border=\"1\" class=\"dataframe\">\n",
       "  <thead>\n",
       "    <tr style=\"text-align: right;\">\n",
       "      <th></th>\n",
       "      <th>Fecha-I</th>\n",
       "      <th>Vlo-I</th>\n",
       "      <th>Ori-I</th>\n",
       "      <th>Des-I</th>\n",
       "      <th>Emp-I</th>\n",
       "      <th>Fecha-O</th>\n",
       "      <th>Vlo-O</th>\n",
       "      <th>Ori-O</th>\n",
       "      <th>Des-O</th>\n",
       "      <th>Emp-O</th>\n",
       "      <th>...</th>\n",
       "      <th>DIANOM</th>\n",
       "      <th>TIPOVUELO</th>\n",
       "      <th>OPERA</th>\n",
       "      <th>SIGLAORI</th>\n",
       "      <th>SIGLADES</th>\n",
       "      <th>temporada_alta</th>\n",
       "      <th>dif_min</th>\n",
       "      <th>atraso_15</th>\n",
       "      <th>holiday</th>\n",
       "      <th>periodo_dia</th>\n",
       "    </tr>\n",
       "  </thead>\n",
       "  <tbody>\n",
       "    <tr>\n",
       "      <th>0</th>\n",
       "      <td>2017-01-01 23:30:00</td>\n",
       "      <td>226</td>\n",
       "      <td>SCEL</td>\n",
       "      <td>KMIA</td>\n",
       "      <td>AAL</td>\n",
       "      <td>2017-01-01 23:33:00</td>\n",
       "      <td>226</td>\n",
       "      <td>SCEL</td>\n",
       "      <td>KMIA</td>\n",
       "      <td>AAL</td>\n",
       "      <td>...</td>\n",
       "      <td>Domingo</td>\n",
       "      <td>I</td>\n",
       "      <td>American Airlines</td>\n",
       "      <td>Santiago</td>\n",
       "      <td>Miami</td>\n",
       "      <td>1</td>\n",
       "      <td>3.0</td>\n",
       "      <td>False</td>\n",
       "      <td>1</td>\n",
       "      <td>noche</td>\n",
       "    </tr>\n",
       "    <tr>\n",
       "      <th>1</th>\n",
       "      <td>2017-01-02 23:30:00</td>\n",
       "      <td>226</td>\n",
       "      <td>SCEL</td>\n",
       "      <td>KMIA</td>\n",
       "      <td>AAL</td>\n",
       "      <td>2017-01-02 23:39:00</td>\n",
       "      <td>226</td>\n",
       "      <td>SCEL</td>\n",
       "      <td>KMIA</td>\n",
       "      <td>AAL</td>\n",
       "      <td>...</td>\n",
       "      <td>Lunes</td>\n",
       "      <td>I</td>\n",
       "      <td>American Airlines</td>\n",
       "      <td>Santiago</td>\n",
       "      <td>Miami</td>\n",
       "      <td>1</td>\n",
       "      <td>9.0</td>\n",
       "      <td>False</td>\n",
       "      <td>0</td>\n",
       "      <td>noche</td>\n",
       "    </tr>\n",
       "    <tr>\n",
       "      <th>2</th>\n",
       "      <td>2017-01-03 23:30:00</td>\n",
       "      <td>226</td>\n",
       "      <td>SCEL</td>\n",
       "      <td>KMIA</td>\n",
       "      <td>AAL</td>\n",
       "      <td>2017-01-03 23:39:00</td>\n",
       "      <td>226</td>\n",
       "      <td>SCEL</td>\n",
       "      <td>KMIA</td>\n",
       "      <td>AAL</td>\n",
       "      <td>...</td>\n",
       "      <td>Martes</td>\n",
       "      <td>I</td>\n",
       "      <td>American Airlines</td>\n",
       "      <td>Santiago</td>\n",
       "      <td>Miami</td>\n",
       "      <td>1</td>\n",
       "      <td>9.0</td>\n",
       "      <td>False</td>\n",
       "      <td>0</td>\n",
       "      <td>noche</td>\n",
       "    </tr>\n",
       "    <tr>\n",
       "      <th>3</th>\n",
       "      <td>2017-01-04 23:30:00</td>\n",
       "      <td>226</td>\n",
       "      <td>SCEL</td>\n",
       "      <td>KMIA</td>\n",
       "      <td>AAL</td>\n",
       "      <td>2017-01-04 23:33:00</td>\n",
       "      <td>226</td>\n",
       "      <td>SCEL</td>\n",
       "      <td>KMIA</td>\n",
       "      <td>AAL</td>\n",
       "      <td>...</td>\n",
       "      <td>Miercoles</td>\n",
       "      <td>I</td>\n",
       "      <td>American Airlines</td>\n",
       "      <td>Santiago</td>\n",
       "      <td>Miami</td>\n",
       "      <td>1</td>\n",
       "      <td>3.0</td>\n",
       "      <td>False</td>\n",
       "      <td>0</td>\n",
       "      <td>noche</td>\n",
       "    </tr>\n",
       "    <tr>\n",
       "      <th>4</th>\n",
       "      <td>2017-01-05 23:30:00</td>\n",
       "      <td>226</td>\n",
       "      <td>SCEL</td>\n",
       "      <td>KMIA</td>\n",
       "      <td>AAL</td>\n",
       "      <td>2017-01-05 23:28:00</td>\n",
       "      <td>226</td>\n",
       "      <td>SCEL</td>\n",
       "      <td>KMIA</td>\n",
       "      <td>AAL</td>\n",
       "      <td>...</td>\n",
       "      <td>Jueves</td>\n",
       "      <td>I</td>\n",
       "      <td>American Airlines</td>\n",
       "      <td>Santiago</td>\n",
       "      <td>Miami</td>\n",
       "      <td>1</td>\n",
       "      <td>-2.0</td>\n",
       "      <td>False</td>\n",
       "      <td>0</td>\n",
       "      <td>noche</td>\n",
       "    </tr>\n",
       "  </tbody>\n",
       "</table>\n",
       "<p>5 rows × 23 columns</p>\n",
       "</div>"
      ],
      "text/plain": [
       "              Fecha-I Vlo-I Ori-I Des-I Emp-I             Fecha-O Vlo-O Ori-O  \\\n",
       "0 2017-01-01 23:30:00   226  SCEL  KMIA   AAL 2017-01-01 23:33:00   226  SCEL   \n",
       "1 2017-01-02 23:30:00   226  SCEL  KMIA   AAL 2017-01-02 23:39:00   226  SCEL   \n",
       "2 2017-01-03 23:30:00   226  SCEL  KMIA   AAL 2017-01-03 23:39:00   226  SCEL   \n",
       "3 2017-01-04 23:30:00   226  SCEL  KMIA   AAL 2017-01-04 23:33:00   226  SCEL   \n",
       "4 2017-01-05 23:30:00   226  SCEL  KMIA   AAL 2017-01-05 23:28:00   226  SCEL   \n",
       "\n",
       "  Des-O Emp-O  ...     DIANOM  TIPOVUELO              OPERA  SIGLAORI  \\\n",
       "0  KMIA   AAL  ...    Domingo          I  American Airlines  Santiago   \n",
       "1  KMIA   AAL  ...      Lunes          I  American Airlines  Santiago   \n",
       "2  KMIA   AAL  ...     Martes          I  American Airlines  Santiago   \n",
       "3  KMIA   AAL  ...  Miercoles          I  American Airlines  Santiago   \n",
       "4  KMIA   AAL  ...     Jueves          I  American Airlines  Santiago   \n",
       "\n",
       "  SIGLADES temporada_alta dif_min atraso_15  holiday  periodo_dia  \n",
       "0    Miami              1     3.0     False        1        noche  \n",
       "1    Miami              1     9.0     False        0        noche  \n",
       "2    Miami              1     9.0     False        0        noche  \n",
       "3    Miami              1     3.0     False        0        noche  \n",
       "4    Miami              1    -2.0     False        0        noche  \n",
       "\n",
       "[5 rows x 23 columns]"
      ]
     },
     "execution_count": 45,
     "metadata": {},
     "output_type": "execute_result"
    }
   ],
   "source": [
    "data.head(5)"
   ]
  },
  {
   "cell_type": "code",
   "execution_count": 46,
   "id": "c7a9e55a",
   "metadata": {},
   "outputs": [
    {
     "data": {
      "text/plain": [
       "Index(['Fecha-I', 'Vlo-I', 'Ori-I', 'Des-I', 'Emp-I', 'Fecha-O', 'Vlo-O',\n",
       "       'Ori-O', 'Des-O', 'Emp-O', 'DIA', 'MES', 'AÑO', 'DIANOM', 'TIPOVUELO',\n",
       "       'OPERA', 'SIGLAORI', 'SIGLADES', 'temporada_alta', 'dif_min',\n",
       "       'atraso_15', 'holiday', 'periodo_dia'],\n",
       "      dtype='object')"
      ]
     },
     "execution_count": 46,
     "metadata": {},
     "output_type": "execute_result"
    }
   ],
   "source": [
    "data.columns"
   ]
  },
  {
   "cell_type": "code",
   "execution_count": 47,
   "id": "f538cf6e",
   "metadata": {},
   "outputs": [
    {
     "data": {
      "text/html": [
       "<div>\n",
       "<style scoped>\n",
       "    .dataframe tbody tr th:only-of-type {\n",
       "        vertical-align: middle;\n",
       "    }\n",
       "\n",
       "    .dataframe tbody tr th {\n",
       "        vertical-align: top;\n",
       "    }\n",
       "\n",
       "    .dataframe thead th {\n",
       "        text-align: right;\n",
       "    }\n",
       "</style>\n",
       "<table border=\"1\" class=\"dataframe\">\n",
       "  <thead>\n",
       "    <tr style=\"text-align: right;\">\n",
       "      <th></th>\n",
       "      <th>DIA</th>\n",
       "      <th>MES</th>\n",
       "      <th>AÑO</th>\n",
       "      <th>temporada_alta</th>\n",
       "      <th>dif_min</th>\n",
       "      <th>holiday</th>\n",
       "    </tr>\n",
       "  </thead>\n",
       "  <tbody>\n",
       "    <tr>\n",
       "      <th>count</th>\n",
       "      <td>68206.000000</td>\n",
       "      <td>68206.000000</td>\n",
       "      <td>68206.000000</td>\n",
       "      <td>68206.000000</td>\n",
       "      <td>68206.000000</td>\n",
       "      <td>68206.000000</td>\n",
       "    </tr>\n",
       "    <tr>\n",
       "      <th>mean</th>\n",
       "      <td>15.714790</td>\n",
       "      <td>6.622585</td>\n",
       "      <td>2017.000029</td>\n",
       "      <td>0.333724</td>\n",
       "      <td>9.110855</td>\n",
       "      <td>0.266076</td>\n",
       "    </tr>\n",
       "    <tr>\n",
       "      <th>std</th>\n",
       "      <td>8.782886</td>\n",
       "      <td>3.523321</td>\n",
       "      <td>0.005415</td>\n",
       "      <td>0.471546</td>\n",
       "      <td>19.313387</td>\n",
       "      <td>0.441908</td>\n",
       "    </tr>\n",
       "    <tr>\n",
       "      <th>min</th>\n",
       "      <td>1.000000</td>\n",
       "      <td>1.000000</td>\n",
       "      <td>2017.000000</td>\n",
       "      <td>0.000000</td>\n",
       "      <td>-14.000000</td>\n",
       "      <td>0.000000</td>\n",
       "    </tr>\n",
       "    <tr>\n",
       "      <th>25%</th>\n",
       "      <td>8.000000</td>\n",
       "      <td>3.000000</td>\n",
       "      <td>2017.000000</td>\n",
       "      <td>0.000000</td>\n",
       "      <td>-1.000000</td>\n",
       "      <td>0.000000</td>\n",
       "    </tr>\n",
       "    <tr>\n",
       "      <th>50%</th>\n",
       "      <td>16.000000</td>\n",
       "      <td>7.000000</td>\n",
       "      <td>2017.000000</td>\n",
       "      <td>0.000000</td>\n",
       "      <td>4.000000</td>\n",
       "      <td>0.000000</td>\n",
       "    </tr>\n",
       "    <tr>\n",
       "      <th>75%</th>\n",
       "      <td>23.000000</td>\n",
       "      <td>10.000000</td>\n",
       "      <td>2017.000000</td>\n",
       "      <td>1.000000</td>\n",
       "      <td>12.000000</td>\n",
       "      <td>1.000000</td>\n",
       "    </tr>\n",
       "    <tr>\n",
       "      <th>max</th>\n",
       "      <td>31.000000</td>\n",
       "      <td>12.000000</td>\n",
       "      <td>2018.000000</td>\n",
       "      <td>1.000000</td>\n",
       "      <td>161.000000</td>\n",
       "      <td>1.000000</td>\n",
       "    </tr>\n",
       "  </tbody>\n",
       "</table>\n",
       "</div>"
      ],
      "text/plain": [
       "                DIA           MES           AÑO  temporada_alta       dif_min  \\\n",
       "count  68206.000000  68206.000000  68206.000000    68206.000000  68206.000000   \n",
       "mean      15.714790      6.622585   2017.000029        0.333724      9.110855   \n",
       "std        8.782886      3.523321      0.005415        0.471546     19.313387   \n",
       "min        1.000000      1.000000   2017.000000        0.000000    -14.000000   \n",
       "25%        8.000000      3.000000   2017.000000        0.000000     -1.000000   \n",
       "50%       16.000000      7.000000   2017.000000        0.000000      4.000000   \n",
       "75%       23.000000     10.000000   2017.000000        1.000000     12.000000   \n",
       "max       31.000000     12.000000   2018.000000        1.000000    161.000000   \n",
       "\n",
       "            holiday  \n",
       "count  68206.000000  \n",
       "mean       0.266076  \n",
       "std        0.441908  \n",
       "min        0.000000  \n",
       "25%        0.000000  \n",
       "50%        0.000000  \n",
       "75%        1.000000  \n",
       "max        1.000000  "
      ]
     },
     "execution_count": 47,
     "metadata": {},
     "output_type": "execute_result"
    }
   ],
   "source": [
    "data.describe()"
   ]
  },
  {
   "cell_type": "code",
   "execution_count": 48,
   "id": "27a2ca48",
   "metadata": {},
   "outputs": [
    {
     "data": {
      "text/plain": [
       "Fecha-I           0\n",
       "Vlo-I             0\n",
       "Ori-I             0\n",
       "Des-I             0\n",
       "Emp-I             0\n",
       "Fecha-O           0\n",
       "Vlo-O             1\n",
       "Ori-O             0\n",
       "Des-O             0\n",
       "Emp-O             0\n",
       "DIA               0\n",
       "MES               0\n",
       "AÑO               0\n",
       "DIANOM            0\n",
       "TIPOVUELO         0\n",
       "OPERA             0\n",
       "SIGLAORI          0\n",
       "SIGLADES          0\n",
       "temporada_alta    0\n",
       "dif_min           0\n",
       "atraso_15         0\n",
       "holiday           0\n",
       "periodo_dia       0\n",
       "dtype: int64"
      ]
     },
     "execution_count": 48,
     "metadata": {},
     "output_type": "execute_result"
    }
   ],
   "source": [
    "data.isnull().sum()"
   ]
  },
  {
   "cell_type": "code",
   "execution_count": 49,
   "id": "d348485d",
   "metadata": {},
   "outputs": [
    {
     "name": "stdout",
     "output_type": "stream",
     "text": [
      "(68205, 23)\n"
     ]
    }
   ],
   "source": [
    "#Eliminación de nulos\n",
    "data = data.dropna()\n",
    "print(data.shape)"
   ]
  },
  {
   "cell_type": "code",
   "execution_count": 52,
   "id": "c8aab204",
   "metadata": {},
   "outputs": [
    {
     "name": "stdout",
     "output_type": "stream",
     "text": [
      "Atrasos por día\n",
      "           atraso_15  PERCENTUAL\n",
      "DIANOM                          \n",
      "Viernes         2285   18.114793\n",
      "Lunes           2048   16.235928\n",
      "Jueves          2045   16.212145\n",
      "Miercoles       1661   13.167909\n",
      "Martes          1634   12.953861\n",
      "Domingo         1578   12.509910\n",
      "Sabado          1363   10.805454\n",
      "\n",
      "\n",
      "Atrasos por mes del día\n",
      "     atraso_15  PERCENTUAL\n",
      "DIA                       \n",
      "15         544    4.312668\n",
      "11         520    4.122404\n",
      "10         515    4.082765\n",
      "16         468    3.710163\n",
      "26         453    3.591248\n",
      "20         449    3.559537\n",
      "14         449    3.559537\n",
      "6          449    3.559537\n",
      "12         436    3.456477\n",
      "22         436    3.456477\n",
      "17         435    3.448549\n",
      "21         434    3.440622\n",
      "4          420    3.329634\n",
      "13         413    3.274140\n",
      "18         412    3.266212\n",
      "23         406    3.218646\n",
      "25         400    3.171080\n",
      "3          400    3.171080\n",
      "9          397    3.147297\n",
      "5          391    3.099730\n",
      "19         391    3.099730\n",
      "24         383    3.036309\n",
      "28         378    2.996670\n",
      "27         365    2.893610\n",
      "8          359    2.846044\n",
      "7          358    2.838116\n",
      "2          352    2.790550\n",
      "29         342    2.711273\n",
      "30         328    2.600285\n",
      "1          328    2.600285\n",
      "31         203    1.609323\n"
     ]
    }
   ],
   "source": [
    "week = data[['DIANOM','atraso_15']].groupby('DIANOM').sum().sort_values(by='atraso_15',ascending=False)\n",
    "week['PERCENTUAL'] = week['atraso_15']/(week['atraso_15'].sum())*100\n",
    "print('Atrasos por día')\n",
    "print(week)\n",
    "\n",
    "month = data[['DIA','atraso_15']].groupby('DIA').sum().sort_values(by='atraso_15',ascending=False)\n",
    "month['PERCENTUAL'] = month['atraso_15']/(month['atraso_15'].sum())*100\n",
    "\n",
    "print('\\n')\n",
    "print('Atrasos por mes del día')\n",
    "print(month)"
   ]
  },
  {
   "cell_type": "code",
   "execution_count": 51,
   "id": "0d6ef48b",
   "metadata": {},
   "outputs": [
    {
     "data": {
      "image/png": "[encoded data removed]",
      "text/plain": [
       "<Figure size 864x360 with 1 Axes>"
      ]
     },
     "metadata": {
      "needs_background": "light"
     },
     "output_type": "display_data"
    },
    {
     "data": {
      "text/html": [
       "<div>\n",
       "<style scoped>\n",
       "    .dataframe tbody tr th:only-of-type {\n",
       "        vertical-align: middle;\n",
       "    }\n",
       "\n",
       "    .dataframe tbody tr th {\n",
       "        vertical-align: top;\n",
       "    }\n",
       "\n",
       "    .dataframe thead th {\n",
       "        text-align: right;\n",
       "    }\n",
       "</style>\n",
       "<table border=\"1\" class=\"dataframe\">\n",
       "  <thead>\n",
       "    <tr style=\"text-align: right;\">\n",
       "      <th></th>\n",
       "      <th>DIANOM</th>\n",
       "      <th>frequency</th>\n",
       "      <th>percentage</th>\n",
       "      <th>cumulative_perc</th>\n",
       "    </tr>\n",
       "  </thead>\n",
       "  <tbody>\n",
       "    <tr>\n",
       "      <th>0</th>\n",
       "      <td>Viernes</td>\n",
       "      <td>10292</td>\n",
       "      <td>0.150898</td>\n",
       "      <td>0.150898</td>\n",
       "    </tr>\n",
       "    <tr>\n",
       "      <th>1</th>\n",
       "      <td>Jueves</td>\n",
       "      <td>10250</td>\n",
       "      <td>0.150282</td>\n",
       "      <td>0.301180</td>\n",
       "    </tr>\n",
       "    <tr>\n",
       "      <th>2</th>\n",
       "      <td>Lunes</td>\n",
       "      <td>10131</td>\n",
       "      <td>0.148537</td>\n",
       "      <td>0.449718</td>\n",
       "    </tr>\n",
       "    <tr>\n",
       "      <th>3</th>\n",
       "      <td>Domingo</td>\n",
       "      <td>9796</td>\n",
       "      <td>0.143626</td>\n",
       "      <td>0.593344</td>\n",
       "    </tr>\n",
       "    <tr>\n",
       "      <th>4</th>\n",
       "      <td>Miercoles</td>\n",
       "      <td>9722</td>\n",
       "      <td>0.142541</td>\n",
       "      <td>0.735884</td>\n",
       "    </tr>\n",
       "    <tr>\n",
       "      <th>5</th>\n",
       "      <td>Martes</td>\n",
       "      <td>9662</td>\n",
       "      <td>0.141661</td>\n",
       "      <td>0.877546</td>\n",
       "    </tr>\n",
       "    <tr>\n",
       "      <th>6</th>\n",
       "      <td>Sabado</td>\n",
       "      <td>8352</td>\n",
       "      <td>0.122454</td>\n",
       "      <td>1.000000</td>\n",
       "    </tr>\n",
       "  </tbody>\n",
       "</table>\n",
       "</div>"
      ],
      "text/plain": [
       "      DIANOM  frequency  percentage  cumulative_perc\n",
       "0    Viernes      10292    0.150898         0.150898\n",
       "1     Jueves      10250    0.150282         0.301180\n",
       "2      Lunes      10131    0.148537         0.449718\n",
       "3    Domingo       9796    0.143626         0.593344\n",
       "4  Miercoles       9722    0.142541         0.735884\n",
       "5     Martes       9662    0.141661         0.877546\n",
       "6     Sabado       8352    0.122454         1.000000"
      ]
     },
     "execution_count": 51,
     "metadata": {},
     "output_type": "execute_result"
    }
   ],
   "source": [
    "dia_O = freq_tbl(data['DIANOM'])\n",
    "plt.figure(figsize=(12,5))\n",
    "plt.bar(dia_O['DIANOM'],dia_O['frequency'], color = '#ff721d')\n",
    "plt.xticks(rotation = 90)\n",
    "plt.xlabel('Día de la semana', labelpad=10)\n",
    "plt.ylabel('Frecuencia')\n",
    "plt.title('Frecuencia de cada día de la semana en vuelos operados')\n",
    "plt.show()\n",
    "dia_O"
   ]
  },
  {
   "cell_type": "code",
   "execution_count": 50,
   "id": "f5870d9a",
   "metadata": {},
   "outputs": [
    {
     "data": {
      "image/png": "[encoded data removed]",
      "text/plain": [
       "<Figure size 864x360 with 1 Axes>"
      ]
     },
     "metadata": {
      "needs_background": "light"
     },
     "output_type": "display_data"
    },
    {
     "data": {
      "text/html": [
       "<div>\n",
       "<style scoped>\n",
       "    .dataframe tbody tr th:only-of-type {\n",
       "        vertical-align: middle;\n",
       "    }\n",
       "\n",
       "    .dataframe tbody tr th {\n",
       "        vertical-align: top;\n",
       "    }\n",
       "\n",
       "    .dataframe thead th {\n",
       "        text-align: right;\n",
       "    }\n",
       "</style>\n",
       "<table border=\"1\" class=\"dataframe\">\n",
       "  <thead>\n",
       "    <tr style=\"text-align: right;\">\n",
       "      <th></th>\n",
       "      <th>OPERA</th>\n",
       "      <th>frequency</th>\n",
       "      <th>percentage</th>\n",
       "      <th>cumulative_perc</th>\n",
       "    </tr>\n",
       "  </thead>\n",
       "  <tbody>\n",
       "    <tr>\n",
       "      <th>0</th>\n",
       "      <td>Grupo LATAM</td>\n",
       "      <td>40892</td>\n",
       "      <td>0.599545</td>\n",
       "      <td>0.599545</td>\n",
       "    </tr>\n",
       "    <tr>\n",
       "      <th>1</th>\n",
       "      <td>Sky Airline</td>\n",
       "      <td>14298</td>\n",
       "      <td>0.209633</td>\n",
       "      <td>0.809178</td>\n",
       "    </tr>\n",
       "    <tr>\n",
       "      <th>2</th>\n",
       "      <td>Aerolineas Argentinas</td>\n",
       "      <td>1949</td>\n",
       "      <td>0.028576</td>\n",
       "      <td>0.837754</td>\n",
       "    </tr>\n",
       "    <tr>\n",
       "      <th>3</th>\n",
       "      <td>Copa Air</td>\n",
       "      <td>1850</td>\n",
       "      <td>0.027124</td>\n",
       "      <td>0.864878</td>\n",
       "    </tr>\n",
       "    <tr>\n",
       "      <th>4</th>\n",
       "      <td>Latin American Wings</td>\n",
       "      <td>1673</td>\n",
       "      <td>0.024529</td>\n",
       "      <td>0.889407</td>\n",
       "    </tr>\n",
       "    <tr>\n",
       "      <th>5</th>\n",
       "      <td>Avianca</td>\n",
       "      <td>1152</td>\n",
       "      <td>0.016890</td>\n",
       "      <td>0.906297</td>\n",
       "    </tr>\n",
       "    <tr>\n",
       "      <th>6</th>\n",
       "      <td>JetSmart SPA</td>\n",
       "      <td>1095</td>\n",
       "      <td>0.016055</td>\n",
       "      <td>0.922352</td>\n",
       "    </tr>\n",
       "    <tr>\n",
       "      <th>7</th>\n",
       "      <td>Gol Trans</td>\n",
       "      <td>806</td>\n",
       "      <td>0.011817</td>\n",
       "      <td>0.934169</td>\n",
       "    </tr>\n",
       "    <tr>\n",
       "      <th>8</th>\n",
       "      <td>American Airlines</td>\n",
       "      <td>757</td>\n",
       "      <td>0.011099</td>\n",
       "      <td>0.945268</td>\n",
       "    </tr>\n",
       "    <tr>\n",
       "      <th>9</th>\n",
       "      <td>Air Canada</td>\n",
       "      <td>565</td>\n",
       "      <td>0.008284</td>\n",
       "      <td>0.953552</td>\n",
       "    </tr>\n",
       "    <tr>\n",
       "      <th>10</th>\n",
       "      <td>Iberia</td>\n",
       "      <td>362</td>\n",
       "      <td>0.005308</td>\n",
       "      <td>0.958859</td>\n",
       "    </tr>\n",
       "    <tr>\n",
       "      <th>11</th>\n",
       "      <td>Delta Air</td>\n",
       "      <td>358</td>\n",
       "      <td>0.005249</td>\n",
       "      <td>0.964108</td>\n",
       "    </tr>\n",
       "    <tr>\n",
       "      <th>12</th>\n",
       "      <td>Air France</td>\n",
       "      <td>358</td>\n",
       "      <td>0.005249</td>\n",
       "      <td>0.969357</td>\n",
       "    </tr>\n",
       "    <tr>\n",
       "      <th>13</th>\n",
       "      <td>Aeromexico</td>\n",
       "      <td>351</td>\n",
       "      <td>0.005146</td>\n",
       "      <td>0.974503</td>\n",
       "    </tr>\n",
       "    <tr>\n",
       "      <th>14</th>\n",
       "      <td>United Airlines</td>\n",
       "      <td>335</td>\n",
       "      <td>0.004912</td>\n",
       "      <td>0.979415</td>\n",
       "    </tr>\n",
       "    <tr>\n",
       "      <th>15</th>\n",
       "      <td>Oceanair Linhas Aereas</td>\n",
       "      <td>279</td>\n",
       "      <td>0.004091</td>\n",
       "      <td>0.983506</td>\n",
       "    </tr>\n",
       "    <tr>\n",
       "      <th>16</th>\n",
       "      <td>Alitalia</td>\n",
       "      <td>259</td>\n",
       "      <td>0.003797</td>\n",
       "      <td>0.987303</td>\n",
       "    </tr>\n",
       "    <tr>\n",
       "      <th>17</th>\n",
       "      <td>K.L.M.</td>\n",
       "      <td>251</td>\n",
       "      <td>0.003680</td>\n",
       "      <td>0.990983</td>\n",
       "    </tr>\n",
       "    <tr>\n",
       "      <th>18</th>\n",
       "      <td>British Airways</td>\n",
       "      <td>205</td>\n",
       "      <td>0.003006</td>\n",
       "      <td>0.993989</td>\n",
       "    </tr>\n",
       "    <tr>\n",
       "      <th>19</th>\n",
       "      <td>Qantas Airways</td>\n",
       "      <td>195</td>\n",
       "      <td>0.002859</td>\n",
       "      <td>0.996848</td>\n",
       "    </tr>\n",
       "    <tr>\n",
       "      <th>20</th>\n",
       "      <td>Lacsa</td>\n",
       "      <td>92</td>\n",
       "      <td>0.001349</td>\n",
       "      <td>0.998197</td>\n",
       "    </tr>\n",
       "    <tr>\n",
       "      <th>21</th>\n",
       "      <td>Austral</td>\n",
       "      <td>74</td>\n",
       "      <td>0.001085</td>\n",
       "      <td>0.999282</td>\n",
       "    </tr>\n",
       "    <tr>\n",
       "      <th>22</th>\n",
       "      <td>Plus Ultra Lineas Aereas</td>\n",
       "      <td>49</td>\n",
       "      <td>0.000718</td>\n",
       "      <td>1.000000</td>\n",
       "    </tr>\n",
       "  </tbody>\n",
       "</table>\n",
       "</div>"
      ],
      "text/plain": [
       "                       OPERA  frequency  percentage  cumulative_perc\n",
       "0                Grupo LATAM      40892    0.599545         0.599545\n",
       "1                Sky Airline      14298    0.209633         0.809178\n",
       "2      Aerolineas Argentinas       1949    0.028576         0.837754\n",
       "3                   Copa Air       1850    0.027124         0.864878\n",
       "4       Latin American Wings       1673    0.024529         0.889407\n",
       "5                    Avianca       1152    0.016890         0.906297\n",
       "6               JetSmart SPA       1095    0.016055         0.922352\n",
       "7                  Gol Trans        806    0.011817         0.934169\n",
       "8          American Airlines        757    0.011099         0.945268\n",
       "9                 Air Canada        565    0.008284         0.953552\n",
       "10                    Iberia        362    0.005308         0.958859\n",
       "11                 Delta Air        358    0.005249         0.964108\n",
       "12                Air France        358    0.005249         0.969357\n",
       "13                Aeromexico        351    0.005146         0.974503\n",
       "14           United Airlines        335    0.004912         0.979415\n",
       "15    Oceanair Linhas Aereas        279    0.004091         0.983506\n",
       "16                  Alitalia        259    0.003797         0.987303\n",
       "17                    K.L.M.        251    0.003680         0.990983\n",
       "18           British Airways        205    0.003006         0.993989\n",
       "19            Qantas Airways        195    0.002859         0.996848\n",
       "20                     Lacsa         92    0.001349         0.998197\n",
       "21                   Austral         74    0.001085         0.999282\n",
       "22  Plus Ultra Lineas Aereas         49    0.000718         1.000000"
      ]
     },
     "execution_count": 50,
     "metadata": {},
     "output_type": "execute_result"
    }
   ],
   "source": [
    "opera = freq_tbl(data['OPERA'])\n",
    "plt.figure(figsize=(12,5))\n",
    "plt.bar(opera['OPERA'],opera['frequency'], color = '#ff721d')\n",
    "plt.xticks(rotation = 90)\n",
    "plt.xlabel('Aerolínea', labelpad=10)\n",
    "plt.ylabel('Frecuencia')\n",
    "plt.title('Frecuencia de aerolíneas que operan en año 2017')\n",
    "plt.show()\n",
    "opera"
   ]
  },
  {
   "cell_type": "code",
   "execution_count": 53,
   "id": "3d9611ab",
   "metadata": {},
   "outputs": [
    {
     "data": {
      "image/png": "[encoded data removed]",
      "text/plain": [
       "<Figure size 864x360 with 1 Axes>"
      ]
     },
     "metadata": {
      "needs_background": "light"
     },
     "output_type": "display_data"
    },
    {
     "data": {
      "text/html": [
       "<div>\n",
       "<style scoped>\n",
       "    .dataframe tbody tr th:only-of-type {\n",
       "        vertical-align: middle;\n",
       "    }\n",
       "\n",
       "    .dataframe tbody tr th {\n",
       "        vertical-align: top;\n",
       "    }\n",
       "\n",
       "    .dataframe thead th {\n",
       "        text-align: right;\n",
       "    }\n",
       "</style>\n",
       "<table border=\"1\" class=\"dataframe\">\n",
       "  <thead>\n",
       "    <tr style=\"text-align: right;\">\n",
       "      <th></th>\n",
       "      <th>Des-O</th>\n",
       "      <th>frequency</th>\n",
       "      <th>percentage</th>\n",
       "      <th>cumulative_perc</th>\n",
       "    </tr>\n",
       "  </thead>\n",
       "  <tbody>\n",
       "    <tr>\n",
       "      <th>0</th>\n",
       "      <td>SCFA</td>\n",
       "      <td>5786</td>\n",
       "      <td>0.084832</td>\n",
       "      <td>0.084832</td>\n",
       "    </tr>\n",
       "    <tr>\n",
       "      <th>1</th>\n",
       "      <td>SPJC</td>\n",
       "      <td>5269</td>\n",
       "      <td>0.077252</td>\n",
       "      <td>0.162085</td>\n",
       "    </tr>\n",
       "    <tr>\n",
       "      <th>2</th>\n",
       "      <td>SCCF</td>\n",
       "      <td>5146</td>\n",
       "      <td>0.075449</td>\n",
       "      <td>0.237534</td>\n",
       "    </tr>\n",
       "    <tr>\n",
       "      <th>3</th>\n",
       "      <td>SCTE</td>\n",
       "      <td>4357</td>\n",
       "      <td>0.063881</td>\n",
       "      <td>0.301415</td>\n",
       "    </tr>\n",
       "    <tr>\n",
       "      <th>4</th>\n",
       "      <td>SCIE</td>\n",
       "      <td>3993</td>\n",
       "      <td>0.058544</td>\n",
       "      <td>0.359959</td>\n",
       "    </tr>\n",
       "    <tr>\n",
       "      <th>...</th>\n",
       "      <td>...</td>\n",
       "      <td>...</td>\n",
       "      <td>...</td>\n",
       "      <td>...</td>\n",
       "    </tr>\n",
       "    <tr>\n",
       "      <th>58</th>\n",
       "      <td>SEQM</td>\n",
       "      <td>2</td>\n",
       "      <td>0.000029</td>\n",
       "      <td>0.999941</td>\n",
       "    </tr>\n",
       "    <tr>\n",
       "      <th>59</th>\n",
       "      <td>KIAD</td>\n",
       "      <td>1</td>\n",
       "      <td>0.000015</td>\n",
       "      <td>0.999956</td>\n",
       "    </tr>\n",
       "    <tr>\n",
       "      <th>60</th>\n",
       "      <td>SPSO</td>\n",
       "      <td>1</td>\n",
       "      <td>0.000015</td>\n",
       "      <td>0.999971</td>\n",
       "    </tr>\n",
       "    <tr>\n",
       "      <th>61</th>\n",
       "      <td>EGYP</td>\n",
       "      <td>1</td>\n",
       "      <td>0.000015</td>\n",
       "      <td>0.999985</td>\n",
       "    </tr>\n",
       "    <tr>\n",
       "      <th>62</th>\n",
       "      <td>SLCB</td>\n",
       "      <td>1</td>\n",
       "      <td>0.000015</td>\n",
       "      <td>1.000000</td>\n",
       "    </tr>\n",
       "  </tbody>\n",
       "</table>\n",
       "<p>63 rows × 4 columns</p>\n",
       "</div>"
      ],
      "text/plain": [
       "   Des-O  frequency  percentage  cumulative_perc\n",
       "0   SCFA       5786    0.084832         0.084832\n",
       "1   SPJC       5269    0.077252         0.162085\n",
       "2   SCCF       5146    0.075449         0.237534\n",
       "3   SCTE       4357    0.063881         0.301415\n",
       "4   SCIE       3993    0.058544         0.359959\n",
       "..   ...        ...         ...              ...\n",
       "58  SEQM          2    0.000029         0.999941\n",
       "59  KIAD          1    0.000015         0.999956\n",
       "60  SPSO          1    0.000015         0.999971\n",
       "61  EGYP          1    0.000015         0.999985\n",
       "62  SLCB          1    0.000015         1.000000\n",
       "\n",
       "[63 rows x 4 columns]"
      ]
     },
     "execution_count": 53,
     "metadata": {},
     "output_type": "execute_result"
    }
   ],
   "source": [
    "destinos_O = freq_tbl(data['Des-O'])\n",
    "plt.figure(figsize=(12,5))\n",
    "plt.bar(destinos_O['Des-O'],destinos_O['frequency'], color = '#FF5733')\n",
    "plt.xticks(rotation = 90)\n",
    "plt.xlabel('Destinos', labelpad=10)\n",
    "plt.ylabel('Frecuencia')\n",
    "plt.title('Frecuencia de cada destino operado')\n",
    "plt.show()\n",
    "destinos_O"
   ]
  },
  {
   "cell_type": "code",
   "execution_count": 54,
   "id": "903b3d0f",
   "metadata": {},
   "outputs": [
    {
     "data": {
      "text/plain": [
       "<AxesSubplot:xlabel='atraso_15', ylabel='count'>"
      ]
     },
     "execution_count": 54,
     "metadata": {},
     "output_type": "execute_result"
    },
    {
     "data": {
      "image/png": "[encoded data removed]",
      "text/plain": [
       "<Figure size 432x288 with 1 Axes>"
      ]
     },
     "metadata": {
      "needs_background": "light"
     },
     "output_type": "display_data"
    }
   ],
   "source": [
    "sns.countplot(data['atraso_15'])"
   ]
  },
  {
   "cell_type": "code",
   "execution_count": 55,
   "id": "551fcd1c",
   "metadata": {},
   "outputs": [
    {
     "data": {
      "image/png": "[encoded data removed]",
      "text/plain": [
       "<Figure size 720x504 with 1 Axes>"
      ]
     },
     "metadata": {
      "needs_background": "light"
     },
     "output_type": "display_data"
    }
   ],
   "source": [
    "delay_type = lambda x:((0,1)[x > 5],2)[x > 45]\n",
    "data['DELAY_LEVEL'] = data['dif_min'].apply(delay_type)\n",
    "fig = plt.figure(1, figsize=(10,7))\n",
    "ax = sns.countplot(y=\"OPERA\", hue='DELAY_LEVEL', data=data)\n",
    "plt.setp(ax.get_xticklabels(), fontsize=12, weight = 'normal', rotation = 0);\n",
    "plt.setp(ax.get_yticklabels(), fontsize=12, weight = 'bold', rotation = 0);\n",
    "ax.yaxis.label.set_visible(False)\n",
    "plt.xlabel('Cantidad de vuelos', fontsize=16, weight = 'bold', labelpad=10)\n",
    "\n",
    "\n",
    "L = plt.legend()\n",
    "L.get_texts()[0].set_text('(t < 5 min)')\n",
    "L.get_texts()[1].set_text('(5 < t < 45 min)')\n",
    "L.get_texts()[2].set_text('(t > 45 min)')\n",
    "plt.show()"
   ]
  },
  {
   "cell_type": "code",
   "execution_count": 56,
   "id": "f88c75ea",
   "metadata": {},
   "outputs": [
    {
     "data": {
      "image/png": "[encoded data removed]",
      "text/plain": [
       "<Figure size 864x648 with 2 Axes>"
      ]
     },
     "metadata": {
      "needs_background": "light"
     },
     "output_type": "display_data"
    }
   ],
   "source": [
    "corrmat = data.corr()\n",
    "f, ax = plt.subplots(figsize=(12, 9))\n",
    "sns.heatmap(corrmat, vmax=.8, square=True);\n",
    "plt.show()"
   ]
  },
  {
   "cell_type": "markdown",
   "id": "58be7f32",
   "metadata": {},
   "source": [
    "## Observación de tasas"
   ]
  },
  {
   "cell_type": "code",
   "execution_count": 58,
   "id": "d7f926d6",
   "metadata": {},
   "outputs": [
    {
     "data": {
      "text/html": [
       "<div>\n",
       "<style scoped>\n",
       "    .dataframe tbody tr th:only-of-type {\n",
       "        vertical-align: middle;\n",
       "    }\n",
       "\n",
       "    .dataframe tbody tr th {\n",
       "        vertical-align: top;\n",
       "    }\n",
       "\n",
       "    .dataframe thead th {\n",
       "        text-align: right;\n",
       "    }\n",
       "</style>\n",
       "<table border=\"1\" class=\"dataframe\">\n",
       "  <thead>\n",
       "    <tr style=\"text-align: right;\">\n",
       "      <th></th>\n",
       "      <th>Destino</th>\n",
       "      <th>Cant. de vuelos</th>\n",
       "      <th>Cant de vuelos atrasados</th>\n",
       "      <th>Tasa</th>\n",
       "    </tr>\n",
       "  </thead>\n",
       "  <tbody>\n",
       "    <tr>\n",
       "      <th>0</th>\n",
       "      <td>KMIA</td>\n",
       "      <td>1015</td>\n",
       "      <td>193</td>\n",
       "      <td>0.190148</td>\n",
       "    </tr>\n",
       "    <tr>\n",
       "      <th>1</th>\n",
       "      <td>KDFW</td>\n",
       "      <td>357</td>\n",
       "      <td>25</td>\n",
       "      <td>0.070028</td>\n",
       "    </tr>\n",
       "    <tr>\n",
       "      <th>2</th>\n",
       "      <td>SAEZ</td>\n",
       "      <td>3240</td>\n",
       "      <td>790</td>\n",
       "      <td>0.243827</td>\n",
       "    </tr>\n",
       "    <tr>\n",
       "      <th>3</th>\n",
       "      <td>CYYZ</td>\n",
       "      <td>283</td>\n",
       "      <td>89</td>\n",
       "      <td>0.314488</td>\n",
       "    </tr>\n",
       "    <tr>\n",
       "      <th>4</th>\n",
       "      <td>LFPG</td>\n",
       "      <td>359</td>\n",
       "      <td>31</td>\n",
       "      <td>0.086351</td>\n",
       "    </tr>\n",
       "    <tr>\n",
       "      <th>...</th>\n",
       "      <td>...</td>\n",
       "      <td>...</td>\n",
       "      <td>...</td>\n",
       "      <td>...</td>\n",
       "    </tr>\n",
       "    <tr>\n",
       "      <th>59</th>\n",
       "      <td>SAWH</td>\n",
       "      <td>6</td>\n",
       "      <td>4</td>\n",
       "      <td>0.666667</td>\n",
       "    </tr>\n",
       "    <tr>\n",
       "      <th>60</th>\n",
       "      <td>EGYP</td>\n",
       "      <td>1</td>\n",
       "      <td>1</td>\n",
       "      <td>1.000000</td>\n",
       "    </tr>\n",
       "    <tr>\n",
       "      <th>61</th>\n",
       "      <td>SULS</td>\n",
       "      <td>6</td>\n",
       "      <td>1</td>\n",
       "      <td>0.166667</td>\n",
       "    </tr>\n",
       "    <tr>\n",
       "      <th>62</th>\n",
       "      <td>SLCB</td>\n",
       "      <td>1</td>\n",
       "      <td>1</td>\n",
       "      <td>1.000000</td>\n",
       "    </tr>\n",
       "    <tr>\n",
       "      <th>63</th>\n",
       "      <td>SARI</td>\n",
       "      <td>1</td>\n",
       "      <td>0</td>\n",
       "      <td>0.000000</td>\n",
       "    </tr>\n",
       "  </tbody>\n",
       "</table>\n",
       "<p>64 rows × 4 columns</p>\n",
       "</div>"
      ],
      "text/plain": [
       "   Destino  Cant. de vuelos  Cant de vuelos atrasados      Tasa\n",
       "0     KMIA             1015                       193  0.190148\n",
       "1     KDFW              357                        25  0.070028\n",
       "2     SAEZ             3240                       790  0.243827\n",
       "3     CYYZ              283                        89  0.314488\n",
       "4     LFPG              359                        31  0.086351\n",
       "..     ...              ...                       ...       ...\n",
       "59    SAWH                6                         4  0.666667\n",
       "60    EGYP                1                         1  1.000000\n",
       "61    SULS                6                         1  0.166667\n",
       "62    SLCB                1                         1  1.000000\n",
       "63    SARI                1                         0  0.000000\n",
       "\n",
       "[64 rows x 4 columns]"
      ]
     },
     "execution_count": 58,
     "metadata": {},
     "output_type": "execute_result"
    }
   ],
   "source": [
    "destinos = data['Des-I'].unique().tolist()\n",
    "valores, atrasos, cantidad_total = calculo_tasas(data, destinos,'Des-I')\n",
    "des_i = pd.DataFrame({\n",
    "    'Destino':destinos,\n",
    "    'Cant. de vuelos':cantidad_total,\n",
    "    'Cant de vuelos atrasados':atrasos,\n",
    "    'Tasa':valores\n",
    "})\n",
    "des_i"
   ]
  },
  {
   "cell_type": "code",
   "execution_count": 61,
   "id": "8508fba4",
   "metadata": {},
   "outputs": [
    {
     "data": {
      "image/png": "[encoded data removed]",
      "text/plain": [
       "<Figure size 864x360 with 1 Axes>"
      ]
     },
     "metadata": {
      "needs_background": "light"
     },
     "output_type": "display_data"
    }
   ],
   "source": [
    "plt.figure(figsize=(12,5))\n",
    "plt.plot(des_i['Destino'],des_i['Tasa'],marker='d',linestyle='-', c = '#FF5733',markeredgecolor='#FF5733',markerfacecolor='#9999ff')\n",
    "plt.xticks(rotation = 90)\n",
    "plt.xlabel('Destino', labelpad=10)\n",
    "plt.ylabel('Tasa')\n",
    "plt.title('Tasa por destino, período 2017')\n",
    "plt.show()"
   ]
  },
  {
   "cell_type": "code",
   "execution_count": 128,
   "id": "2c628b8e",
   "metadata": {},
   "outputs": [
    {
     "data": {
      "text/html": [
       "<div>\n",
       "<style scoped>\n",
       "    .dataframe tbody tr th:only-of-type {\n",
       "        vertical-align: middle;\n",
       "    }\n",
       "\n",
       "    .dataframe tbody tr th {\n",
       "        vertical-align: top;\n",
       "    }\n",
       "\n",
       "    .dataframe thead th {\n",
       "        text-align: right;\n",
       "    }\n",
       "</style>\n",
       "<table border=\"1\" class=\"dataframe\">\n",
       "  <thead>\n",
       "    <tr style=\"text-align: right;\">\n",
       "      <th></th>\n",
       "      <th>Aerolínea</th>\n",
       "      <th>Cant. de vuelos</th>\n",
       "      <th>Cant de vuelos atrasados</th>\n",
       "      <th>Tasa</th>\n",
       "    </tr>\n",
       "  </thead>\n",
       "  <tbody>\n",
       "    <tr>\n",
       "      <th>0</th>\n",
       "      <td>AAL</td>\n",
       "      <td>757</td>\n",
       "      <td>51</td>\n",
       "      <td>0.067371</td>\n",
       "    </tr>\n",
       "    <tr>\n",
       "      <th>1</th>\n",
       "      <td>ACA</td>\n",
       "      <td>565</td>\n",
       "      <td>258</td>\n",
       "      <td>0.456637</td>\n",
       "    </tr>\n",
       "    <tr>\n",
       "      <th>2</th>\n",
       "      <td>AFR</td>\n",
       "      <td>358</td>\n",
       "      <td>30</td>\n",
       "      <td>0.083799</td>\n",
       "    </tr>\n",
       "    <tr>\n",
       "      <th>3</th>\n",
       "      <td>AMX</td>\n",
       "      <td>351</td>\n",
       "      <td>10</td>\n",
       "      <td>0.028490</td>\n",
       "    </tr>\n",
       "    <tr>\n",
       "      <th>4</th>\n",
       "      <td>ARG</td>\n",
       "      <td>1949</td>\n",
       "      <td>468</td>\n",
       "      <td>0.240123</td>\n",
       "    </tr>\n",
       "    <tr>\n",
       "      <th>5</th>\n",
       "      <td>AUT</td>\n",
       "      <td>74</td>\n",
       "      <td>15</td>\n",
       "      <td>0.202703</td>\n",
       "    </tr>\n",
       "    <tr>\n",
       "      <th>6</th>\n",
       "      <td>AVA</td>\n",
       "      <td>1152</td>\n",
       "      <td>306</td>\n",
       "      <td>0.265625</td>\n",
       "    </tr>\n",
       "    <tr>\n",
       "      <th>7</th>\n",
       "      <td>AZA</td>\n",
       "      <td>259</td>\n",
       "      <td>29</td>\n",
       "      <td>0.111969</td>\n",
       "    </tr>\n",
       "    <tr>\n",
       "      <th>8</th>\n",
       "      <td>BAW</td>\n",
       "      <td>205</td>\n",
       "      <td>29</td>\n",
       "      <td>0.141463</td>\n",
       "    </tr>\n",
       "    <tr>\n",
       "      <th>9</th>\n",
       "      <td>CMP</td>\n",
       "      <td>1850</td>\n",
       "      <td>116</td>\n",
       "      <td>0.062703</td>\n",
       "    </tr>\n",
       "    <tr>\n",
       "      <th>10</th>\n",
       "      <td>DAL</td>\n",
       "      <td>358</td>\n",
       "      <td>21</td>\n",
       "      <td>0.058659</td>\n",
       "    </tr>\n",
       "    <tr>\n",
       "      <th>11</th>\n",
       "      <td>GLO</td>\n",
       "      <td>806</td>\n",
       "      <td>287</td>\n",
       "      <td>0.356079</td>\n",
       "    </tr>\n",
       "    <tr>\n",
       "      <th>12</th>\n",
       "      <td>IBE</td>\n",
       "      <td>362</td>\n",
       "      <td>36</td>\n",
       "      <td>0.099448</td>\n",
       "    </tr>\n",
       "    <tr>\n",
       "      <th>13</th>\n",
       "      <td>KLM</td>\n",
       "      <td>251</td>\n",
       "      <td>21</td>\n",
       "      <td>0.083665</td>\n",
       "    </tr>\n",
       "    <tr>\n",
       "      <th>14</th>\n",
       "      <td>QFU</td>\n",
       "      <td>195</td>\n",
       "      <td>113</td>\n",
       "      <td>0.579487</td>\n",
       "    </tr>\n",
       "    <tr>\n",
       "      <th>15</th>\n",
       "      <td>UAL</td>\n",
       "      <td>335</td>\n",
       "      <td>17</td>\n",
       "      <td>0.050746</td>\n",
       "    </tr>\n",
       "    <tr>\n",
       "      <th>16</th>\n",
       "      <td>LAP</td>\n",
       "      <td>216</td>\n",
       "      <td>61</td>\n",
       "      <td>0.282407</td>\n",
       "    </tr>\n",
       "    <tr>\n",
       "      <th>17</th>\n",
       "      <td>TAM</td>\n",
       "      <td>3049</td>\n",
       "      <td>780</td>\n",
       "      <td>0.255822</td>\n",
       "    </tr>\n",
       "    <tr>\n",
       "      <th>18</th>\n",
       "      <td>SKU</td>\n",
       "      <td>14298</td>\n",
       "      <td>2540</td>\n",
       "      <td>0.177647</td>\n",
       "    </tr>\n",
       "    <tr>\n",
       "      <th>19</th>\n",
       "      <td>LAN</td>\n",
       "      <td>37611</td>\n",
       "      <td>6453</td>\n",
       "      <td>0.171572</td>\n",
       "    </tr>\n",
       "    <tr>\n",
       "      <th>20</th>\n",
       "      <td>LAW</td>\n",
       "      <td>1573</td>\n",
       "      <td>642</td>\n",
       "      <td>0.408137</td>\n",
       "    </tr>\n",
       "    <tr>\n",
       "      <th>21</th>\n",
       "      <td>JMR</td>\n",
       "      <td>100</td>\n",
       "      <td>39</td>\n",
       "      <td>0.390000</td>\n",
       "    </tr>\n",
       "    <tr>\n",
       "      <th>22</th>\n",
       "      <td>LXP</td>\n",
       "      <td>9</td>\n",
       "      <td>7</td>\n",
       "      <td>0.777778</td>\n",
       "    </tr>\n",
       "    <tr>\n",
       "      <th>23</th>\n",
       "      <td>LNE</td>\n",
       "      <td>1</td>\n",
       "      <td>1</td>\n",
       "      <td>1.000000</td>\n",
       "    </tr>\n",
       "    <tr>\n",
       "      <th>24</th>\n",
       "      <td>LPE</td>\n",
       "      <td>4</td>\n",
       "      <td>2</td>\n",
       "      <td>0.500000</td>\n",
       "    </tr>\n",
       "    <tr>\n",
       "      <th>25</th>\n",
       "      <td>DSM</td>\n",
       "      <td>2</td>\n",
       "      <td>2</td>\n",
       "      <td>1.000000</td>\n",
       "    </tr>\n",
       "    <tr>\n",
       "      <th>26</th>\n",
       "      <td>PUE</td>\n",
       "      <td>49</td>\n",
       "      <td>30</td>\n",
       "      <td>0.612245</td>\n",
       "    </tr>\n",
       "    <tr>\n",
       "      <th>27</th>\n",
       "      <td>JAT</td>\n",
       "      <td>1095</td>\n",
       "      <td>196</td>\n",
       "      <td>0.178995</td>\n",
       "    </tr>\n",
       "    <tr>\n",
       "      <th>28</th>\n",
       "      <td>ONE</td>\n",
       "      <td>279</td>\n",
       "      <td>43</td>\n",
       "      <td>0.154122</td>\n",
       "    </tr>\n",
       "    <tr>\n",
       "      <th>29</th>\n",
       "      <td>LRC</td>\n",
       "      <td>92</td>\n",
       "      <td>11</td>\n",
       "      <td>0.119565</td>\n",
       "    </tr>\n",
       "  </tbody>\n",
       "</table>\n",
       "</div>"
      ],
      "text/plain": [
       "   Aerolínea  Cant. de vuelos  Cant de vuelos atrasados      Tasa\n",
       "0        AAL              757                        51  0.067371\n",
       "1        ACA              565                       258  0.456637\n",
       "2        AFR              358                        30  0.083799\n",
       "3        AMX              351                        10  0.028490\n",
       "4        ARG             1949                       468  0.240123\n",
       "5        AUT               74                        15  0.202703\n",
       "6        AVA             1152                       306  0.265625\n",
       "7        AZA              259                        29  0.111969\n",
       "8        BAW              205                        29  0.141463\n",
       "9        CMP             1850                       116  0.062703\n",
       "10       DAL              358                        21  0.058659\n",
       "11       GLO              806                       287  0.356079\n",
       "12       IBE              362                        36  0.099448\n",
       "13       KLM              251                        21  0.083665\n",
       "14       QFU              195                       113  0.579487\n",
       "15       UAL              335                        17  0.050746\n",
       "16       LAP              216                        61  0.282407\n",
       "17       TAM             3049                       780  0.255822\n",
       "18       SKU            14298                      2540  0.177647\n",
       "19       LAN            37611                      6453  0.171572\n",
       "20       LAW             1573                       642  0.408137\n",
       "21       JMR              100                        39  0.390000\n",
       "22       LXP                9                         7  0.777778\n",
       "23       LNE                1                         1  1.000000\n",
       "24       LPE                4                         2  0.500000\n",
       "25       DSM                2                         2  1.000000\n",
       "26       PUE               49                        30  0.612245\n",
       "27       JAT             1095                       196  0.178995\n",
       "28       ONE              279                        43  0.154122\n",
       "29       LRC               92                        11  0.119565"
      ]
     },
     "execution_count": 128,
     "metadata": {},
     "output_type": "execute_result"
    }
   ],
   "source": [
    "aerolineas = data['Emp-I'].unique().tolist()\n",
    "valores, atrasos, cantidad_total = calculo_tasas(data, aerolineas,'Emp-I')\n",
    "aerolineas = pd.DataFrame({\n",
    "    'Aerolínea':aerolineas,\n",
    "    'Cant. de vuelos':cantidad_total,\n",
    "    'Cant de vuelos atrasados':atrasos,\n",
    "    'Tasa':valores\n",
    "})\n",
    "aerolineas"
   ]
  },
  {
   "cell_type": "code",
   "execution_count": 129,
   "id": "6af41d84",
   "metadata": {},
   "outputs": [
    {
     "data": {
      "image/png": "[encoded data removed]",
      "text/plain": [
       "<Figure size 864x360 with 1 Axes>"
      ]
     },
     "metadata": {
      "needs_background": "light"
     },
     "output_type": "display_data"
    }
   ],
   "source": [
    "plt.figure(figsize=(12,5))\n",
    "plt.plot(aerolineas['Aerolínea'],aerolineas['Tasa'],marker='d',linestyle='-', c = '#FF5733',markeredgecolor='#FF5733',markerfacecolor='#e51a4c')\n",
    "plt.xticks(rotation = 90)\n",
    "plt.xlabel('Aerolínea', labelpad=10)\n",
    "plt.ylabel('Tasa')\n",
    "plt.title('Tasa por Aerolínea, período 2017')\n",
    "plt.show()"
   ]
  },
  {
   "cell_type": "code",
   "execution_count": 130,
   "id": "263b2469",
   "metadata": {},
   "outputs": [
    {
     "data": {
      "text/html": [
       "<div>\n",
       "<style scoped>\n",
       "    .dataframe tbody tr th:only-of-type {\n",
       "        vertical-align: middle;\n",
       "    }\n",
       "\n",
       "    .dataframe tbody tr th {\n",
       "        vertical-align: top;\n",
       "    }\n",
       "\n",
       "    .dataframe thead th {\n",
       "        text-align: right;\n",
       "    }\n",
       "</style>\n",
       "<table border=\"1\" class=\"dataframe\">\n",
       "  <thead>\n",
       "    <tr style=\"text-align: right;\">\n",
       "      <th></th>\n",
       "      <th>Mes</th>\n",
       "      <th>Cant. de vuelos</th>\n",
       "      <th>Cant de vuelos atrasados</th>\n",
       "      <th>Tasa</th>\n",
       "    </tr>\n",
       "  </thead>\n",
       "  <tbody>\n",
       "    <tr>\n",
       "      <th>0</th>\n",
       "      <td>Enero</td>\n",
       "      <td>6107</td>\n",
       "      <td>979</td>\n",
       "      <td>0.160308</td>\n",
       "    </tr>\n",
       "    <tr>\n",
       "      <th>1</th>\n",
       "      <td>Febrero</td>\n",
       "      <td>5561</td>\n",
       "      <td>843</td>\n",
       "      <td>0.151591</td>\n",
       "    </tr>\n",
       "    <tr>\n",
       "      <th>2</th>\n",
       "      <td>Marzo</td>\n",
       "      <td>5480</td>\n",
       "      <td>629</td>\n",
       "      <td>0.114781</td>\n",
       "    </tr>\n",
       "    <tr>\n",
       "      <th>3</th>\n",
       "      <td>Abril</td>\n",
       "      <td>5021</td>\n",
       "      <td>586</td>\n",
       "      <td>0.116710</td>\n",
       "    </tr>\n",
       "    <tr>\n",
       "      <th>4</th>\n",
       "      <td>Mayo</td>\n",
       "      <td>5239</td>\n",
       "      <td>826</td>\n",
       "      <td>0.157664</td>\n",
       "    </tr>\n",
       "    <tr>\n",
       "      <th>5</th>\n",
       "      <td>Junio</td>\n",
       "      <td>4982</td>\n",
       "      <td>852</td>\n",
       "      <td>0.171016</td>\n",
       "    </tr>\n",
       "    <tr>\n",
       "      <th>6</th>\n",
       "      <td>Julio</td>\n",
       "      <td>5991</td>\n",
       "      <td>1758</td>\n",
       "      <td>0.293440</td>\n",
       "    </tr>\n",
       "    <tr>\n",
       "      <th>7</th>\n",
       "      <td>Agosto</td>\n",
       "      <td>5744</td>\n",
       "      <td>996</td>\n",
       "      <td>0.173398</td>\n",
       "    </tr>\n",
       "    <tr>\n",
       "      <th>8</th>\n",
       "      <td>Septiembre</td>\n",
       "      <td>5610</td>\n",
       "      <td>967</td>\n",
       "      <td>0.172371</td>\n",
       "    </tr>\n",
       "    <tr>\n",
       "      <th>9</th>\n",
       "      <td>Octubre</td>\n",
       "      <td>6032</td>\n",
       "      <td>1363</td>\n",
       "      <td>0.225962</td>\n",
       "    </tr>\n",
       "    <tr>\n",
       "      <th>10</th>\n",
       "      <td>Noviembre</td>\n",
       "      <td>6081</td>\n",
       "      <td>1200</td>\n",
       "      <td>0.197336</td>\n",
       "    </tr>\n",
       "    <tr>\n",
       "      <th>11</th>\n",
       "      <td>Diciembre</td>\n",
       "      <td>6357</td>\n",
       "      <td>1615</td>\n",
       "      <td>0.254051</td>\n",
       "    </tr>\n",
       "  </tbody>\n",
       "</table>\n",
       "</div>"
      ],
      "text/plain": [
       "           Mes  Cant. de vuelos  Cant de vuelos atrasados      Tasa\n",
       "0        Enero             6107                       979  0.160308\n",
       "1      Febrero             5561                       843  0.151591\n",
       "2        Marzo             5480                       629  0.114781\n",
       "3        Abril             5021                       586  0.116710\n",
       "4         Mayo             5239                       826  0.157664\n",
       "5        Junio             4982                       852  0.171016\n",
       "6        Julio             5991                      1758  0.293440\n",
       "7       Agosto             5744                       996  0.173398\n",
       "8   Septiembre             5610                       967  0.172371\n",
       "9      Octubre             6032                      1363  0.225962\n",
       "10   Noviembre             6081                      1200  0.197336\n",
       "11   Diciembre             6357                      1615  0.254051"
      ]
     },
     "execution_count": 130,
     "metadata": {},
     "output_type": "execute_result"
    }
   ],
   "source": [
    "meses = data['MESNOM'].unique().tolist()\n",
    "valores, atrasos, cantidad_total = calculo_tasas(data, meses,'MESNOM')\n",
    "mes_tasa = pd.DataFrame({\n",
    "    'Mes':meses,\n",
    "    'Cant. de vuelos':cantidad_total,\n",
    "    'Cant de vuelos atrasados':atrasos,\n",
    "    'Tasa':valores\n",
    "})\n",
    "mes_tasa"
   ]
  },
  {
   "cell_type": "code",
   "execution_count": 131,
   "id": "7bb18a99",
   "metadata": {},
   "outputs": [
    {
     "data": {
      "image/png": "[encoded data removed]",
      "text/plain": [
       "<Figure size 864x360 with 1 Axes>"
      ]
     },
     "metadata": {
      "needs_background": "light"
     },
     "output_type": "display_data"
    }
   ],
   "source": [
    "plt.figure(figsize=(12,5))\n",
    "plt.plot(mes_tasa['Mes'],mes_tasa['Tasa'],marker='d',linestyle='-', c = '#FF5733',markeredgecolor='#FF5733',markerfacecolor= '#6378ff')\n",
    "plt.xticks(rotation = 90)\n",
    "plt.xlabel('Mes', labelpad=10)\n",
    "plt.ylabel('Tasa')\n",
    "plt.title('Tasa por mes, período 2017')\n",
    "plt.show()"
   ]
  },
  {
   "cell_type": "markdown",
   "id": "c9d71c37",
   "metadata": {},
   "source": [
    " Es de interes observar que a pesar de existir distintas temporadas altas, la tasa de atrasos en el mes de julio es mucho mayor, lo que nos podría entregar información importante a la hora de pensar en que variables podrían afectar ese rango de fecha. Principalmente se plantea como Hipotesis que afecten las condiciones climaticas de le fecha."
   ]
  },
  {
   "cell_type": "code",
   "execution_count": 132,
   "id": "32064bd0",
   "metadata": {},
   "outputs": [
    {
     "data": {
      "text/html": [
       "<div>\n",
       "<style scoped>\n",
       "    .dataframe tbody tr th:only-of-type {\n",
       "        vertical-align: middle;\n",
       "    }\n",
       "\n",
       "    .dataframe tbody tr th {\n",
       "        vertical-align: top;\n",
       "    }\n",
       "\n",
       "    .dataframe thead th {\n",
       "        text-align: right;\n",
       "    }\n",
       "</style>\n",
       "<table border=\"1\" class=\"dataframe\">\n",
       "  <thead>\n",
       "    <tr style=\"text-align: right;\">\n",
       "      <th></th>\n",
       "      <th>Día</th>\n",
       "      <th>N Vuelos</th>\n",
       "      <th>N Vuelos atrasados</th>\n",
       "      <th>Tasa</th>\n",
       "    </tr>\n",
       "  </thead>\n",
       "  <tbody>\n",
       "    <tr>\n",
       "      <th>0</th>\n",
       "      <td>Domingo</td>\n",
       "      <td>9796</td>\n",
       "      <td>1578</td>\n",
       "      <td>0.161086</td>\n",
       "    </tr>\n",
       "    <tr>\n",
       "      <th>1</th>\n",
       "      <td>Lunes</td>\n",
       "      <td>10131</td>\n",
       "      <td>2048</td>\n",
       "      <td>0.202152</td>\n",
       "    </tr>\n",
       "    <tr>\n",
       "      <th>2</th>\n",
       "      <td>Martes</td>\n",
       "      <td>9662</td>\n",
       "      <td>1634</td>\n",
       "      <td>0.169116</td>\n",
       "    </tr>\n",
       "    <tr>\n",
       "      <th>3</th>\n",
       "      <td>Miercoles</td>\n",
       "      <td>9722</td>\n",
       "      <td>1661</td>\n",
       "      <td>0.170850</td>\n",
       "    </tr>\n",
       "    <tr>\n",
       "      <th>4</th>\n",
       "      <td>Jueves</td>\n",
       "      <td>10250</td>\n",
       "      <td>2045</td>\n",
       "      <td>0.199512</td>\n",
       "    </tr>\n",
       "    <tr>\n",
       "      <th>5</th>\n",
       "      <td>Sabado</td>\n",
       "      <td>8352</td>\n",
       "      <td>1363</td>\n",
       "      <td>0.163194</td>\n",
       "    </tr>\n",
       "    <tr>\n",
       "      <th>6</th>\n",
       "      <td>Viernes</td>\n",
       "      <td>10292</td>\n",
       "      <td>2285</td>\n",
       "      <td>0.222017</td>\n",
       "    </tr>\n",
       "  </tbody>\n",
       "</table>\n",
       "</div>"
      ],
      "text/plain": [
       "         Día  N Vuelos  N Vuelos atrasados      Tasa\n",
       "0    Domingo      9796                1578  0.161086\n",
       "1      Lunes     10131                2048  0.202152\n",
       "2     Martes      9662                1634  0.169116\n",
       "3  Miercoles      9722                1661  0.170850\n",
       "4     Jueves     10250                2045  0.199512\n",
       "5     Sabado      8352                1363  0.163194\n",
       "6    Viernes     10292                2285  0.222017"
      ]
     },
     "execution_count": 132,
     "metadata": {},
     "output_type": "execute_result"
    }
   ],
   "source": [
    "dias_semana = data['DIANOM'].unique().tolist()\n",
    "valores, atrasos, cantidad_total = calculo_tasas(data, dias_semana,'DIANOM')\n",
    "dia_tasa = pd.DataFrame({\n",
    "    'Día':dias_semana,\n",
    "    'N Vuelos':cantidad_total,\n",
    "    'N Vuelos atrasados':atrasos,\n",
    "    'Tasa':valores\n",
    "})\n",
    "dia_tasa"
   ]
  },
  {
   "cell_type": "code",
   "execution_count": 133,
   "id": "22b6a632",
   "metadata": {},
   "outputs": [
    {
     "data": {
      "image/png": "[encoded data removed]",
      "text/plain": [
       "<Figure size 864x360 with 1 Axes>"
      ]
     },
     "metadata": {
      "needs_background": "light"
     },
     "output_type": "display_data"
    }
   ],
   "source": [
    "plt.figure(figsize=(12,5))\n",
    "plt.plot(dia_tasa['Día'],dia_tasa['Tasa'],marker='d',linestyle='-', c = '#a40017',markeredgecolor='#FF5733',markerfacecolor= '#FF5733')\n",
    "plt.xticks(rotation = 90)\n",
    "plt.xlabel('Día', labelpad=10)\n",
    "plt.ylabel('Tasa')\n",
    "plt.title('Tasa por día de la semana, período 2017')\n",
    "plt.show()"
   ]
  },
  {
   "cell_type": "code",
   "execution_count": 134,
   "id": "7c17202e",
   "metadata": {},
   "outputs": [],
   "source": [
    "temporada = data['temporada_alta'].unique().tolist()\n",
    "valores, atrasos, cantidad_total = calculo_tasas(data, temporada,'temporada_alta')\n",
    "temporada_tasa = pd.DataFrame({\n",
    "    'temporada':temporada,\n",
    "    'N Vuelos':cantidad_total,\n",
    "    'N Vuelos atrasados':atrasos,\n",
    "    'Tasa':valores\n",
    "})"
   ]
  },
  {
   "cell_type": "code",
   "execution_count": 135,
   "id": "f701edaa",
   "metadata": {},
   "outputs": [
    {
     "data": {
      "text/html": [
       "<div>\n",
       "<style scoped>\n",
       "    .dataframe tbody tr th:only-of-type {\n",
       "        vertical-align: middle;\n",
       "    }\n",
       "\n",
       "    .dataframe tbody tr th {\n",
       "        vertical-align: top;\n",
       "    }\n",
       "\n",
       "    .dataframe thead th {\n",
       "        text-align: right;\n",
       "    }\n",
       "</style>\n",
       "<table border=\"1\" class=\"dataframe\">\n",
       "  <thead>\n",
       "    <tr style=\"text-align: right;\">\n",
       "      <th></th>\n",
       "      <th>temporada</th>\n",
       "      <th>N Vuelos</th>\n",
       "      <th>N Vuelos atrasados</th>\n",
       "      <th>Tasa</th>\n",
       "    </tr>\n",
       "  </thead>\n",
       "  <tbody>\n",
       "    <tr>\n",
       "      <th>0</th>\n",
       "      <td>1</td>\n",
       "      <td>22761</td>\n",
       "      <td>4470</td>\n",
       "      <td>0.196389</td>\n",
       "    </tr>\n",
       "    <tr>\n",
       "      <th>1</th>\n",
       "      <td>0</td>\n",
       "      <td>45444</td>\n",
       "      <td>8144</td>\n",
       "      <td>0.179210</td>\n",
       "    </tr>\n",
       "  </tbody>\n",
       "</table>\n",
       "</div>"
      ],
      "text/plain": [
       "   temporada  N Vuelos  N Vuelos atrasados      Tasa\n",
       "0          1     22761                4470  0.196389\n",
       "1          0     45444                8144  0.179210"
      ]
     },
     "execution_count": 135,
     "metadata": {},
     "output_type": "execute_result"
    }
   ],
   "source": [
    "temporada_tasa"
   ]
  },
  {
   "cell_type": "code",
   "execution_count": 136,
   "id": "0b44d38b",
   "metadata": {},
   "outputs": [],
   "source": [
    "tipovuelo = data['TIPOVUELO'].unique().tolist()\n",
    "valores, atrasos, cantidad_total = calculo_tasas(data, tipovuelo,'TIPOVUELO')\n",
    "tipovuelo_tasa = pd.DataFrame({\n",
    "    'Tipo de Vuelo':tipovuelo,\n",
    "    'N Vuelos':cantidad_total,\n",
    "    'N Vuelos atrasados':atrasos,\n",
    "    'Tasa':valores\n",
    "})"
   ]
  },
  {
   "cell_type": "code",
   "execution_count": 137,
   "id": "65e5bd24",
   "metadata": {},
   "outputs": [
    {
     "data": {
      "text/html": [
       "<div>\n",
       "<style scoped>\n",
       "    .dataframe tbody tr th:only-of-type {\n",
       "        vertical-align: middle;\n",
       "    }\n",
       "\n",
       "    .dataframe tbody tr th {\n",
       "        vertical-align: top;\n",
       "    }\n",
       "\n",
       "    .dataframe thead th {\n",
       "        text-align: right;\n",
       "    }\n",
       "</style>\n",
       "<table border=\"1\" class=\"dataframe\">\n",
       "  <thead>\n",
       "    <tr style=\"text-align: right;\">\n",
       "      <th></th>\n",
       "      <th>Tipo de Vuelo</th>\n",
       "      <th>N Vuelos</th>\n",
       "      <th>N Vuelos atrasados</th>\n",
       "      <th>Tasa</th>\n",
       "    </tr>\n",
       "  </thead>\n",
       "  <tbody>\n",
       "    <tr>\n",
       "      <th>0</th>\n",
       "      <td>I</td>\n",
       "      <td>31239</td>\n",
       "      <td>7048</td>\n",
       "      <td>0.225615</td>\n",
       "    </tr>\n",
       "    <tr>\n",
       "      <th>1</th>\n",
       "      <td>N</td>\n",
       "      <td>36966</td>\n",
       "      <td>5566</td>\n",
       "      <td>0.150571</td>\n",
       "    </tr>\n",
       "  </tbody>\n",
       "</table>\n",
       "</div>"
      ],
      "text/plain": [
       "  Tipo de Vuelo  N Vuelos  N Vuelos atrasados      Tasa\n",
       "0             I     31239                7048  0.225615\n",
       "1             N     36966                5566  0.150571"
      ]
     },
     "execution_count": 137,
     "metadata": {},
     "output_type": "execute_result"
    }
   ],
   "source": [
    "tipovuelo_tasa"
   ]
  },
  {
   "cell_type": "markdown",
   "id": "b44fadcc",
   "metadata": {},
   "source": [
    "En base al previo analisis de las tasas de los vuelos, se puede considerar que las variables mas influyentes en la predicción del modelo podrían ser el destino programado, la aerolinea del vuelo, el mes en el que se programa el vuelo y el dia de la semana en que se pograma el vuelo. Por su parte la variable temporada que se esperaria afectara en gran manera al atraso de un vuelo no posee un gran impacto, dado que las tasas se mantienen estables en los diferentes periodos en donde se encuentra una temporada alta. No obstante si se puede observar que en los meses de pertenecientes a invierno se observan tasas mayores lo que si podría indicar que el clima es bastante incidente en el atraso de un vuelo. \n"
   ]
  },
  {
   "cell_type": "markdown",
   "id": "8c60c18a",
   "metadata": {},
   "source": [
    "# Modelos "
   ]
  },
  {
   "cell_type": "code",
   "execution_count": 237,
   "id": "a794c9f3",
   "metadata": {},
   "outputs": [],
   "source": [
    "# Definimos las variables que vamos a utilizar para el modelo predictivo\n",
    "\n",
    "datos = data[['atraso_15', 'DIA', 'MES', 'DIANOM',\n",
    "       'OPERA', 'SIGLADES', 'TIPOVUELO','holiday','temporada_alta', 'periodo_dia']]"
   ]
  },
  {
   "cell_type": "code",
   "execution_count": 238,
   "id": "0f97a2b3",
   "metadata": {},
   "outputs": [
    {
     "name": "stdout",
     "output_type": "stream",
     "text": [
      "<class 'pandas.core.frame.DataFrame'>\n",
      "RangeIndex: 68206 entries, 0 to 68205\n",
      "Data columns (total 10 columns):\n",
      " #   Column          Non-Null Count  Dtype \n",
      "---  ------          --------------  ----- \n",
      " 0   atraso_15       68206 non-null  bool  \n",
      " 1   DIA             68206 non-null  int64 \n",
      " 2   MES             68206 non-null  int64 \n",
      " 3   DIANOM          68206 non-null  object\n",
      " 4   OPERA           68206 non-null  object\n",
      " 5   SIGLADES        68206 non-null  object\n",
      " 6   TIPOVUELO       68206 non-null  object\n",
      " 7   holiday         68206 non-null  int32 \n",
      " 8   temporada_alta  68206 non-null  int32 \n",
      " 9   periodo_dia     68206 non-null  object\n",
      "dtypes: bool(1), int32(2), int64(2), object(5)\n",
      "memory usage: 4.2+ MB\n"
     ]
    }
   ],
   "source": [
    "datos.info()"
   ]
  },
  {
   "cell_type": "code",
   "execution_count": 239,
   "id": "1ac47fe2",
   "metadata": {},
   "outputs": [],
   "source": [
    "#from imblearn.over_sampling import SMOTE -- Se descarta por poco impacto en resultados.\n",
    "#pip install imblearn\n",
    "\n",
    "#Selección de variable objetivo.\n",
    "\n",
    "y= datos[\"atraso_15\"]\n",
    "X= datos.drop(columns=['atraso_15'])\n"
   ]
  },
  {
   "cell_type": "markdown",
   "id": "31e142ce",
   "metadata": {},
   "source": [
    "Transformación a conjunto entrenamiento y prueba, junto con la transformación de las variables categoricas."
   ]
  },
  {
   "cell_type": "code",
   "execution_count": 240,
   "id": "8f6f77db",
   "metadata": {},
   "outputs": [],
   "source": [
    "X_train, X_test, y_train, y_test = train_test_split(X,y,test_size=0.3, random_state=0)\n",
    "\n",
    "categoricas= X_train.select_dtypes(include=['object','category']).columns.to_list()\n",
    "numericas= X_train.select_dtypes(include=['int64','category']).columns.to_list()"
   ]
  },
  {
   "cell_type": "code",
   "execution_count": 241,
   "id": "efa000ce",
   "metadata": {},
   "outputs": [
    {
     "name": "stderr",
     "output_type": "stream",
     "text": [
      "C:\\Users\\mbustamf\\Anaconda3\\lib\\site-packages\\sklearn\\utils\\deprecation.py:87: FutureWarning: Function get_feature_names is deprecated; get_feature_names is deprecated in 1.0 and will be removed in 1.2. Please use get_feature_names_out instead.\n",
      "  warnings.warn(msg, category=FutureWarning)\n"
     ]
    }
   ],
   "source": [
    "columnTransformer = ColumnTransformer([(\"encoder\", OneHotEncoder(handle_unknown = 'ignore'),categoricas)],remainder=\"passthrough\")\n",
    "\n",
    "X_train=columnTransformer.fit_transform(X_train)\n",
    "X_test=columnTransformer.transform(X_test)\n",
    "\n",
    "encoded=columnTransformer.named_transformers_['encoder'].get_feature_names(categoricas)"
   ]
  },
  {
   "cell_type": "markdown",
   "id": "661e8672",
   "metadata": {},
   "source": [
    "### Primer modelo Regresión logistica. "
   ]
  },
  {
   "cell_type": "code",
   "execution_count": 242,
   "id": "b8a57152",
   "metadata": {},
   "outputs": [
    {
     "name": "stderr",
     "output_type": "stream",
     "text": [
      "[Parallel(n_jobs=-1)]: Using backend LokyBackend with 8 concurrent workers.\n"
     ]
    },
    {
     "name": "stdout",
     "output_type": "stream",
     "text": [
      "Data test:\n",
      "\n",
      "Precision ---> 81.55116801876649 %\n",
      "Reporte completo\n",
      "                   False         True  accuracy     macro avg  weighted avg\n",
      "precision      0.817917     0.586854  0.815512      0.702386      0.774871\n",
      "recall         0.994715     0.032791  0.815512      0.513753      0.815512\n",
      "f1-score       0.897694     0.062112  0.815512      0.479903      0.742028\n",
      "support    16650.000000  3812.000000  0.815512  20462.000000  20462.000000\n",
      "Matriz de confusión:\n",
      " [[16562    88]\n",
      " [ 3687   125]]\n",
      "Roc score ---> 0.5137529502219953\n",
      "Acc score ---> 0.815511680187665\n"
     ]
    },
    {
     "name": "stderr",
     "output_type": "stream",
     "text": [
      "[Parallel(n_jobs=-1)]: Done   1 out of   1 | elapsed:    0.8s finished\n"
     ]
    }
   ],
   "source": [
    "#Instantizing Model\n",
    "lr_model_final = LogisticRegression(C=1.0,n_jobs=-1,verbose=1, random_state=154)\n",
    "\n",
    "#training\n",
    "lr_model_final.fit(X_train, y_train)\n",
    "print_score(lr_model_final, X_train, y_train, X_test, y_test,\"Logistic Regression\", train=False,add=True)"
   ]
  },
  {
   "cell_type": "markdown",
   "id": "f5d82c38",
   "metadata": {},
   "source": [
    "### Segundo modelo Decision Tree. "
   ]
  },
  {
   "cell_type": "code",
   "execution_count": 243,
   "id": "97f0085f",
   "metadata": {},
   "outputs": [
    {
     "data": {
      "text/html": [
       "<style>#sk-container-id-7 {color: black;background-color: white;}#sk-container-id-7 pre{padding: 0;}#sk-container-id-7 div.sk-toggleable {background-color: white;}#sk-container-id-7 label.sk-toggleable__label {cursor: pointer;display: block;width: 100%;margin-bottom: 0;padding: 0.3em;box-sizing: border-box;text-align: center;}#sk-container-id-7 label.sk-toggleable__label-arrow:before {content: \"▸\";float: left;margin-right: 0.25em;color: #696969;}#sk-container-id-7 label.sk-toggleable__label-arrow:hover:before {color: black;}#sk-container-id-7 div.sk-estimator:hover label.sk-toggleable__label-arrow:before {color: black;}#sk-container-id-7 div.sk-toggleable__content {max-height: 0;max-width: 0;overflow: hidden;text-align: left;background-color: #f0f8ff;}#sk-container-id-7 div.sk-toggleable__content pre {margin: 0.2em;color: black;border-radius: 0.25em;background-color: #f0f8ff;}#sk-container-id-7 input.sk-toggleable__control:checked~div.sk-toggleable__content {max-height: 200px;max-width: 100%;overflow: auto;}#sk-container-id-7 input.sk-toggleable__control:checked~label.sk-toggleable__label-arrow:before {content: \"▾\";}#sk-container-id-7 div.sk-estimator input.sk-toggleable__control:checked~label.sk-toggleable__label {background-color: #d4ebff;}#sk-container-id-7 div.sk-label input.sk-toggleable__control:checked~label.sk-toggleable__label {background-color: #d4ebff;}#sk-container-id-7 input.sk-hidden--visually {border: 0;clip: rect(1px 1px 1px 1px);clip: rect(1px, 1px, 1px, 1px);height: 1px;margin: -1px;overflow: hidden;padding: 0;position: absolute;width: 1px;}#sk-container-id-7 div.sk-estimator {font-family: monospace;background-color: #f0f8ff;border: 1px dotted black;border-radius: 0.25em;box-sizing: border-box;margin-bottom: 0.5em;}#sk-container-id-7 div.sk-estimator:hover {background-color: #d4ebff;}#sk-container-id-7 div.sk-parallel-item::after {content: \"\";width: 100%;border-bottom: 1px solid gray;flex-grow: 1;}#sk-container-id-7 div.sk-label:hover label.sk-toggleable__label {background-color: #d4ebff;}#sk-container-id-7 div.sk-serial::before {content: \"\";position: absolute;border-left: 1px solid gray;box-sizing: border-box;top: 0;bottom: 0;left: 50%;z-index: 0;}#sk-container-id-7 div.sk-serial {display: flex;flex-direction: column;align-items: center;background-color: white;padding-right: 0.2em;padding-left: 0.2em;position: relative;}#sk-container-id-7 div.sk-item {position: relative;z-index: 1;}#sk-container-id-7 div.sk-parallel {display: flex;align-items: stretch;justify-content: center;background-color: white;position: relative;}#sk-container-id-7 div.sk-item::before, #sk-container-id-7 div.sk-parallel-item::before {content: \"\";position: absolute;border-left: 1px solid gray;box-sizing: border-box;top: 0;bottom: 0;left: 50%;z-index: -1;}#sk-container-id-7 div.sk-parallel-item {display: flex;flex-direction: column;z-index: 1;position: relative;background-color: white;}#sk-container-id-7 div.sk-parallel-item:first-child::after {align-self: flex-end;width: 50%;}#sk-container-id-7 div.sk-parallel-item:last-child::after {align-self: flex-start;width: 50%;}#sk-container-id-7 div.sk-parallel-item:only-child::after {width: 0;}#sk-container-id-7 div.sk-dashed-wrapped {border: 1px dashed gray;margin: 0 0.4em 0.5em 0.4em;box-sizing: border-box;padding-bottom: 0.4em;background-color: white;}#sk-container-id-7 div.sk-label label {font-family: monospace;font-weight: bold;display: inline-block;line-height: 1.2em;}#sk-container-id-7 div.sk-label-container {text-align: center;}#sk-container-id-7 div.sk-container {/* jupyter's `normalize.less` sets `[hidden] { display: none; }` but bootstrap.min.css set `[hidden] { display: none !important; }` so we also need the `!important` here to be able to override the default hidden behavior on the sphinx rendered scikit-learn.org. See: https://github.com/scikit-learn/scikit-learn/issues/21755 */display: inline-block !important;position: relative;}#sk-container-id-7 div.sk-text-repr-fallback {display: none;}</style><div id=\"sk-container-id-7\" class=\"sk-top-container\"><div class=\"sk-text-repr-fallback\"><pre>DecisionTreeClassifier(criterion=&#x27;entropy&#x27;, max_depth=16, random_state=40)</pre><b>In a Jupyter environment, please rerun this cell to show the HTML representation or trust the notebook. <br />On GitHub, the HTML representation is unable to render, please try loading this page with nbviewer.org.</b></div><div class=\"sk-container\" hidden><div class=\"sk-item\"><div class=\"sk-estimator sk-toggleable\"><input class=\"sk-toggleable__control sk-hidden--visually\" id=\"sk-estimator-id-7\" type=\"checkbox\" checked><label for=\"sk-estimator-id-7\" class=\"sk-toggleable__label sk-toggleable__label-arrow\">DecisionTreeClassifier</label><div class=\"sk-toggleable__content\"><pre>DecisionTreeClassifier(criterion=&#x27;entropy&#x27;, max_depth=16, random_state=40)</pre></div></div></div></div></div>"
      ],
      "text/plain": [
       "DecisionTreeClassifier(criterion='entropy', max_depth=16, random_state=40)"
      ]
     },
     "execution_count": 243,
     "metadata": {},
     "output_type": "execute_result"
    }
   ],
   "source": [
    "DecisionTreeClassifierModel = DecisionTreeClassifier(criterion='entropy',max_depth=16,random_state=40)\n",
    "DecisionTreeClassifierModel.fit(X_train, y_train)"
   ]
  },
  {
   "cell_type": "code",
   "execution_count": 244,
   "id": "2da03340",
   "metadata": {},
   "outputs": [
    {
     "data": {
      "image/png": "[encoded data removed]",
      "text/plain": [
       "<Figure size 432x288 with 2 Axes>"
      ]
     },
     "metadata": {
      "needs_background": "light"
     },
     "output_type": "display_data"
    },
    {
     "name": "stdout",
     "output_type": "stream",
     "text": [
      "Confusion Matrix is\n",
      " [[15810   840]\n",
      " [ 3152   660]]\n",
      "Data test:\n",
      "\n",
      "Precision ---> 80.49066562408368 %\n",
      "Reporte completo\n",
      "                   False         True  accuracy     macro avg  weighted avg\n",
      "precision      0.833773     0.440000  0.804907      0.636886      0.760414\n",
      "recall         0.949550     0.173137  0.804907      0.561344      0.804907\n",
      "f1-score       0.887903     0.248494  0.804907      0.568198      0.768783\n",
      "support    16650.000000  3812.000000  0.804907  20462.000000  20462.000000\n",
      "Matriz de confusión:\n",
      " [[15810   840]\n",
      " [ 3152   660]]\n",
      "Roc score ---> 0.5613435051000634\n",
      "Acc score ---> 0.8049066562408367\n",
      "DecisionTreeClassifierModel Test Score is :  0.8049066562408367\n"
     ]
    }
   ],
   "source": [
    "y_pred_DT = DecisionTreeClassifierModel.predict(X_test)\n",
    "\n",
    "CM_DT = confusion_matrix(y_test, y_pred_DT)\n",
    "sns.heatmap(CM_DT, center=True)\n",
    "plt.show()\n",
    "\n",
    "print('Confusion Matrix is\\n', CM_DT)\n",
    "print_score(DecisionTreeClassifierModel, X_train, y_train, X_test, y_test,\"Decision Tree\", train=False,add=True)\n",
    "print('DecisionTreeClassifierModel Test Score is : ' , DecisionTreeClassifierModel.score(X_test, y_test))"
   ]
  },
  {
   "cell_type": "markdown",
   "id": "86c03945",
   "metadata": {},
   "source": [
    "### Tercer modelo Random Forest. "
   ]
  },
  {
   "cell_type": "code",
   "execution_count": 245,
   "id": "cc504f2d",
   "metadata": {},
   "outputs": [
    {
     "name": "stdout",
     "output_type": "stream",
     "text": [
      "RandomForestClassifierModel Train Score is :  0.840063672922252\n",
      "RandomForestClassifierModel Test Score is :  0.8177108787019841\n"
     ]
    }
   ],
   "source": [
    "RandomForestClassifierModel = RandomForestClassifier(criterion = 'entropy', max_depth=18, n_estimators=400, random_state=44)\n",
    "RandomForestClassifierModel.fit(X_train, y_train)\n",
    "\n",
    "print('RandomForestClassifierModel Train Score is : ' , RandomForestClassifierModel.score(X_train, y_train))\n",
    "print('RandomForestClassifierModel Test Score is : ' , RandomForestClassifierModel.score(X_test, y_test))"
   ]
  },
  {
   "cell_type": "code",
   "execution_count": 246,
   "id": "03062e4d",
   "metadata": {},
   "outputs": [
    {
     "data": {
      "image/png": "[encoded data removed]",
      "text/plain": [
       "<Figure size 432x288 with 2 Axes>"
      ]
     },
     "metadata": {
      "needs_background": "light"
     },
     "output_type": "display_data"
    },
    {
     "name": "stdout",
     "output_type": "stream",
     "text": [
      "Confusion Matrix is\n",
      " [[16501   149]\n",
      " [ 3581   231]]\n",
      "Data test:\n",
      "\n",
      "Precision ---> 81.77108787019841 %\n",
      "Reporte completo\n",
      "                   False         True  accuracy     macro avg  weighted avg\n",
      "precision      0.821681     0.607895  0.817711      0.714788      0.781853\n",
      "recall         0.991051     0.060598  0.817711      0.525825      0.817711\n",
      "f1-score       0.898454     0.110210  0.817711      0.504332      0.751607\n",
      "support    16650.000000  3812.000000  0.817711  20462.000000  20462.000000\n",
      "Matriz de confusión:\n",
      " [[16501   149]\n",
      " [ 3581   231]]\n",
      "Roc score ---> 0.5258245811393766\n",
      "Acc score ---> 0.8177108787019841\n"
     ]
    }
   ],
   "source": [
    "y_pred_RF = RandomForestClassifierModel.predict(X_test)\n",
    "CM_RF = confusion_matrix(y_test, y_pred_RF)\n",
    "\n",
    "sns.heatmap(CM_RF, center=True)\n",
    "plt.show()\n",
    "\n",
    "print('Confusion Matrix is\\n', CM_RF)\n",
    "print_score(RandomForestClassifierModel, X_train, y_train, X_test, y_test,\"Random Forest\", train=False,add=True)"
   ]
  },
  {
   "cell_type": "markdown",
   "id": "d331c3fb",
   "metadata": {},
   "source": [
    "## 4to modelo XGB"
   ]
  },
  {
   "cell_type": "code",
   "execution_count": 249,
   "id": "951a2024",
   "metadata": {},
   "outputs": [
    {
     "data": {
      "text/html": [
       "<style>#sk-container-id-9 {color: black;background-color: white;}#sk-container-id-9 pre{padding: 0;}#sk-container-id-9 div.sk-toggleable {background-color: white;}#sk-container-id-9 label.sk-toggleable__label {cursor: pointer;display: block;width: 100%;margin-bottom: 0;padding: 0.3em;box-sizing: border-box;text-align: center;}#sk-container-id-9 label.sk-toggleable__label-arrow:before {content: \"▸\";float: left;margin-right: 0.25em;color: #696969;}#sk-container-id-9 label.sk-toggleable__label-arrow:hover:before {color: black;}#sk-container-id-9 div.sk-estimator:hover label.sk-toggleable__label-arrow:before {color: black;}#sk-container-id-9 div.sk-toggleable__content {max-height: 0;max-width: 0;overflow: hidden;text-align: left;background-color: #f0f8ff;}#sk-container-id-9 div.sk-toggleable__content pre {margin: 0.2em;color: black;border-radius: 0.25em;background-color: #f0f8ff;}#sk-container-id-9 input.sk-toggleable__control:checked~div.sk-toggleable__content {max-height: 200px;max-width: 100%;overflow: auto;}#sk-container-id-9 input.sk-toggleable__control:checked~label.sk-toggleable__label-arrow:before {content: \"▾\";}#sk-container-id-9 div.sk-estimator input.sk-toggleable__control:checked~label.sk-toggleable__label {background-color: #d4ebff;}#sk-container-id-9 div.sk-label input.sk-toggleable__control:checked~label.sk-toggleable__label {background-color: #d4ebff;}#sk-container-id-9 input.sk-hidden--visually {border: 0;clip: rect(1px 1px 1px 1px);clip: rect(1px, 1px, 1px, 1px);height: 1px;margin: -1px;overflow: hidden;padding: 0;position: absolute;width: 1px;}#sk-container-id-9 div.sk-estimator {font-family: monospace;background-color: #f0f8ff;border: 1px dotted black;border-radius: 0.25em;box-sizing: border-box;margin-bottom: 0.5em;}#sk-container-id-9 div.sk-estimator:hover {background-color: #d4ebff;}#sk-container-id-9 div.sk-parallel-item::after {content: \"\";width: 100%;border-bottom: 1px solid gray;flex-grow: 1;}#sk-container-id-9 div.sk-label:hover label.sk-toggleable__label {background-color: #d4ebff;}#sk-container-id-9 div.sk-serial::before {content: \"\";position: absolute;border-left: 1px solid gray;box-sizing: border-box;top: 0;bottom: 0;left: 50%;z-index: 0;}#sk-container-id-9 div.sk-serial {display: flex;flex-direction: column;align-items: center;background-color: white;padding-right: 0.2em;padding-left: 0.2em;position: relative;}#sk-container-id-9 div.sk-item {position: relative;z-index: 1;}#sk-container-id-9 div.sk-parallel {display: flex;align-items: stretch;justify-content: center;background-color: white;position: relative;}#sk-container-id-9 div.sk-item::before, #sk-container-id-9 div.sk-parallel-item::before {content: \"\";position: absolute;border-left: 1px solid gray;box-sizing: border-box;top: 0;bottom: 0;left: 50%;z-index: -1;}#sk-container-id-9 div.sk-parallel-item {display: flex;flex-direction: column;z-index: 1;position: relative;background-color: white;}#sk-container-id-9 div.sk-parallel-item:first-child::after {align-self: flex-end;width: 50%;}#sk-container-id-9 div.sk-parallel-item:last-child::after {align-self: flex-start;width: 50%;}#sk-container-id-9 div.sk-parallel-item:only-child::after {width: 0;}#sk-container-id-9 div.sk-dashed-wrapped {border: 1px dashed gray;margin: 0 0.4em 0.5em 0.4em;box-sizing: border-box;padding-bottom: 0.4em;background-color: white;}#sk-container-id-9 div.sk-label label {font-family: monospace;font-weight: bold;display: inline-block;line-height: 1.2em;}#sk-container-id-9 div.sk-label-container {text-align: center;}#sk-container-id-9 div.sk-container {/* jupyter's `normalize.less` sets `[hidden] { display: none; }` but bootstrap.min.css set `[hidden] { display: none !important; }` so we also need the `!important` here to be able to override the default hidden behavior on the sphinx rendered scikit-learn.org. See: https://github.com/scikit-learn/scikit-learn/issues/21755 */display: inline-block !important;position: relative;}#sk-container-id-9 div.sk-text-repr-fallback {display: none;}</style><div id=\"sk-container-id-9\" class=\"sk-top-container\"><div class=\"sk-text-repr-fallback\"><pre>GradientBoostingClassifier(max_depth=18, n_estimators=6)</pre><b>In a Jupyter environment, please rerun this cell to show the HTML representation or trust the notebook. <br />On GitHub, the HTML representation is unable to render, please try loading this page with nbviewer.org.</b></div><div class=\"sk-container\" hidden><div class=\"sk-item\"><div class=\"sk-estimator sk-toggleable\"><input class=\"sk-toggleable__control sk-hidden--visually\" id=\"sk-estimator-id-9\" type=\"checkbox\" checked><label for=\"sk-estimator-id-9\" class=\"sk-toggleable__label sk-toggleable__label-arrow\">GradientBoostingClassifier</label><div class=\"sk-toggleable__content\"><pre>GradientBoostingClassifier(max_depth=18, n_estimators=6)</pre></div></div></div></div></div>"
      ],
      "text/plain": [
       "GradientBoostingClassifier(max_depth=18, n_estimators=6)"
      ]
     },
     "execution_count": 249,
     "metadata": {},
     "output_type": "execute_result"
    }
   ],
   "source": [
    "gb = GradientBoostingClassifier(max_depth = 18 , n_estimators= 6)\n",
    "gb.fit(X_train , y_train)"
   ]
  },
  {
   "cell_type": "code",
   "execution_count": 250,
   "id": "71eb6af3",
   "metadata": {},
   "outputs": [
    {
     "name": "stdout",
     "output_type": "stream",
     "text": [
      "Data entrenamiento:\n",
      "\n",
      "Precision ---> 87.06853217158177 %\n",
      "Reporte completo\n",
      "                   False         True  accuracy     macro avg  weighted avg\n",
      "precision      0.863201     0.998861  0.870685      0.931031      0.888211\n",
      "recall         0.999923     0.298909  0.870685      0.649416      0.870685\n",
      "f1-score       0.926545     0.460126  0.870685      0.693336      0.840557\n",
      "support    38942.000000  8802.000000  0.870685  47744.000000  47744.000000\n",
      "Matriz de confusión:\n",
      " [[38939     3]\n",
      " [ 6171  2631]]\n",
      "Roc score ---> 0.6494161505704549\n",
      "Acc score ---> 0.8706853217158177\n",
      "Data test:\n",
      "\n",
      "Precision ---> 80.51510116313166 %\n",
      "Reporte completo\n",
      "                   False         True  accuracy     macro avg  weighted avg\n",
      "precision      0.829131     0.428571  0.805151      0.628851      0.754508\n",
      "recall         0.957958     0.137723  0.805151      0.547840      0.805151\n",
      "f1-score       0.888901     0.208457  0.805151      0.548679      0.762137\n",
      "support    16650.000000  3812.000000  0.805151  20462.000000  20462.000000\n",
      "Matriz de confusión:\n",
      " [[15950   700]\n",
      " [ 3287   525]]\n",
      "Roc score ---> 0.5478404690104585\n",
      "Acc score ---> 0.8051510116313166\n"
     ]
    }
   ],
   "source": [
    "print_score(gb, X_train, y_train, X_test, y_test,\"Gradient Boost\",train=True,add=False)\n",
    "\n",
    "print_score(gb, X_train, y_train, X_test, y_test,\"Gradient Boost\",train=False,add=True)"
   ]
  },
  {
   "cell_type": "code",
   "execution_count": 251,
   "id": "f25edc85",
   "metadata": {},
   "outputs": [
    {
     "data": {
      "text/plain": [
       "0.7233481435265275"
      ]
     },
     "execution_count": 251,
     "metadata": {},
     "output_type": "execute_result"
    }
   ],
   "source": [
    "from xgboost import XGBClassifier\n",
    "\n",
    "xgb_model = XGBClassifier(seed=17)\n",
    "\n",
    "xgb_model.fit(X_train, y_train)\n",
    "xgb_valid_pred = xgb_model.predict_proba(X_test)[:, 1]\n",
    "\n",
    "roc_auc_score(y_test, xgb_valid_pred)\n",
    "\n"
   ]
  },
  {
   "cell_type": "code",
   "execution_count": 252,
   "id": "8950c7b2",
   "metadata": {},
   "outputs": [
    {
     "name": "stdout",
     "output_type": "stream",
     "text": [
      "Data test:\n",
      "\n",
      "Precision ---> 82.29889551363503 %\n",
      "Reporte completo\n",
      "                   False         True  accuracy     macro avg  weighted avg\n",
      "precision      0.832890     0.606264  0.822989      0.719577      0.790671\n",
      "recall         0.978859     0.142183  0.822989      0.560521      0.822989\n",
      "f1-score       0.899994     0.230344  0.822989      0.565169      0.775241\n",
      "support    16650.000000  3812.000000  0.822989  20462.000000  20462.000000\n",
      "Matriz de confusión:\n",
      " [[16298   352]\n",
      " [ 3270   542]]\n",
      "Roc score ---> 0.5605207200904998\n",
      "Acc score ---> 0.8229889551363503\n"
     ]
    }
   ],
   "source": [
    "print_score(xgb_model, X_train, y_train, X_test, y_test,\"XGBClassifier\",train=False,add=True)"
   ]
  },
  {
   "cell_type": "markdown",
   "id": "81eae224",
   "metadata": {},
   "source": [
    "## Hyperparameter tuning Decisision Tree Gridsearch"
   ]
  },
  {
   "cell_type": "code",
   "execution_count": 253,
   "id": "00a2cba3",
   "metadata": {},
   "outputs": [
    {
     "name": "stdout",
     "output_type": "stream",
     "text": [
      "Fitting 3 folds for each of 400 candidates, totalling 1200 fits\n",
      "Best paramters: {'criterion': 'entropy', 'max_depth': 10, 'min_samples_leaf': 13, 'min_samples_split': 3, 'splitter': 'best'}\n"
     ]
    },
    {
     "data": {
      "text/html": [
       "<style>#sk-container-id-10 {color: black;background-color: white;}#sk-container-id-10 pre{padding: 0;}#sk-container-id-10 div.sk-toggleable {background-color: white;}#sk-container-id-10 label.sk-toggleable__label {cursor: pointer;display: block;width: 100%;margin-bottom: 0;padding: 0.3em;box-sizing: border-box;text-align: center;}#sk-container-id-10 label.sk-toggleable__label-arrow:before {content: \"▸\";float: left;margin-right: 0.25em;color: #696969;}#sk-container-id-10 label.sk-toggleable__label-arrow:hover:before {color: black;}#sk-container-id-10 div.sk-estimator:hover label.sk-toggleable__label-arrow:before {color: black;}#sk-container-id-10 div.sk-toggleable__content {max-height: 0;max-width: 0;overflow: hidden;text-align: left;background-color: #f0f8ff;}#sk-container-id-10 div.sk-toggleable__content pre {margin: 0.2em;color: black;border-radius: 0.25em;background-color: #f0f8ff;}#sk-container-id-10 input.sk-toggleable__control:checked~div.sk-toggleable__content {max-height: 200px;max-width: 100%;overflow: auto;}#sk-container-id-10 input.sk-toggleable__control:checked~label.sk-toggleable__label-arrow:before {content: \"▾\";}#sk-container-id-10 div.sk-estimator input.sk-toggleable__control:checked~label.sk-toggleable__label {background-color: #d4ebff;}#sk-container-id-10 div.sk-label input.sk-toggleable__control:checked~label.sk-toggleable__label {background-color: #d4ebff;}#sk-container-id-10 input.sk-hidden--visually {border: 0;clip: rect(1px 1px 1px 1px);clip: rect(1px, 1px, 1px, 1px);height: 1px;margin: -1px;overflow: hidden;padding: 0;position: absolute;width: 1px;}#sk-container-id-10 div.sk-estimator {font-family: monospace;background-color: #f0f8ff;border: 1px dotted black;border-radius: 0.25em;box-sizing: border-box;margin-bottom: 0.5em;}#sk-container-id-10 div.sk-estimator:hover {background-color: #d4ebff;}#sk-container-id-10 div.sk-parallel-item::after {content: \"\";width: 100%;border-bottom: 1px solid gray;flex-grow: 1;}#sk-container-id-10 div.sk-label:hover label.sk-toggleable__label {background-color: #d4ebff;}#sk-container-id-10 div.sk-serial::before {content: \"\";position: absolute;border-left: 1px solid gray;box-sizing: border-box;top: 0;bottom: 0;left: 50%;z-index: 0;}#sk-container-id-10 div.sk-serial {display: flex;flex-direction: column;align-items: center;background-color: white;padding-right: 0.2em;padding-left: 0.2em;position: relative;}#sk-container-id-10 div.sk-item {position: relative;z-index: 1;}#sk-container-id-10 div.sk-parallel {display: flex;align-items: stretch;justify-content: center;background-color: white;position: relative;}#sk-container-id-10 div.sk-item::before, #sk-container-id-10 div.sk-parallel-item::before {content: \"\";position: absolute;border-left: 1px solid gray;box-sizing: border-box;top: 0;bottom: 0;left: 50%;z-index: -1;}#sk-container-id-10 div.sk-parallel-item {display: flex;flex-direction: column;z-index: 1;position: relative;background-color: white;}#sk-container-id-10 div.sk-parallel-item:first-child::after {align-self: flex-end;width: 50%;}#sk-container-id-10 div.sk-parallel-item:last-child::after {align-self: flex-start;width: 50%;}#sk-container-id-10 div.sk-parallel-item:only-child::after {width: 0;}#sk-container-id-10 div.sk-dashed-wrapped {border: 1px dashed gray;margin: 0 0.4em 0.5em 0.4em;box-sizing: border-box;padding-bottom: 0.4em;background-color: white;}#sk-container-id-10 div.sk-label label {font-family: monospace;font-weight: bold;display: inline-block;line-height: 1.2em;}#sk-container-id-10 div.sk-label-container {text-align: center;}#sk-container-id-10 div.sk-container {/* jupyter's `normalize.less` sets `[hidden] { display: none; }` but bootstrap.min.css set `[hidden] { display: none !important; }` so we also need the `!important` here to be able to override the default hidden behavior on the sphinx rendered scikit-learn.org. See: https://github.com/scikit-learn/scikit-learn/issues/21755 */display: inline-block !important;position: relative;}#sk-container-id-10 div.sk-text-repr-fallback {display: none;}</style><div id=\"sk-container-id-10\" class=\"sk-top-container\"><div class=\"sk-text-repr-fallback\"><pre>DecisionTreeClassifier(criterion=&#x27;entropy&#x27;, max_depth=10, min_samples_leaf=13,\n",
       "                       min_samples_split=3)</pre><b>In a Jupyter environment, please rerun this cell to show the HTML representation or trust the notebook. <br />On GitHub, the HTML representation is unable to render, please try loading this page with nbviewer.org.</b></div><div class=\"sk-container\" hidden><div class=\"sk-item\"><div class=\"sk-estimator sk-toggleable\"><input class=\"sk-toggleable__control sk-hidden--visually\" id=\"sk-estimator-id-10\" type=\"checkbox\" checked><label for=\"sk-estimator-id-10\" class=\"sk-toggleable__label sk-toggleable__label-arrow\">DecisionTreeClassifier</label><div class=\"sk-toggleable__content\"><pre>DecisionTreeClassifier(criterion=&#x27;entropy&#x27;, max_depth=10, min_samples_leaf=13,\n",
       "                       min_samples_split=3)</pre></div></div></div></div></div>"
      ],
      "text/plain": [
       "DecisionTreeClassifier(criterion='entropy', max_depth=10, min_samples_leaf=13,\n",
       "                       min_samples_split=3)"
      ]
     },
     "execution_count": 253,
     "metadata": {},
     "output_type": "execute_result"
    }
   ],
   "source": [
    "from sklearn.model_selection import GridSearchCV\n",
    "params = {\n",
    "    \"criterion\":(\"gini\", \"entropy\"), \n",
    "    \"splitter\":(\"best\", \"random\"), \n",
    "    \"max_depth\":(list(range(10, 15))),\n",
    "    \"min_samples_split\":[ 3, 4, 5,6], \n",
    "    \"min_samples_leaf\":list(range(10, 15)),     \n",
    "    }\n",
    "\n",
    "tree_clf = DecisionTreeClassifier(random_state=0)\n",
    "tree_cv = GridSearchCV(tree_clf, params, scoring=\"accuracy\", n_jobs=-1, verbose=1, cv=3)\n",
    "tree_cv.fit(X_train, y_train)\n",
    "\n",
    "best_params = tree_cv.best_params_\n",
    "print(\"Best paramters:\",best_params)\n",
    "tree_clf = DecisionTreeClassifier(**best_params)\n",
    "tree_clf.fit(X_train, y_train)"
   ]
  },
  {
   "cell_type": "code",
   "execution_count": 254,
   "id": "84b932b3",
   "metadata": {},
   "outputs": [
    {
     "name": "stdout",
     "output_type": "stream",
     "text": [
      "Data entrenamiento:\n",
      "\n",
      "Precision ---> 82.82087801608579 %\n",
      "Reporte completo\n",
      "                   False         True  accuracy     macro avg  weighted avg\n",
      "precision      0.832770     0.692802  0.828209      0.762786      0.806966\n",
      "recall         0.987725     0.122472  0.828209      0.555099      0.828209\n",
      "f1-score       0.903653     0.208148  0.828209      0.555901      0.775431\n",
      "support    38942.000000  8802.000000  0.828209  47744.000000  47744.000000\n",
      "Matriz de confusión:\n",
      " [[38464   478]\n",
      " [ 7724  1078]]\n",
      "Roc score ---> 0.5550987502653548\n",
      "Acc score ---> 0.8282087801608579\n",
      "Data test:\n",
      "\n",
      "Precision ---> 82.17671781839508 %\n",
      "Reporte completo\n",
      "                   False         True  accuracy     macro avg  weighted avg\n",
      "precision      0.828873     0.619048  0.821767      0.723961      0.789784\n",
      "recall         0.984144     0.112539  0.821767      0.548342      0.821767\n",
      "f1-score       0.899860     0.190455  0.821767      0.545158      0.767700\n",
      "support    16650.000000  3812.000000  0.821767  20462.000000  20462.000000\n",
      "Matriz de confusión:\n",
      " [[16386   264]\n",
      " [ 3383   429]]\n",
      "Roc score ---> 0.5483417467835096\n",
      "Acc score ---> 0.8217671781839507\n"
     ]
    }
   ],
   "source": [
    "print_score(tree_clf, X_train, y_train, X_test, y_test,\"nn\",train=True,add=False)\n",
    "print_score(tree_clf, X_train, y_train, X_test, y_test,\"DT_gridsearch\",train=False,add=True)"
   ]
  },
  {
   "cell_type": "markdown",
   "id": "8e3bba56",
   "metadata": {},
   "source": [
    "# Hyperparameter tuning XGB"
   ]
  },
  {
   "cell_type": "code",
   "execution_count": 285,
   "id": "4b704776",
   "metadata": {},
   "outputs": [],
   "source": [
    "from hyperopt import STATUS_OK, Trials, fmin, hp, tpe\n",
    "import xgboost as xgb\n",
    "\n",
    "def objective(space):\n",
    "    clf=xgb.XGBClassifier(\n",
    "                    n_estimators =space['n_estimators'], max_depth = int(space['max_depth']), gamma = space['gamma'],\n",
    "                    reg_alpha = int(space['reg_alpha']),min_child_weight=int(space['min_child_weight']),\n",
    "                    colsample_bytree=int(space['colsample_bytree']))\n",
    "    \n",
    "    evaluation = [( X_train, y_train), ( X_test, y_test)]\n",
    "    \n",
    "    clf.fit(X_train, y_train,\n",
    "            eval_set=evaluation, eval_metric=\"auc\",\n",
    "            early_stopping_rounds=10,verbose=False)\n",
    "    \n",
    "\n",
    "    pred = clf.predict(X_test)\n",
    "    accuracy = accuracy_score(y_test, pred>0.5)\n",
    "    print (\"SCORE:\", accuracy)\n",
    "    return {'loss': -accuracy, 'status': STATUS_OK }\n",
    "\n",
    "space={'max_depth': hp.quniform(\"max_depth\", 3, 18, 1),\n",
    "        'gamma': hp.uniform ('gamma', 1,9),\n",
    "        'reg_alpha' : hp.quniform('reg_alpha', 40,180,1),\n",
    "        'reg_lambda' : hp.uniform('reg_lambda', 0,1),\n",
    "        'colsample_bytree' : hp.uniform('colsample_bytree', 0.5,1),\n",
    "        'min_child_weight' : hp.quniform('min_child_weight', 0, 10, 1),\n",
    "        'n_estimators': 180,\n",
    "        'seed': 0\n",
    "    }"
   ]
  },
  {
   "cell_type": "code",
   "execution_count": 286,
   "id": "8832018b",
   "metadata": {},
   "outputs": [
    {
     "name": "stdout",
     "output_type": "stream",
     "text": [
      "\r",
      "  0%|          | 0/100 [00:00<?, ?trial/s, best loss=?]"
     ]
    },
    {
     "name": "stderr",
     "output_type": "stream",
     "text": [
      "C:\\Users\\mbustamf\\Anaconda3\\lib\\site-packages\\xgboost\\sklearn.py:793: UserWarning: `eval_metric` in `fit` method is deprecated for better compatibility with scikit-learn, use `eval_metric` in constructor or`set_params` instead.\n",
      "  warnings.warn(\n",
      "\n",
      "C:\\Users\\mbustamf\\Anaconda3\\lib\\site-packages\\xgboost\\sklearn.py:793: UserWarning: `early_stopping_rounds` in `fit` method is deprecated for better compatibility with scikit-learn, use `early_stopping_rounds` in constructor or`set_params` instead.\n",
      "  warnings.warn(\n",
      "\n"
     ]
    },
    {
     "name": "stdout",
     "output_type": "stream",
     "text": [
      "SCORE:                                                 \n",
      "0.8137034502981135                                     \n",
      "  1%|          | 1/100 [00:00<00:20,  4.84trial/s, best loss: -0.8137034502981135]"
     ]
    },
    {
     "name": "stderr",
     "output_type": "stream",
     "text": [
      "C:\\Users\\mbustamf\\Anaconda3\\lib\\site-packages\\xgboost\\sklearn.py:793: UserWarning: `eval_metric` in `fit` method is deprecated for better compatibility with scikit-learn, use `eval_metric` in constructor or`set_params` instead.\n",
      "  warnings.warn(\n",
      "\n",
      "C:\\Users\\mbustamf\\Anaconda3\\lib\\site-packages\\xgboost\\sklearn.py:793: UserWarning: `early_stopping_rounds` in `fit` method is deprecated for better compatibility with scikit-learn, use `early_stopping_rounds` in constructor or`set_params` instead.\n",
      "  warnings.warn(\n",
      "\n"
     ]
    },
    {
     "name": "stdout",
     "output_type": "stream",
     "text": [
      "SCORE:                                                                            \n",
      "0.8137034502981135                                                                \n",
      "  2%|▏         | 2/100 [00:00<00:20,  4.76trial/s, best loss: -0.8137034502981135]"
     ]
    },
    {
     "name": "stderr",
     "output_type": "stream",
     "text": [
      "C:\\Users\\mbustamf\\Anaconda3\\lib\\site-packages\\xgboost\\sklearn.py:793: UserWarning: `eval_metric` in `fit` method is deprecated for better compatibility with scikit-learn, use `eval_metric` in constructor or`set_params` instead.\n",
      "  warnings.warn(\n",
      "\n",
      "C:\\Users\\mbustamf\\Anaconda3\\lib\\site-packages\\xgboost\\sklearn.py:793: UserWarning: `early_stopping_rounds` in `fit` method is deprecated for better compatibility with scikit-learn, use `early_stopping_rounds` in constructor or`set_params` instead.\n",
      "  warnings.warn(\n",
      "\n"
     ]
    },
    {
     "name": "stdout",
     "output_type": "stream",
     "text": [
      "SCORE:                                                                            \n",
      "0.8137034502981135                                                                \n",
      "  3%|▎         | 3/100 [00:00<00:20,  4.69trial/s, best loss: -0.8137034502981135]"
     ]
    },
    {
     "name": "stderr",
     "output_type": "stream",
     "text": [
      "C:\\Users\\mbustamf\\Anaconda3\\lib\\site-packages\\xgboost\\sklearn.py:793: UserWarning: `eval_metric` in `fit` method is deprecated for better compatibility with scikit-learn, use `eval_metric` in constructor or`set_params` instead.\n",
      "  warnings.warn(\n",
      "\n",
      "C:\\Users\\mbustamf\\Anaconda3\\lib\\site-packages\\xgboost\\sklearn.py:793: UserWarning: `early_stopping_rounds` in `fit` method is deprecated for better compatibility with scikit-learn, use `early_stopping_rounds` in constructor or`set_params` instead.\n",
      "  warnings.warn(\n",
      "\n"
     ]
    },
    {
     "name": "stdout",
     "output_type": "stream",
     "text": [
      "SCORE:                                                                            \n",
      "0.8137034502981135                                                                \n",
      "  4%|▍         | 4/100 [00:00<00:20,  4.72trial/s, best loss: -0.8137034502981135]"
     ]
    },
    {
     "name": "stderr",
     "output_type": "stream",
     "text": [
      "C:\\Users\\mbustamf\\Anaconda3\\lib\\site-packages\\xgboost\\sklearn.py:793: UserWarning: `eval_metric` in `fit` method is deprecated for better compatibility with scikit-learn, use `eval_metric` in constructor or`set_params` instead.\n",
      "  warnings.warn(\n",
      "\n",
      "C:\\Users\\mbustamf\\Anaconda3\\lib\\site-packages\\xgboost\\sklearn.py:793: UserWarning: `early_stopping_rounds` in `fit` method is deprecated for better compatibility with scikit-learn, use `early_stopping_rounds` in constructor or`set_params` instead.\n",
      "  warnings.warn(\n",
      "\n"
     ]
    },
    {
     "name": "stdout",
     "output_type": "stream",
     "text": [
      "SCORE:                                                                            \n",
      "0.8137034502981135                                                                \n",
      "  5%|▌         | 5/100 [00:01<00:20,  4.69trial/s, best loss: -0.8137034502981135]"
     ]
    },
    {
     "name": "stderr",
     "output_type": "stream",
     "text": [
      "C:\\Users\\mbustamf\\Anaconda3\\lib\\site-packages\\xgboost\\sklearn.py:793: UserWarning: `eval_metric` in `fit` method is deprecated for better compatibility with scikit-learn, use `eval_metric` in constructor or`set_params` instead.\n",
      "  warnings.warn(\n",
      "\n",
      "C:\\Users\\mbustamf\\Anaconda3\\lib\\site-packages\\xgboost\\sklearn.py:793: UserWarning: `early_stopping_rounds` in `fit` method is deprecated for better compatibility with scikit-learn, use `early_stopping_rounds` in constructor or`set_params` instead.\n",
      "  warnings.warn(\n",
      "\n"
     ]
    },
    {
     "name": "stdout",
     "output_type": "stream",
     "text": [
      "SCORE:                                                                            \n",
      "0.8137034502981135                                                                \n",
      "  6%|▌         | 6/100 [00:01<00:20,  4.69trial/s, best loss: -0.8137034502981135]"
     ]
    },
    {
     "name": "stderr",
     "output_type": "stream",
     "text": [
      "C:\\Users\\mbustamf\\Anaconda3\\lib\\site-packages\\xgboost\\sklearn.py:793: UserWarning: `eval_metric` in `fit` method is deprecated for better compatibility with scikit-learn, use `eval_metric` in constructor or`set_params` instead.\n",
      "  warnings.warn(\n",
      "\n",
      "C:\\Users\\mbustamf\\Anaconda3\\lib\\site-packages\\xgboost\\sklearn.py:793: UserWarning: `early_stopping_rounds` in `fit` method is deprecated for better compatibility with scikit-learn, use `early_stopping_rounds` in constructor or`set_params` instead.\n",
      "  warnings.warn(\n",
      "\n"
     ]
    },
    {
     "name": "stdout",
     "output_type": "stream",
     "text": [
      "SCORE:                                                                            \n",
      "0.8137034502981135                                                                \n",
      "  7%|▋         | 7/100 [00:01<00:19,  4.67trial/s, best loss: -0.8137034502981135]"
     ]
    },
    {
     "name": "stderr",
     "output_type": "stream",
     "text": [
      "C:\\Users\\mbustamf\\Anaconda3\\lib\\site-packages\\xgboost\\sklearn.py:793: UserWarning: `eval_metric` in `fit` method is deprecated for better compatibility with scikit-learn, use `eval_metric` in constructor or`set_params` instead.\n",
      "  warnings.warn(\n",
      "\n",
      "C:\\Users\\mbustamf\\Anaconda3\\lib\\site-packages\\xgboost\\sklearn.py:793: UserWarning: `early_stopping_rounds` in `fit` method is deprecated for better compatibility with scikit-learn, use `early_stopping_rounds` in constructor or`set_params` instead.\n",
      "  warnings.warn(\n",
      "\n"
     ]
    },
    {
     "name": "stdout",
     "output_type": "stream",
     "text": [
      "SCORE:                                                                            \n",
      "0.8137034502981135                                                                \n",
      "  8%|▊         | 8/100 [00:01<00:19,  4.62trial/s, best loss: -0.8137034502981135]"
     ]
    },
    {
     "name": "stderr",
     "output_type": "stream",
     "text": [
      "C:\\Users\\mbustamf\\Anaconda3\\lib\\site-packages\\xgboost\\sklearn.py:793: UserWarning: `eval_metric` in `fit` method is deprecated for better compatibility with scikit-learn, use `eval_metric` in constructor or`set_params` instead.\n",
      "  warnings.warn(\n",
      "\n",
      "C:\\Users\\mbustamf\\Anaconda3\\lib\\site-packages\\xgboost\\sklearn.py:793: UserWarning: `early_stopping_rounds` in `fit` method is deprecated for better compatibility with scikit-learn, use `early_stopping_rounds` in constructor or`set_params` instead.\n",
      "  warnings.warn(\n",
      "\n"
     ]
    },
    {
     "name": "stdout",
     "output_type": "stream",
     "text": [
      "SCORE:                                                                            \n",
      "0.8137034502981135                                                                \n",
      "  9%|▉         | 9/100 [00:02<00:38,  2.35trial/s, best loss: -0.8137034502981135]"
     ]
    },
    {
     "name": "stderr",
     "output_type": "stream",
     "text": [
      "C:\\Users\\mbustamf\\Anaconda3\\lib\\site-packages\\xgboost\\sklearn.py:793: UserWarning: `eval_metric` in `fit` method is deprecated for better compatibility with scikit-learn, use `eval_metric` in constructor or`set_params` instead.\n",
      "  warnings.warn(\n",
      "\n",
      "C:\\Users\\mbustamf\\Anaconda3\\lib\\site-packages\\xgboost\\sklearn.py:793: UserWarning: `early_stopping_rounds` in `fit` method is deprecated for better compatibility with scikit-learn, use `early_stopping_rounds` in constructor or`set_params` instead.\n",
      "  warnings.warn(\n",
      "\n"
     ]
    },
    {
     "name": "stdout",
     "output_type": "stream",
     "text": [
      "SCORE:                                                                            \n",
      "0.8137034502981135                                                                \n",
      " 10%|█         | 10/100 [00:02<00:32,  2.78trial/s, best loss: -0.8137034502981135]"
     ]
    },
    {
     "name": "stderr",
     "output_type": "stream",
     "text": [
      "C:\\Users\\mbustamf\\Anaconda3\\lib\\site-packages\\xgboost\\sklearn.py:793: UserWarning: `eval_metric` in `fit` method is deprecated for better compatibility with scikit-learn, use `eval_metric` in constructor or`set_params` instead.\n",
      "  warnings.warn(\n",
      "\n",
      "C:\\Users\\mbustamf\\Anaconda3\\lib\\site-packages\\xgboost\\sklearn.py:793: UserWarning: `early_stopping_rounds` in `fit` method is deprecated for better compatibility with scikit-learn, use `early_stopping_rounds` in constructor or`set_params` instead.\n",
      "  warnings.warn(\n",
      "\n"
     ]
    },
    {
     "name": "stdout",
     "output_type": "stream",
     "text": [
      "SCORE:                                                                             \n",
      "0.8137034502981135                                                                 \n",
      " 11%|█         | 11/100 [00:03<00:27,  3.19trial/s, best loss: -0.8137034502981135]"
     ]
    },
    {
     "name": "stderr",
     "output_type": "stream",
     "text": [
      "C:\\Users\\mbustamf\\Anaconda3\\lib\\site-packages\\xgboost\\sklearn.py:793: UserWarning: `eval_metric` in `fit` method is deprecated for better compatibility with scikit-learn, use `eval_metric` in constructor or`set_params` instead.\n",
      "  warnings.warn(\n",
      "\n",
      "C:\\Users\\mbustamf\\Anaconda3\\lib\\site-packages\\xgboost\\sklearn.py:793: UserWarning: `early_stopping_rounds` in `fit` method is deprecated for better compatibility with scikit-learn, use `early_stopping_rounds` in constructor or`set_params` instead.\n",
      "  warnings.warn(\n",
      "\n"
     ]
    },
    {
     "name": "stdout",
     "output_type": "stream",
     "text": [
      "SCORE:                                                                             \n",
      "0.8137034502981135                                                                 \n",
      " 12%|█▏        | 12/100 [00:03<00:24,  3.53trial/s, best loss: -0.8137034502981135]"
     ]
    },
    {
     "name": "stderr",
     "output_type": "stream",
     "text": [
      "C:\\Users\\mbustamf\\Anaconda3\\lib\\site-packages\\xgboost\\sklearn.py:793: UserWarning: `eval_metric` in `fit` method is deprecated for better compatibility with scikit-learn, use `eval_metric` in constructor or`set_params` instead.\n",
      "  warnings.warn(\n",
      "\n",
      "C:\\Users\\mbustamf\\Anaconda3\\lib\\site-packages\\xgboost\\sklearn.py:793: UserWarning: `early_stopping_rounds` in `fit` method is deprecated for better compatibility with scikit-learn, use `early_stopping_rounds` in constructor or`set_params` instead.\n",
      "  warnings.warn(\n",
      "\n"
     ]
    },
    {
     "name": "stdout",
     "output_type": "stream",
     "text": [
      "SCORE:                                                                             \n",
      "0.8137034502981135                                                                 \n",
      " 13%|█▎        | 13/100 [00:03<00:23,  3.70trial/s, best loss: -0.8137034502981135]"
     ]
    },
    {
     "name": "stderr",
     "output_type": "stream",
     "text": [
      "C:\\Users\\mbustamf\\Anaconda3\\lib\\site-packages\\xgboost\\sklearn.py:793: UserWarning: `eval_metric` in `fit` method is deprecated for better compatibility with scikit-learn, use `eval_metric` in constructor or`set_params` instead.\n",
      "  warnings.warn(\n",
      "\n",
      "C:\\Users\\mbustamf\\Anaconda3\\lib\\site-packages\\xgboost\\sklearn.py:793: UserWarning: `early_stopping_rounds` in `fit` method is deprecated for better compatibility with scikit-learn, use `early_stopping_rounds` in constructor or`set_params` instead.\n",
      "  warnings.warn(\n",
      "\n"
     ]
    },
    {
     "name": "stdout",
     "output_type": "stream",
     "text": [
      "SCORE:                                                                             \n",
      "0.8137034502981135                                                                 \n",
      " 14%|█▍        | 14/100 [00:03<00:22,  3.84trial/s, best loss: -0.8137034502981135]"
     ]
    },
    {
     "name": "stderr",
     "output_type": "stream",
     "text": [
      "C:\\Users\\mbustamf\\Anaconda3\\lib\\site-packages\\xgboost\\sklearn.py:793: UserWarning: `eval_metric` in `fit` method is deprecated for better compatibility with scikit-learn, use `eval_metric` in constructor or`set_params` instead.\n",
      "  warnings.warn(\n",
      "\n",
      "C:\\Users\\mbustamf\\Anaconda3\\lib\\site-packages\\xgboost\\sklearn.py:793: UserWarning: `early_stopping_rounds` in `fit` method is deprecated for better compatibility with scikit-learn, use `early_stopping_rounds` in constructor or`set_params` instead.\n",
      "  warnings.warn(\n",
      "\n"
     ]
    },
    {
     "name": "stdout",
     "output_type": "stream",
     "text": [
      "SCORE:                                                                             \n",
      "0.8137034502981135                                                                 \n",
      " 15%|█▌        | 15/100 [00:03<00:21,  3.92trial/s, best loss: -0.8137034502981135]"
     ]
    },
    {
     "name": "stderr",
     "output_type": "stream",
     "text": [
      "C:\\Users\\mbustamf\\Anaconda3\\lib\\site-packages\\xgboost\\sklearn.py:793: UserWarning: `eval_metric` in `fit` method is deprecated for better compatibility with scikit-learn, use `eval_metric` in constructor or`set_params` instead.\n",
      "  warnings.warn(\n",
      "\n",
      "C:\\Users\\mbustamf\\Anaconda3\\lib\\site-packages\\xgboost\\sklearn.py:793: UserWarning: `early_stopping_rounds` in `fit` method is deprecated for better compatibility with scikit-learn, use `early_stopping_rounds` in constructor or`set_params` instead.\n",
      "  warnings.warn(\n",
      "\n"
     ]
    },
    {
     "name": "stdout",
     "output_type": "stream",
     "text": [
      "SCORE:                                                                             \n",
      "0.8137034502981135                                                                 \n",
      " 16%|█▌        | 16/100 [00:04<00:20,  4.02trial/s, best loss: -0.8137034502981135]"
     ]
    },
    {
     "name": "stderr",
     "output_type": "stream",
     "text": [
      "C:\\Users\\mbustamf\\Anaconda3\\lib\\site-packages\\xgboost\\sklearn.py:793: UserWarning: `eval_metric` in `fit` method is deprecated for better compatibility with scikit-learn, use `eval_metric` in constructor or`set_params` instead.\n",
      "  warnings.warn(\n",
      "\n",
      "C:\\Users\\mbustamf\\Anaconda3\\lib\\site-packages\\xgboost\\sklearn.py:793: UserWarning: `early_stopping_rounds` in `fit` method is deprecated for better compatibility with scikit-learn, use `early_stopping_rounds` in constructor or`set_params` instead.\n",
      "  warnings.warn(\n",
      "\n"
     ]
    },
    {
     "name": "stdout",
     "output_type": "stream",
     "text": [
      "SCORE:                                                                             \n",
      "0.8137034502981135                                                                 \n",
      " 17%|█▋        | 17/100 [00:04<00:20,  4.03trial/s, best loss: -0.8137034502981135]"
     ]
    },
    {
     "name": "stderr",
     "output_type": "stream",
     "text": [
      "C:\\Users\\mbustamf\\Anaconda3\\lib\\site-packages\\xgboost\\sklearn.py:793: UserWarning: `eval_metric` in `fit` method is deprecated for better compatibility with scikit-learn, use `eval_metric` in constructor or`set_params` instead.\n",
      "  warnings.warn(\n",
      "\n",
      "C:\\Users\\mbustamf\\Anaconda3\\lib\\site-packages\\xgboost\\sklearn.py:793: UserWarning: `early_stopping_rounds` in `fit` method is deprecated for better compatibility with scikit-learn, use `early_stopping_rounds` in constructor or`set_params` instead.\n",
      "  warnings.warn(\n",
      "\n"
     ]
    },
    {
     "name": "stdout",
     "output_type": "stream",
     "text": [
      "SCORE:                                                                             \n",
      "0.8137034502981135                                                                 \n",
      " 18%|█▊        | 18/100 [00:04<00:20,  4.09trial/s, best loss: -0.8137034502981135]"
     ]
    },
    {
     "name": "stderr",
     "output_type": "stream",
     "text": [
      "C:\\Users\\mbustamf\\Anaconda3\\lib\\site-packages\\xgboost\\sklearn.py:793: UserWarning: `eval_metric` in `fit` method is deprecated for better compatibility with scikit-learn, use `eval_metric` in constructor or`set_params` instead.\n",
      "  warnings.warn(\n",
      "\n",
      "C:\\Users\\mbustamf\\Anaconda3\\lib\\site-packages\\xgboost\\sklearn.py:793: UserWarning: `early_stopping_rounds` in `fit` method is deprecated for better compatibility with scikit-learn, use `early_stopping_rounds` in constructor or`set_params` instead.\n",
      "  warnings.warn(\n",
      "\n"
     ]
    },
    {
     "name": "stdout",
     "output_type": "stream",
     "text": [
      "SCORE:                                                                             \n",
      "0.8137034502981135                                                                 \n",
      " 19%|█▉        | 19/100 [00:04<00:19,  4.16trial/s, best loss: -0.8137034502981135]"
     ]
    },
    {
     "name": "stderr",
     "output_type": "stream",
     "text": [
      "C:\\Users\\mbustamf\\Anaconda3\\lib\\site-packages\\xgboost\\sklearn.py:793: UserWarning: `eval_metric` in `fit` method is deprecated for better compatibility with scikit-learn, use `eval_metric` in constructor or`set_params` instead.\n",
      "  warnings.warn(\n",
      "\n",
      "C:\\Users\\mbustamf\\Anaconda3\\lib\\site-packages\\xgboost\\sklearn.py:793: UserWarning: `early_stopping_rounds` in `fit` method is deprecated for better compatibility with scikit-learn, use `early_stopping_rounds` in constructor or`set_params` instead.\n",
      "  warnings.warn(\n",
      "\n"
     ]
    },
    {
     "name": "stdout",
     "output_type": "stream",
     "text": [
      "SCORE:                                                                             \n",
      "0.8137034502981135                                                                 \n",
      " 20%|██        | 20/100 [00:05<00:19,  4.21trial/s, best loss: -0.8137034502981135]"
     ]
    },
    {
     "name": "stderr",
     "output_type": "stream",
     "text": [
      "C:\\Users\\mbustamf\\Anaconda3\\lib\\site-packages\\xgboost\\sklearn.py:793: UserWarning: `eval_metric` in `fit` method is deprecated for better compatibility with scikit-learn, use `eval_metric` in constructor or`set_params` instead.\n",
      "  warnings.warn(\n",
      "\n",
      "C:\\Users\\mbustamf\\Anaconda3\\lib\\site-packages\\xgboost\\sklearn.py:793: UserWarning: `early_stopping_rounds` in `fit` method is deprecated for better compatibility with scikit-learn, use `early_stopping_rounds` in constructor or`set_params` instead.\n",
      "  warnings.warn(\n",
      "\n"
     ]
    },
    {
     "name": "stdout",
     "output_type": "stream",
     "text": [
      "SCORE:                                                                             \n",
      "0.8137034502981135                                                                 \n",
      " 21%|██        | 21/100 [00:05<00:19,  4.05trial/s, best loss: -0.8137034502981135]"
     ]
    },
    {
     "name": "stderr",
     "output_type": "stream",
     "text": [
      "C:\\Users\\mbustamf\\Anaconda3\\lib\\site-packages\\xgboost\\sklearn.py:793: UserWarning: `eval_metric` in `fit` method is deprecated for better compatibility with scikit-learn, use `eval_metric` in constructor or`set_params` instead.\n",
      "  warnings.warn(\n",
      "\n",
      "C:\\Users\\mbustamf\\Anaconda3\\lib\\site-packages\\xgboost\\sklearn.py:793: UserWarning: `early_stopping_rounds` in `fit` method is deprecated for better compatibility with scikit-learn, use `early_stopping_rounds` in constructor or`set_params` instead.\n",
      "  warnings.warn(\n",
      "\n"
     ]
    },
    {
     "name": "stdout",
     "output_type": "stream",
     "text": [
      "SCORE:                                                                             \n",
      "0.8137034502981135                                                                 \n",
      " 22%|██▏       | 22/100 [00:05<00:19,  4.08trial/s, best loss: -0.8137034502981135]"
     ]
    },
    {
     "name": "stderr",
     "output_type": "stream",
     "text": [
      "C:\\Users\\mbustamf\\Anaconda3\\lib\\site-packages\\xgboost\\sklearn.py:793: UserWarning: `eval_metric` in `fit` method is deprecated for better compatibility with scikit-learn, use `eval_metric` in constructor or`set_params` instead.\n",
      "  warnings.warn(\n",
      "\n",
      "C:\\Users\\mbustamf\\Anaconda3\\lib\\site-packages\\xgboost\\sklearn.py:793: UserWarning: `early_stopping_rounds` in `fit` method is deprecated for better compatibility with scikit-learn, use `early_stopping_rounds` in constructor or`set_params` instead.\n",
      "  warnings.warn(\n",
      "\n"
     ]
    },
    {
     "name": "stdout",
     "output_type": "stream",
     "text": [
      "SCORE:                                                                             \n",
      "0.8137034502981135                                                                 \n",
      " 23%|██▎       | 23/100 [00:05<00:18,  4.09trial/s, best loss: -0.8137034502981135]"
     ]
    },
    {
     "name": "stderr",
     "output_type": "stream",
     "text": [
      "C:\\Users\\mbustamf\\Anaconda3\\lib\\site-packages\\xgboost\\sklearn.py:793: UserWarning: `eval_metric` in `fit` method is deprecated for better compatibility with scikit-learn, use `eval_metric` in constructor or`set_params` instead.\n",
      "  warnings.warn(\n",
      "\n",
      "C:\\Users\\mbustamf\\Anaconda3\\lib\\site-packages\\xgboost\\sklearn.py:793: UserWarning: `early_stopping_rounds` in `fit` method is deprecated for better compatibility with scikit-learn, use `early_stopping_rounds` in constructor or`set_params` instead.\n",
      "  warnings.warn(\n",
      "\n"
     ]
    },
    {
     "name": "stdout",
     "output_type": "stream",
     "text": [
      "SCORE:                                                                             \n",
      "0.8137034502981135                                                                 \n",
      " 24%|██▍       | 24/100 [00:06<00:18,  4.14trial/s, best loss: -0.8137034502981135]"
     ]
    },
    {
     "name": "stderr",
     "output_type": "stream",
     "text": [
      "C:\\Users\\mbustamf\\Anaconda3\\lib\\site-packages\\xgboost\\sklearn.py:793: UserWarning: `eval_metric` in `fit` method is deprecated for better compatibility with scikit-learn, use `eval_metric` in constructor or`set_params` instead.\n",
      "  warnings.warn(\n",
      "\n",
      "C:\\Users\\mbustamf\\Anaconda3\\lib\\site-packages\\xgboost\\sklearn.py:793: UserWarning: `early_stopping_rounds` in `fit` method is deprecated for better compatibility with scikit-learn, use `early_stopping_rounds` in constructor or`set_params` instead.\n",
      "  warnings.warn(\n",
      "\n"
     ]
    },
    {
     "name": "stdout",
     "output_type": "stream",
     "text": [
      "SCORE:                                                                             \n",
      "0.8137034502981135                                                                 \n",
      " 25%|██▌       | 25/100 [00:06<00:18,  4.16trial/s, best loss: -0.8137034502981135]"
     ]
    },
    {
     "name": "stderr",
     "output_type": "stream",
     "text": [
      "C:\\Users\\mbustamf\\Anaconda3\\lib\\site-packages\\xgboost\\sklearn.py:793: UserWarning: `eval_metric` in `fit` method is deprecated for better compatibility with scikit-learn, use `eval_metric` in constructor or`set_params` instead.\n",
      "  warnings.warn(\n",
      "\n",
      "C:\\Users\\mbustamf\\Anaconda3\\lib\\site-packages\\xgboost\\sklearn.py:793: UserWarning: `early_stopping_rounds` in `fit` method is deprecated for better compatibility with scikit-learn, use `early_stopping_rounds` in constructor or`set_params` instead.\n",
      "  warnings.warn(\n",
      "\n"
     ]
    },
    {
     "name": "stdout",
     "output_type": "stream",
     "text": [
      "SCORE:                                                                             \n",
      "0.8137034502981135                                                                 \n",
      " 26%|██▌       | 26/100 [00:06<00:17,  4.18trial/s, best loss: -0.8137034502981135]"
     ]
    },
    {
     "name": "stderr",
     "output_type": "stream",
     "text": [
      "C:\\Users\\mbustamf\\Anaconda3\\lib\\site-packages\\xgboost\\sklearn.py:793: UserWarning: `eval_metric` in `fit` method is deprecated for better compatibility with scikit-learn, use `eval_metric` in constructor or`set_params` instead.\n",
      "  warnings.warn(\n",
      "\n",
      "C:\\Users\\mbustamf\\Anaconda3\\lib\\site-packages\\xgboost\\sklearn.py:793: UserWarning: `early_stopping_rounds` in `fit` method is deprecated for better compatibility with scikit-learn, use `early_stopping_rounds` in constructor or`set_params` instead.\n",
      "  warnings.warn(\n",
      "\n"
     ]
    },
    {
     "name": "stdout",
     "output_type": "stream",
     "text": [
      "SCORE:                                                                             \n",
      "0.8137034502981135                                                                 \n",
      " 27%|██▋       | 27/100 [00:06<00:17,  4.20trial/s, best loss: -0.8137034502981135]"
     ]
    },
    {
     "name": "stderr",
     "output_type": "stream",
     "text": [
      "C:\\Users\\mbustamf\\Anaconda3\\lib\\site-packages\\xgboost\\sklearn.py:793: UserWarning: `eval_metric` in `fit` method is deprecated for better compatibility with scikit-learn, use `eval_metric` in constructor or`set_params` instead.\n",
      "  warnings.warn(\n",
      "\n",
      "C:\\Users\\mbustamf\\Anaconda3\\lib\\site-packages\\xgboost\\sklearn.py:793: UserWarning: `early_stopping_rounds` in `fit` method is deprecated for better compatibility with scikit-learn, use `early_stopping_rounds` in constructor or`set_params` instead.\n",
      "  warnings.warn(\n",
      "\n"
     ]
    },
    {
     "name": "stdout",
     "output_type": "stream",
     "text": [
      "SCORE:                                                                             \n",
      "0.8137034502981135                                                                 \n",
      " 28%|██▊       | 28/100 [00:07<00:17,  4.21trial/s, best loss: -0.8137034502981135]"
     ]
    },
    {
     "name": "stderr",
     "output_type": "stream",
     "text": [
      "C:\\Users\\mbustamf\\Anaconda3\\lib\\site-packages\\xgboost\\sklearn.py:793: UserWarning: `eval_metric` in `fit` method is deprecated for better compatibility with scikit-learn, use `eval_metric` in constructor or`set_params` instead.\n",
      "  warnings.warn(\n",
      "\n",
      "C:\\Users\\mbustamf\\Anaconda3\\lib\\site-packages\\xgboost\\sklearn.py:793: UserWarning: `early_stopping_rounds` in `fit` method is deprecated for better compatibility with scikit-learn, use `early_stopping_rounds` in constructor or`set_params` instead.\n",
      "  warnings.warn(\n",
      "\n"
     ]
    },
    {
     "name": "stdout",
     "output_type": "stream",
     "text": [
      "SCORE:                                                                             \n",
      "0.8137034502981135                                                                 \n",
      " 29%|██▉       | 29/100 [00:07<00:16,  4.19trial/s, best loss: -0.8137034502981135]"
     ]
    },
    {
     "name": "stderr",
     "output_type": "stream",
     "text": [
      "C:\\Users\\mbustamf\\Anaconda3\\lib\\site-packages\\xgboost\\sklearn.py:793: UserWarning: `eval_metric` in `fit` method is deprecated for better compatibility with scikit-learn, use `eval_metric` in constructor or`set_params` instead.\n",
      "  warnings.warn(\n",
      "\n",
      "C:\\Users\\mbustamf\\Anaconda3\\lib\\site-packages\\xgboost\\sklearn.py:793: UserWarning: `early_stopping_rounds` in `fit` method is deprecated for better compatibility with scikit-learn, use `early_stopping_rounds` in constructor or`set_params` instead.\n",
      "  warnings.warn(\n",
      "\n"
     ]
    },
    {
     "name": "stdout",
     "output_type": "stream",
     "text": [
      "SCORE:                                                                             \n",
      "0.8137034502981135                                                                 \n",
      " 30%|███       | 30/100 [00:07<00:16,  4.19trial/s, best loss: -0.8137034502981135]"
     ]
    },
    {
     "name": "stderr",
     "output_type": "stream",
     "text": [
      "C:\\Users\\mbustamf\\Anaconda3\\lib\\site-packages\\xgboost\\sklearn.py:793: UserWarning: `eval_metric` in `fit` method is deprecated for better compatibility with scikit-learn, use `eval_metric` in constructor or`set_params` instead.\n",
      "  warnings.warn(\n",
      "\n",
      "C:\\Users\\mbustamf\\Anaconda3\\lib\\site-packages\\xgboost\\sklearn.py:793: UserWarning: `early_stopping_rounds` in `fit` method is deprecated for better compatibility with scikit-learn, use `early_stopping_rounds` in constructor or`set_params` instead.\n",
      "  warnings.warn(\n",
      "\n"
     ]
    },
    {
     "name": "stdout",
     "output_type": "stream",
     "text": [
      "SCORE:                                                                             \n",
      "0.8137034502981135                                                                 \n",
      " 31%|███       | 31/100 [00:07<00:16,  4.22trial/s, best loss: -0.8137034502981135]"
     ]
    },
    {
     "name": "stderr",
     "output_type": "stream",
     "text": [
      "C:\\Users\\mbustamf\\Anaconda3\\lib\\site-packages\\xgboost\\sklearn.py:793: UserWarning: `eval_metric` in `fit` method is deprecated for better compatibility with scikit-learn, use `eval_metric` in constructor or`set_params` instead.\n",
      "  warnings.warn(\n",
      "\n",
      "C:\\Users\\mbustamf\\Anaconda3\\lib\\site-packages\\xgboost\\sklearn.py:793: UserWarning: `early_stopping_rounds` in `fit` method is deprecated for better compatibility with scikit-learn, use `early_stopping_rounds` in constructor or`set_params` instead.\n",
      "  warnings.warn(\n",
      "\n"
     ]
    },
    {
     "name": "stdout",
     "output_type": "stream",
     "text": [
      "SCORE:                                                                             \n",
      "0.8137034502981135                                                                 \n",
      " 32%|███▏      | 32/100 [00:08<00:16,  4.25trial/s, best loss: -0.8137034502981135]"
     ]
    },
    {
     "name": "stderr",
     "output_type": "stream",
     "text": [
      "C:\\Users\\mbustamf\\Anaconda3\\lib\\site-packages\\xgboost\\sklearn.py:793: UserWarning: `eval_metric` in `fit` method is deprecated for better compatibility with scikit-learn, use `eval_metric` in constructor or`set_params` instead.\n",
      "  warnings.warn(\n",
      "\n",
      "C:\\Users\\mbustamf\\Anaconda3\\lib\\site-packages\\xgboost\\sklearn.py:793: UserWarning: `early_stopping_rounds` in `fit` method is deprecated for better compatibility with scikit-learn, use `early_stopping_rounds` in constructor or`set_params` instead.\n",
      "  warnings.warn(\n",
      "\n"
     ]
    },
    {
     "name": "stdout",
     "output_type": "stream",
     "text": [
      "SCORE:                                                                             \n",
      "0.8137034502981135                                                                 \n",
      " 33%|███▎      | 33/100 [00:08<00:15,  4.25trial/s, best loss: -0.8137034502981135]"
     ]
    },
    {
     "name": "stderr",
     "output_type": "stream",
     "text": [
      "C:\\Users\\mbustamf\\Anaconda3\\lib\\site-packages\\xgboost\\sklearn.py:793: UserWarning: `eval_metric` in `fit` method is deprecated for better compatibility with scikit-learn, use `eval_metric` in constructor or`set_params` instead.\n",
      "  warnings.warn(\n",
      "\n",
      "C:\\Users\\mbustamf\\Anaconda3\\lib\\site-packages\\xgboost\\sklearn.py:793: UserWarning: `early_stopping_rounds` in `fit` method is deprecated for better compatibility with scikit-learn, use `early_stopping_rounds` in constructor or`set_params` instead.\n",
      "  warnings.warn(\n",
      "\n"
     ]
    },
    {
     "name": "stdout",
     "output_type": "stream",
     "text": [
      "SCORE:                                                                             \n",
      "0.8137034502981135                                                                 \n",
      " 34%|███▍      | 34/100 [00:08<00:15,  4.22trial/s, best loss: -0.8137034502981135]"
     ]
    },
    {
     "name": "stderr",
     "output_type": "stream",
     "text": [
      "C:\\Users\\mbustamf\\Anaconda3\\lib\\site-packages\\xgboost\\sklearn.py:793: UserWarning: `eval_metric` in `fit` method is deprecated for better compatibility with scikit-learn, use `eval_metric` in constructor or`set_params` instead.\n",
      "  warnings.warn(\n",
      "\n",
      "C:\\Users\\mbustamf\\Anaconda3\\lib\\site-packages\\xgboost\\sklearn.py:793: UserWarning: `early_stopping_rounds` in `fit` method is deprecated for better compatibility with scikit-learn, use `early_stopping_rounds` in constructor or`set_params` instead.\n",
      "  warnings.warn(\n",
      "\n"
     ]
    },
    {
     "name": "stdout",
     "output_type": "stream",
     "text": [
      "SCORE:                                                                             \n",
      "0.8137034502981135                                                                 \n",
      " 35%|███▌      | 35/100 [00:08<00:17,  3.64trial/s, best loss: -0.8137034502981135]"
     ]
    },
    {
     "name": "stderr",
     "output_type": "stream",
     "text": [
      "C:\\Users\\mbustamf\\Anaconda3\\lib\\site-packages\\xgboost\\sklearn.py:793: UserWarning: `eval_metric` in `fit` method is deprecated for better compatibility with scikit-learn, use `eval_metric` in constructor or`set_params` instead.\n",
      "  warnings.warn(\n",
      "\n",
      "C:\\Users\\mbustamf\\Anaconda3\\lib\\site-packages\\xgboost\\sklearn.py:793: UserWarning: `early_stopping_rounds` in `fit` method is deprecated for better compatibility with scikit-learn, use `early_stopping_rounds` in constructor or`set_params` instead.\n",
      "  warnings.warn(\n",
      "\n"
     ]
    },
    {
     "name": "stdout",
     "output_type": "stream",
     "text": [
      "SCORE:                                                                             \n",
      "0.8137034502981135                                                                 \n",
      " 36%|███▌      | 36/100 [00:09<00:17,  3.69trial/s, best loss: -0.8137034502981135]"
     ]
    },
    {
     "name": "stderr",
     "output_type": "stream",
     "text": [
      "C:\\Users\\mbustamf\\Anaconda3\\lib\\site-packages\\xgboost\\sklearn.py:793: UserWarning: `eval_metric` in `fit` method is deprecated for better compatibility with scikit-learn, use `eval_metric` in constructor or`set_params` instead.\n",
      "  warnings.warn(\n",
      "\n",
      "C:\\Users\\mbustamf\\Anaconda3\\lib\\site-packages\\xgboost\\sklearn.py:793: UserWarning: `early_stopping_rounds` in `fit` method is deprecated for better compatibility with scikit-learn, use `early_stopping_rounds` in constructor or`set_params` instead.\n",
      "  warnings.warn(\n",
      "\n"
     ]
    },
    {
     "name": "stdout",
     "output_type": "stream",
     "text": [
      "SCORE:                                                                             \n",
      "0.8137034502981135                                                                 \n",
      " 37%|███▋      | 37/100 [00:09<00:16,  3.88trial/s, best loss: -0.8137034502981135]"
     ]
    },
    {
     "name": "stderr",
     "output_type": "stream",
     "text": [
      "C:\\Users\\mbustamf\\Anaconda3\\lib\\site-packages\\xgboost\\sklearn.py:793: UserWarning: `eval_metric` in `fit` method is deprecated for better compatibility with scikit-learn, use `eval_metric` in constructor or`set_params` instead.\n",
      "  warnings.warn(\n",
      "\n",
      "C:\\Users\\mbustamf\\Anaconda3\\lib\\site-packages\\xgboost\\sklearn.py:793: UserWarning: `early_stopping_rounds` in `fit` method is deprecated for better compatibility with scikit-learn, use `early_stopping_rounds` in constructor or`set_params` instead.\n",
      "  warnings.warn(\n",
      "\n"
     ]
    },
    {
     "name": "stdout",
     "output_type": "stream",
     "text": [
      "SCORE:                                                                             \n",
      "0.8137034502981135                                                                 \n",
      " 38%|███▊      | 38/100 [00:09<00:15,  3.94trial/s, best loss: -0.8137034502981135]"
     ]
    },
    {
     "name": "stderr",
     "output_type": "stream",
     "text": [
      "C:\\Users\\mbustamf\\Anaconda3\\lib\\site-packages\\xgboost\\sklearn.py:793: UserWarning: `eval_metric` in `fit` method is deprecated for better compatibility with scikit-learn, use `eval_metric` in constructor or`set_params` instead.\n",
      "  warnings.warn(\n",
      "\n",
      "C:\\Users\\mbustamf\\Anaconda3\\lib\\site-packages\\xgboost\\sklearn.py:793: UserWarning: `early_stopping_rounds` in `fit` method is deprecated for better compatibility with scikit-learn, use `early_stopping_rounds` in constructor or`set_params` instead.\n",
      "  warnings.warn(\n",
      "\n"
     ]
    },
    {
     "name": "stdout",
     "output_type": "stream",
     "text": [
      "SCORE:                                                                             \n",
      "0.8137034502981135                                                                 \n",
      " 39%|███▉      | 39/100 [00:09<00:15,  4.06trial/s, best loss: -0.8137034502981135]"
     ]
    },
    {
     "name": "stderr",
     "output_type": "stream",
     "text": [
      "C:\\Users\\mbustamf\\Anaconda3\\lib\\site-packages\\xgboost\\sklearn.py:793: UserWarning: `eval_metric` in `fit` method is deprecated for better compatibility with scikit-learn, use `eval_metric` in constructor or`set_params` instead.\n",
      "  warnings.warn(\n",
      "\n",
      "C:\\Users\\mbustamf\\Anaconda3\\lib\\site-packages\\xgboost\\sklearn.py:793: UserWarning: `early_stopping_rounds` in `fit` method is deprecated for better compatibility with scikit-learn, use `early_stopping_rounds` in constructor or`set_params` instead.\n",
      "  warnings.warn(\n",
      "\n"
     ]
    },
    {
     "name": "stdout",
     "output_type": "stream",
     "text": [
      "SCORE:                                                                             \n",
      "0.8137034502981135                                                                 \n",
      " 40%|████      | 40/100 [00:10<00:14,  4.20trial/s, best loss: -0.8137034502981135]"
     ]
    },
    {
     "name": "stderr",
     "output_type": "stream",
     "text": [
      "C:\\Users\\mbustamf\\Anaconda3\\lib\\site-packages\\xgboost\\sklearn.py:793: UserWarning: `eval_metric` in `fit` method is deprecated for better compatibility with scikit-learn, use `eval_metric` in constructor or`set_params` instead.\n",
      "  warnings.warn(\n",
      "\n",
      "C:\\Users\\mbustamf\\Anaconda3\\lib\\site-packages\\xgboost\\sklearn.py:793: UserWarning: `early_stopping_rounds` in `fit` method is deprecated for better compatibility with scikit-learn, use `early_stopping_rounds` in constructor or`set_params` instead.\n",
      "  warnings.warn(\n",
      "\n"
     ]
    },
    {
     "name": "stdout",
     "output_type": "stream",
     "text": [
      "SCORE:                                                                             \n",
      "0.8137034502981135                                                                 \n",
      " 41%|████      | 41/100 [00:10<00:13,  4.28trial/s, best loss: -0.8137034502981135]"
     ]
    },
    {
     "name": "stderr",
     "output_type": "stream",
     "text": [
      "C:\\Users\\mbustamf\\Anaconda3\\lib\\site-packages\\xgboost\\sklearn.py:793: UserWarning: `eval_metric` in `fit` method is deprecated for better compatibility with scikit-learn, use `eval_metric` in constructor or`set_params` instead.\n",
      "  warnings.warn(\n",
      "\n",
      "C:\\Users\\mbustamf\\Anaconda3\\lib\\site-packages\\xgboost\\sklearn.py:793: UserWarning: `early_stopping_rounds` in `fit` method is deprecated for better compatibility with scikit-learn, use `early_stopping_rounds` in constructor or`set_params` instead.\n",
      "  warnings.warn(\n",
      "\n"
     ]
    },
    {
     "name": "stdout",
     "output_type": "stream",
     "text": [
      "SCORE:                                                                             \n",
      "0.8137034502981135                                                                 \n",
      " 42%|████▏     | 42/100 [00:10<00:13,  4.23trial/s, best loss: -0.8137034502981135]"
     ]
    },
    {
     "name": "stderr",
     "output_type": "stream",
     "text": [
      "C:\\Users\\mbustamf\\Anaconda3\\lib\\site-packages\\xgboost\\sklearn.py:793: UserWarning: `eval_metric` in `fit` method is deprecated for better compatibility with scikit-learn, use `eval_metric` in constructor or`set_params` instead.\n",
      "  warnings.warn(\n",
      "\n",
      "C:\\Users\\mbustamf\\Anaconda3\\lib\\site-packages\\xgboost\\sklearn.py:793: UserWarning: `early_stopping_rounds` in `fit` method is deprecated for better compatibility with scikit-learn, use `early_stopping_rounds` in constructor or`set_params` instead.\n",
      "  warnings.warn(\n",
      "\n"
     ]
    },
    {
     "name": "stdout",
     "output_type": "stream",
     "text": [
      "SCORE:                                                                             \n",
      "0.8137034502981135                                                                 \n",
      " 43%|████▎     | 43/100 [00:10<00:13,  4.28trial/s, best loss: -0.8137034502981135]"
     ]
    },
    {
     "name": "stderr",
     "output_type": "stream",
     "text": [
      "C:\\Users\\mbustamf\\Anaconda3\\lib\\site-packages\\xgboost\\sklearn.py:793: UserWarning: `eval_metric` in `fit` method is deprecated for better compatibility with scikit-learn, use `eval_metric` in constructor or`set_params` instead.\n",
      "  warnings.warn(\n",
      "\n",
      "C:\\Users\\mbustamf\\Anaconda3\\lib\\site-packages\\xgboost\\sklearn.py:793: UserWarning: `early_stopping_rounds` in `fit` method is deprecated for better compatibility with scikit-learn, use `early_stopping_rounds` in constructor or`set_params` instead.\n",
      "  warnings.warn(\n",
      "\n"
     ]
    },
    {
     "name": "stdout",
     "output_type": "stream",
     "text": [
      "SCORE:                                                                             \n",
      "0.8137034502981135                                                                 \n",
      " 44%|████▍     | 44/100 [00:10<00:13,  4.29trial/s, best loss: -0.8137034502981135]"
     ]
    },
    {
     "name": "stderr",
     "output_type": "stream",
     "text": [
      "C:\\Users\\mbustamf\\Anaconda3\\lib\\site-packages\\xgboost\\sklearn.py:793: UserWarning: `eval_metric` in `fit` method is deprecated for better compatibility with scikit-learn, use `eval_metric` in constructor or`set_params` instead.\n",
      "  warnings.warn(\n",
      "\n",
      "C:\\Users\\mbustamf\\Anaconda3\\lib\\site-packages\\xgboost\\sklearn.py:793: UserWarning: `early_stopping_rounds` in `fit` method is deprecated for better compatibility with scikit-learn, use `early_stopping_rounds` in constructor or`set_params` instead.\n",
      "  warnings.warn(\n",
      "\n"
     ]
    },
    {
     "name": "stdout",
     "output_type": "stream",
     "text": [
      "SCORE:                                                                             \n",
      "0.8137034502981135                                                                 \n",
      " 45%|████▌     | 45/100 [00:11<00:12,  4.37trial/s, best loss: -0.8137034502981135]"
     ]
    },
    {
     "name": "stderr",
     "output_type": "stream",
     "text": [
      "C:\\Users\\mbustamf\\Anaconda3\\lib\\site-packages\\xgboost\\sklearn.py:793: UserWarning: `eval_metric` in `fit` method is deprecated for better compatibility with scikit-learn, use `eval_metric` in constructor or`set_params` instead.\n",
      "  warnings.warn(\n",
      "\n",
      "C:\\Users\\mbustamf\\Anaconda3\\lib\\site-packages\\xgboost\\sklearn.py:793: UserWarning: `early_stopping_rounds` in `fit` method is deprecated for better compatibility with scikit-learn, use `early_stopping_rounds` in constructor or`set_params` instead.\n",
      "  warnings.warn(\n",
      "\n"
     ]
    },
    {
     "name": "stdout",
     "output_type": "stream",
     "text": [
      "SCORE:                                                                             \n",
      "0.8137034502981135                                                                 \n",
      " 46%|████▌     | 46/100 [00:11<00:12,  4.44trial/s, best loss: -0.8137034502981135]"
     ]
    },
    {
     "name": "stderr",
     "output_type": "stream",
     "text": [
      "C:\\Users\\mbustamf\\Anaconda3\\lib\\site-packages\\xgboost\\sklearn.py:793: UserWarning: `eval_metric` in `fit` method is deprecated for better compatibility with scikit-learn, use `eval_metric` in constructor or`set_params` instead.\n",
      "  warnings.warn(\n",
      "\n",
      "C:\\Users\\mbustamf\\Anaconda3\\lib\\site-packages\\xgboost\\sklearn.py:793: UserWarning: `early_stopping_rounds` in `fit` method is deprecated for better compatibility with scikit-learn, use `early_stopping_rounds` in constructor or`set_params` instead.\n",
      "  warnings.warn(\n",
      "\n"
     ]
    },
    {
     "name": "stdout",
     "output_type": "stream",
     "text": [
      "SCORE:                                                                             \n",
      "0.8137034502981135                                                                 \n",
      " 47%|████▋     | 47/100 [00:11<00:11,  4.48trial/s, best loss: -0.8137034502981135]"
     ]
    },
    {
     "name": "stderr",
     "output_type": "stream",
     "text": [
      "C:\\Users\\mbustamf\\Anaconda3\\lib\\site-packages\\xgboost\\sklearn.py:793: UserWarning: `eval_metric` in `fit` method is deprecated for better compatibility with scikit-learn, use `eval_metric` in constructor or`set_params` instead.\n",
      "  warnings.warn(\n",
      "\n",
      "C:\\Users\\mbustamf\\Anaconda3\\lib\\site-packages\\xgboost\\sklearn.py:793: UserWarning: `early_stopping_rounds` in `fit` method is deprecated for better compatibility with scikit-learn, use `early_stopping_rounds` in constructor or`set_params` instead.\n",
      "  warnings.warn(\n",
      "\n"
     ]
    },
    {
     "name": "stdout",
     "output_type": "stream",
     "text": [
      "SCORE:                                                                             \n",
      "0.8137034502981135                                                                 \n",
      " 48%|████▊     | 48/100 [00:11<00:11,  4.49trial/s, best loss: -0.8137034502981135]"
     ]
    },
    {
     "name": "stderr",
     "output_type": "stream",
     "text": [
      "C:\\Users\\mbustamf\\Anaconda3\\lib\\site-packages\\xgboost\\sklearn.py:793: UserWarning: `eval_metric` in `fit` method is deprecated for better compatibility with scikit-learn, use `eval_metric` in constructor or`set_params` instead.\n",
      "  warnings.warn(\n",
      "\n",
      "C:\\Users\\mbustamf\\Anaconda3\\lib\\site-packages\\xgboost\\sklearn.py:793: UserWarning: `early_stopping_rounds` in `fit` method is deprecated for better compatibility with scikit-learn, use `early_stopping_rounds` in constructor or`set_params` instead.\n",
      "  warnings.warn(\n",
      "\n"
     ]
    },
    {
     "name": "stdout",
     "output_type": "stream",
     "text": [
      "SCORE:                                                                             \n",
      "0.8137034502981135                                                                 \n",
      " 49%|████▉     | 49/100 [00:12<00:11,  4.49trial/s, best loss: -0.8137034502981135]"
     ]
    },
    {
     "name": "stderr",
     "output_type": "stream",
     "text": [
      "C:\\Users\\mbustamf\\Anaconda3\\lib\\site-packages\\xgboost\\sklearn.py:793: UserWarning: `eval_metric` in `fit` method is deprecated for better compatibility with scikit-learn, use `eval_metric` in constructor or`set_params` instead.\n",
      "  warnings.warn(\n",
      "\n",
      "C:\\Users\\mbustamf\\Anaconda3\\lib\\site-packages\\xgboost\\sklearn.py:793: UserWarning: `early_stopping_rounds` in `fit` method is deprecated for better compatibility with scikit-learn, use `early_stopping_rounds` in constructor or`set_params` instead.\n",
      "  warnings.warn(\n",
      "\n"
     ]
    },
    {
     "name": "stdout",
     "output_type": "stream",
     "text": [
      "SCORE:                                                                             \n",
      "0.8137034502981135                                                                 \n",
      " 50%|█████     | 50/100 [00:12<00:12,  4.08trial/s, best loss: -0.8137034502981135]"
     ]
    },
    {
     "name": "stderr",
     "output_type": "stream",
     "text": [
      "C:\\Users\\mbustamf\\Anaconda3\\lib\\site-packages\\xgboost\\sklearn.py:793: UserWarning: `eval_metric` in `fit` method is deprecated for better compatibility with scikit-learn, use `eval_metric` in constructor or`set_params` instead.\n",
      "  warnings.warn(\n",
      "\n",
      "C:\\Users\\mbustamf\\Anaconda3\\lib\\site-packages\\xgboost\\sklearn.py:793: UserWarning: `early_stopping_rounds` in `fit` method is deprecated for better compatibility with scikit-learn, use `early_stopping_rounds` in constructor or`set_params` instead.\n",
      "  warnings.warn(\n",
      "\n"
     ]
    },
    {
     "name": "stdout",
     "output_type": "stream",
     "text": [
      "SCORE:                                                                             \n",
      "0.8137034502981135                                                                 \n",
      " 51%|█████     | 51/100 [00:12<00:11,  4.19trial/s, best loss: -0.8137034502981135]"
     ]
    },
    {
     "name": "stderr",
     "output_type": "stream",
     "text": [
      "C:\\Users\\mbustamf\\Anaconda3\\lib\\site-packages\\xgboost\\sklearn.py:793: UserWarning: `eval_metric` in `fit` method is deprecated for better compatibility with scikit-learn, use `eval_metric` in constructor or`set_params` instead.\n",
      "  warnings.warn(\n",
      "\n",
      "C:\\Users\\mbustamf\\Anaconda3\\lib\\site-packages\\xgboost\\sklearn.py:793: UserWarning: `early_stopping_rounds` in `fit` method is deprecated for better compatibility with scikit-learn, use `early_stopping_rounds` in constructor or`set_params` instead.\n",
      "  warnings.warn(\n",
      "\n"
     ]
    },
    {
     "name": "stdout",
     "output_type": "stream",
     "text": [
      "SCORE:                                                                             \n",
      "0.8137034502981135                                                                 \n",
      " 52%|█████▏    | 52/100 [00:12<00:11,  4.26trial/s, best loss: -0.8137034502981135]"
     ]
    },
    {
     "name": "stderr",
     "output_type": "stream",
     "text": [
      "C:\\Users\\mbustamf\\Anaconda3\\lib\\site-packages\\xgboost\\sklearn.py:793: UserWarning: `eval_metric` in `fit` method is deprecated for better compatibility with scikit-learn, use `eval_metric` in constructor or`set_params` instead.\n",
      "  warnings.warn(\n",
      "\n",
      "C:\\Users\\mbustamf\\Anaconda3\\lib\\site-packages\\xgboost\\sklearn.py:793: UserWarning: `early_stopping_rounds` in `fit` method is deprecated for better compatibility with scikit-learn, use `early_stopping_rounds` in constructor or`set_params` instead.\n",
      "  warnings.warn(\n",
      "\n"
     ]
    },
    {
     "name": "stdout",
     "output_type": "stream",
     "text": [
      "SCORE:                                                                             \n",
      "0.8137034502981135                                                                 \n",
      " 53%|█████▎    | 53/100 [00:13<00:11,  4.25trial/s, best loss: -0.8137034502981135]"
     ]
    },
    {
     "name": "stderr",
     "output_type": "stream",
     "text": [
      "C:\\Users\\mbustamf\\Anaconda3\\lib\\site-packages\\xgboost\\sklearn.py:793: UserWarning: `eval_metric` in `fit` method is deprecated for better compatibility with scikit-learn, use `eval_metric` in constructor or`set_params` instead.\n",
      "  warnings.warn(\n",
      "\n",
      "C:\\Users\\mbustamf\\Anaconda3\\lib\\site-packages\\xgboost\\sklearn.py:793: UserWarning: `early_stopping_rounds` in `fit` method is deprecated for better compatibility with scikit-learn, use `early_stopping_rounds` in constructor or`set_params` instead.\n",
      "  warnings.warn(\n",
      "\n"
     ]
    },
    {
     "name": "stdout",
     "output_type": "stream",
     "text": [
      "SCORE:                                                                             \n",
      "0.8137034502981135                                                                 \n",
      " 54%|█████▍    | 54/100 [00:13<00:10,  4.31trial/s, best loss: -0.8137034502981135]"
     ]
    },
    {
     "name": "stderr",
     "output_type": "stream",
     "text": [
      "C:\\Users\\mbustamf\\Anaconda3\\lib\\site-packages\\xgboost\\sklearn.py:793: UserWarning: `eval_metric` in `fit` method is deprecated for better compatibility with scikit-learn, use `eval_metric` in constructor or`set_params` instead.\n",
      "  warnings.warn(\n",
      "\n",
      "C:\\Users\\mbustamf\\Anaconda3\\lib\\site-packages\\xgboost\\sklearn.py:793: UserWarning: `early_stopping_rounds` in `fit` method is deprecated for better compatibility with scikit-learn, use `early_stopping_rounds` in constructor or`set_params` instead.\n",
      "  warnings.warn(\n",
      "\n"
     ]
    },
    {
     "name": "stdout",
     "output_type": "stream",
     "text": [
      "SCORE:                                                                             \n",
      "0.8137034502981135                                                                 \n",
      " 55%|█████▌    | 55/100 [00:13<00:10,  4.25trial/s, best loss: -0.8137034502981135]"
     ]
    },
    {
     "name": "stderr",
     "output_type": "stream",
     "text": [
      "C:\\Users\\mbustamf\\Anaconda3\\lib\\site-packages\\xgboost\\sklearn.py:793: UserWarning: `eval_metric` in `fit` method is deprecated for better compatibility with scikit-learn, use `eval_metric` in constructor or`set_params` instead.\n",
      "  warnings.warn(\n",
      "\n",
      "C:\\Users\\mbustamf\\Anaconda3\\lib\\site-packages\\xgboost\\sklearn.py:793: UserWarning: `early_stopping_rounds` in `fit` method is deprecated for better compatibility with scikit-learn, use `early_stopping_rounds` in constructor or`set_params` instead.\n",
      "  warnings.warn(\n",
      "\n"
     ]
    },
    {
     "name": "stdout",
     "output_type": "stream",
     "text": [
      "SCORE:                                                                             \n",
      "0.8137034502981135                                                                 \n",
      " 56%|█████▌    | 56/100 [00:13<00:10,  4.29trial/s, best loss: -0.8137034502981135]"
     ]
    },
    {
     "name": "stderr",
     "output_type": "stream",
     "text": [
      "C:\\Users\\mbustamf\\Anaconda3\\lib\\site-packages\\xgboost\\sklearn.py:793: UserWarning: `eval_metric` in `fit` method is deprecated for better compatibility with scikit-learn, use `eval_metric` in constructor or`set_params` instead.\n",
      "  warnings.warn(\n",
      "\n",
      "C:\\Users\\mbustamf\\Anaconda3\\lib\\site-packages\\xgboost\\sklearn.py:793: UserWarning: `early_stopping_rounds` in `fit` method is deprecated for better compatibility with scikit-learn, use `early_stopping_rounds` in constructor or`set_params` instead.\n",
      "  warnings.warn(\n",
      "\n"
     ]
    },
    {
     "name": "stdout",
     "output_type": "stream",
     "text": [
      "SCORE:                                                                             \n",
      "0.8137034502981135                                                                 \n",
      " 57%|█████▋    | 57/100 [00:13<00:10,  4.27trial/s, best loss: -0.8137034502981135]"
     ]
    },
    {
     "name": "stderr",
     "output_type": "stream",
     "text": [
      "C:\\Users\\mbustamf\\Anaconda3\\lib\\site-packages\\xgboost\\sklearn.py:793: UserWarning: `eval_metric` in `fit` method is deprecated for better compatibility with scikit-learn, use `eval_metric` in constructor or`set_params` instead.\n",
      "  warnings.warn(\n",
      "\n",
      "C:\\Users\\mbustamf\\Anaconda3\\lib\\site-packages\\xgboost\\sklearn.py:793: UserWarning: `early_stopping_rounds` in `fit` method is deprecated for better compatibility with scikit-learn, use `early_stopping_rounds` in constructor or`set_params` instead.\n",
      "  warnings.warn(\n",
      "\n"
     ]
    },
    {
     "name": "stdout",
     "output_type": "stream",
     "text": [
      "SCORE:                                                                             \n",
      "0.8137034502981135                                                                 \n",
      " 58%|█████▊    | 58/100 [00:14<00:09,  4.24trial/s, best loss: -0.8137034502981135]"
     ]
    },
    {
     "name": "stderr",
     "output_type": "stream",
     "text": [
      "C:\\Users\\mbustamf\\Anaconda3\\lib\\site-packages\\xgboost\\sklearn.py:793: UserWarning: `eval_metric` in `fit` method is deprecated for better compatibility with scikit-learn, use `eval_metric` in constructor or`set_params` instead.\n",
      "  warnings.warn(\n",
      "\n",
      "C:\\Users\\mbustamf\\Anaconda3\\lib\\site-packages\\xgboost\\sklearn.py:793: UserWarning: `early_stopping_rounds` in `fit` method is deprecated for better compatibility with scikit-learn, use `early_stopping_rounds` in constructor or`set_params` instead.\n",
      "  warnings.warn(\n",
      "\n"
     ]
    },
    {
     "name": "stdout",
     "output_type": "stream",
     "text": [
      "SCORE:                                                                             \n",
      "0.8137034502981135                                                                 \n",
      " 59%|█████▉    | 59/100 [00:14<00:09,  4.27trial/s, best loss: -0.8137034502981135]"
     ]
    },
    {
     "name": "stderr",
     "output_type": "stream",
     "text": [
      "C:\\Users\\mbustamf\\Anaconda3\\lib\\site-packages\\xgboost\\sklearn.py:793: UserWarning: `eval_metric` in `fit` method is deprecated for better compatibility with scikit-learn, use `eval_metric` in constructor or`set_params` instead.\n",
      "  warnings.warn(\n",
      "\n",
      "C:\\Users\\mbustamf\\Anaconda3\\lib\\site-packages\\xgboost\\sklearn.py:793: UserWarning: `early_stopping_rounds` in `fit` method is deprecated for better compatibility with scikit-learn, use `early_stopping_rounds` in constructor or`set_params` instead.\n",
      "  warnings.warn(\n",
      "\n"
     ]
    },
    {
     "name": "stdout",
     "output_type": "stream",
     "text": [
      "SCORE:                                                                             \n",
      "0.8137034502981135                                                                 \n",
      " 60%|██████    | 60/100 [00:14<00:09,  4.31trial/s, best loss: -0.8137034502981135]"
     ]
    },
    {
     "name": "stderr",
     "output_type": "stream",
     "text": [
      "C:\\Users\\mbustamf\\Anaconda3\\lib\\site-packages\\xgboost\\sklearn.py:793: UserWarning: `eval_metric` in `fit` method is deprecated for better compatibility with scikit-learn, use `eval_metric` in constructor or`set_params` instead.\n",
      "  warnings.warn(\n",
      "\n",
      "C:\\Users\\mbustamf\\Anaconda3\\lib\\site-packages\\xgboost\\sklearn.py:793: UserWarning: `early_stopping_rounds` in `fit` method is deprecated for better compatibility with scikit-learn, use `early_stopping_rounds` in constructor or`set_params` instead.\n",
      "  warnings.warn(\n",
      "\n"
     ]
    },
    {
     "name": "stdout",
     "output_type": "stream",
     "text": [
      "SCORE:                                                                             \n",
      "0.8137034502981135                                                                 \n",
      " 61%|██████    | 61/100 [00:14<00:09,  4.27trial/s, best loss: -0.8137034502981135]"
     ]
    },
    {
     "name": "stderr",
     "output_type": "stream",
     "text": [
      "C:\\Users\\mbustamf\\Anaconda3\\lib\\site-packages\\xgboost\\sklearn.py:793: UserWarning: `eval_metric` in `fit` method is deprecated for better compatibility with scikit-learn, use `eval_metric` in constructor or`set_params` instead.\n",
      "  warnings.warn(\n",
      "\n",
      "C:\\Users\\mbustamf\\Anaconda3\\lib\\site-packages\\xgboost\\sklearn.py:793: UserWarning: `early_stopping_rounds` in `fit` method is deprecated for better compatibility with scikit-learn, use `early_stopping_rounds` in constructor or`set_params` instead.\n",
      "  warnings.warn(\n",
      "\n"
     ]
    },
    {
     "name": "stdout",
     "output_type": "stream",
     "text": [
      "SCORE:                                                                             \n",
      "0.8137034502981135                                                                 \n",
      " 62%|██████▏   | 62/100 [00:15<00:08,  4.35trial/s, best loss: -0.8137034502981135]"
     ]
    },
    {
     "name": "stderr",
     "output_type": "stream",
     "text": [
      "C:\\Users\\mbustamf\\Anaconda3\\lib\\site-packages\\xgboost\\sklearn.py:793: UserWarning: `eval_metric` in `fit` method is deprecated for better compatibility with scikit-learn, use `eval_metric` in constructor or`set_params` instead.\n",
      "  warnings.warn(\n",
      "\n",
      "C:\\Users\\mbustamf\\Anaconda3\\lib\\site-packages\\xgboost\\sklearn.py:793: UserWarning: `early_stopping_rounds` in `fit` method is deprecated for better compatibility with scikit-learn, use `early_stopping_rounds` in constructor or`set_params` instead.\n",
      "  warnings.warn(\n",
      "\n"
     ]
    },
    {
     "name": "stdout",
     "output_type": "stream",
     "text": [
      "SCORE:                                                                             \n",
      "0.8137034502981135                                                                 \n",
      " 63%|██████▎   | 63/100 [00:15<00:08,  4.35trial/s, best loss: -0.8137034502981135]"
     ]
    },
    {
     "name": "stderr",
     "output_type": "stream",
     "text": [
      "C:\\Users\\mbustamf\\Anaconda3\\lib\\site-packages\\xgboost\\sklearn.py:793: UserWarning: `eval_metric` in `fit` method is deprecated for better compatibility with scikit-learn, use `eval_metric` in constructor or`set_params` instead.\n",
      "  warnings.warn(\n",
      "\n",
      "C:\\Users\\mbustamf\\Anaconda3\\lib\\site-packages\\xgboost\\sklearn.py:793: UserWarning: `early_stopping_rounds` in `fit` method is deprecated for better compatibility with scikit-learn, use `early_stopping_rounds` in constructor or`set_params` instead.\n",
      "  warnings.warn(\n",
      "\n"
     ]
    },
    {
     "name": "stdout",
     "output_type": "stream",
     "text": [
      "SCORE:                                                                             \n",
      "0.8137034502981135                                                                 \n",
      " 64%|██████▍   | 64/100 [00:15<00:08,  4.38trial/s, best loss: -0.8137034502981135]"
     ]
    },
    {
     "name": "stderr",
     "output_type": "stream",
     "text": [
      "C:\\Users\\mbustamf\\Anaconda3\\lib\\site-packages\\xgboost\\sklearn.py:793: UserWarning: `eval_metric` in `fit` method is deprecated for better compatibility with scikit-learn, use `eval_metric` in constructor or`set_params` instead.\n",
      "  warnings.warn(\n",
      "\n",
      "C:\\Users\\mbustamf\\Anaconda3\\lib\\site-packages\\xgboost\\sklearn.py:793: UserWarning: `early_stopping_rounds` in `fit` method is deprecated for better compatibility with scikit-learn, use `early_stopping_rounds` in constructor or`set_params` instead.\n",
      "  warnings.warn(\n",
      "\n"
     ]
    },
    {
     "name": "stdout",
     "output_type": "stream",
     "text": [
      "SCORE:                                                                             \n",
      "0.8137034502981135                                                                 \n",
      " 65%|██████▌   | 65/100 [00:15<00:08,  4.36trial/s, best loss: -0.8137034502981135]"
     ]
    },
    {
     "name": "stderr",
     "output_type": "stream",
     "text": [
      "C:\\Users\\mbustamf\\Anaconda3\\lib\\site-packages\\xgboost\\sklearn.py:793: UserWarning: `eval_metric` in `fit` method is deprecated for better compatibility with scikit-learn, use `eval_metric` in constructor or`set_params` instead.\n",
      "  warnings.warn(\n",
      "\n",
      "C:\\Users\\mbustamf\\Anaconda3\\lib\\site-packages\\xgboost\\sklearn.py:793: UserWarning: `early_stopping_rounds` in `fit` method is deprecated for better compatibility with scikit-learn, use `early_stopping_rounds` in constructor or`set_params` instead.\n",
      "  warnings.warn(\n",
      "\n"
     ]
    },
    {
     "name": "stdout",
     "output_type": "stream",
     "text": [
      "SCORE:                                                                             \n",
      "0.8137034502981135                                                                 \n",
      " 66%|██████▌   | 66/100 [00:16<00:07,  4.30trial/s, best loss: -0.8137034502981135]"
     ]
    },
    {
     "name": "stderr",
     "output_type": "stream",
     "text": [
      "C:\\Users\\mbustamf\\Anaconda3\\lib\\site-packages\\xgboost\\sklearn.py:793: UserWarning: `eval_metric` in `fit` method is deprecated for better compatibility with scikit-learn, use `eval_metric` in constructor or`set_params` instead.\n",
      "  warnings.warn(\n",
      "\n",
      "C:\\Users\\mbustamf\\Anaconda3\\lib\\site-packages\\xgboost\\sklearn.py:793: UserWarning: `early_stopping_rounds` in `fit` method is deprecated for better compatibility with scikit-learn, use `early_stopping_rounds` in constructor or`set_params` instead.\n",
      "  warnings.warn(\n",
      "\n"
     ]
    },
    {
     "name": "stdout",
     "output_type": "stream",
     "text": [
      "SCORE:                                                                             \n",
      "0.8137034502981135                                                                 \n",
      " 67%|██████▋   | 67/100 [00:16<00:07,  4.31trial/s, best loss: -0.8137034502981135]"
     ]
    },
    {
     "name": "stderr",
     "output_type": "stream",
     "text": [
      "C:\\Users\\mbustamf\\Anaconda3\\lib\\site-packages\\xgboost\\sklearn.py:793: UserWarning: `eval_metric` in `fit` method is deprecated for better compatibility with scikit-learn, use `eval_metric` in constructor or`set_params` instead.\n",
      "  warnings.warn(\n",
      "\n",
      "C:\\Users\\mbustamf\\Anaconda3\\lib\\site-packages\\xgboost\\sklearn.py:793: UserWarning: `early_stopping_rounds` in `fit` method is deprecated for better compatibility with scikit-learn, use `early_stopping_rounds` in constructor or`set_params` instead.\n",
      "  warnings.warn(\n",
      "\n"
     ]
    },
    {
     "name": "stdout",
     "output_type": "stream",
     "text": [
      "SCORE:                                                                             \n",
      "0.8137034502981135                                                                 \n",
      " 68%|██████▊   | 68/100 [00:16<00:07,  4.37trial/s, best loss: -0.8137034502981135]"
     ]
    },
    {
     "name": "stderr",
     "output_type": "stream",
     "text": [
      "C:\\Users\\mbustamf\\Anaconda3\\lib\\site-packages\\xgboost\\sklearn.py:793: UserWarning: `eval_metric` in `fit` method is deprecated for better compatibility with scikit-learn, use `eval_metric` in constructor or`set_params` instead.\n",
      "  warnings.warn(\n",
      "\n",
      "C:\\Users\\mbustamf\\Anaconda3\\lib\\site-packages\\xgboost\\sklearn.py:793: UserWarning: `early_stopping_rounds` in `fit` method is deprecated for better compatibility with scikit-learn, use `early_stopping_rounds` in constructor or`set_params` instead.\n",
      "  warnings.warn(\n",
      "\n"
     ]
    },
    {
     "name": "stdout",
     "output_type": "stream",
     "text": [
      "SCORE:                                                                             \n",
      "0.8137034502981135                                                                 \n",
      " 69%|██████▉   | 69/100 [00:16<00:07,  4.27trial/s, best loss: -0.8137034502981135]"
     ]
    },
    {
     "name": "stderr",
     "output_type": "stream",
     "text": [
      "C:\\Users\\mbustamf\\Anaconda3\\lib\\site-packages\\xgboost\\sklearn.py:793: UserWarning: `eval_metric` in `fit` method is deprecated for better compatibility with scikit-learn, use `eval_metric` in constructor or`set_params` instead.\n",
      "  warnings.warn(\n",
      "\n",
      "C:\\Users\\mbustamf\\Anaconda3\\lib\\site-packages\\xgboost\\sklearn.py:793: UserWarning: `early_stopping_rounds` in `fit` method is deprecated for better compatibility with scikit-learn, use `early_stopping_rounds` in constructor or`set_params` instead.\n",
      "  warnings.warn(\n",
      "\n"
     ]
    },
    {
     "name": "stdout",
     "output_type": "stream",
     "text": [
      "SCORE:                                                                             \n",
      "0.8137034502981135                                                                 \n",
      " 70%|███████   | 70/100 [00:16<00:07,  4.27trial/s, best loss: -0.8137034502981135]"
     ]
    },
    {
     "name": "stderr",
     "output_type": "stream",
     "text": [
      "C:\\Users\\mbustamf\\Anaconda3\\lib\\site-packages\\xgboost\\sklearn.py:793: UserWarning: `eval_metric` in `fit` method is deprecated for better compatibility with scikit-learn, use `eval_metric` in constructor or`set_params` instead.\n",
      "  warnings.warn(\n",
      "\n",
      "C:\\Users\\mbustamf\\Anaconda3\\lib\\site-packages\\xgboost\\sklearn.py:793: UserWarning: `early_stopping_rounds` in `fit` method is deprecated for better compatibility with scikit-learn, use `early_stopping_rounds` in constructor or`set_params` instead.\n",
      "  warnings.warn(\n",
      "\n"
     ]
    },
    {
     "name": "stdout",
     "output_type": "stream",
     "text": [
      "SCORE:                                                                             \n",
      "0.8137034502981135                                                                 \n",
      " 71%|███████   | 71/100 [00:17<00:06,  4.32trial/s, best loss: -0.8137034502981135]"
     ]
    },
    {
     "name": "stderr",
     "output_type": "stream",
     "text": [
      "C:\\Users\\mbustamf\\Anaconda3\\lib\\site-packages\\xgboost\\sklearn.py:793: UserWarning: `eval_metric` in `fit` method is deprecated for better compatibility with scikit-learn, use `eval_metric` in constructor or`set_params` instead.\n",
      "  warnings.warn(\n",
      "\n",
      "C:\\Users\\mbustamf\\Anaconda3\\lib\\site-packages\\xgboost\\sklearn.py:793: UserWarning: `early_stopping_rounds` in `fit` method is deprecated for better compatibility with scikit-learn, use `early_stopping_rounds` in constructor or`set_params` instead.\n",
      "  warnings.warn(\n",
      "\n"
     ]
    },
    {
     "name": "stdout",
     "output_type": "stream",
     "text": [
      "SCORE:                                                                             \n",
      "0.8137034502981135                                                                 \n",
      " 72%|███████▏  | 72/100 [00:17<00:06,  4.34trial/s, best loss: -0.8137034502981135]"
     ]
    },
    {
     "name": "stderr",
     "output_type": "stream",
     "text": [
      "C:\\Users\\mbustamf\\Anaconda3\\lib\\site-packages\\xgboost\\sklearn.py:793: UserWarning: `eval_metric` in `fit` method is deprecated for better compatibility with scikit-learn, use `eval_metric` in constructor or`set_params` instead.\n",
      "  warnings.warn(\n",
      "\n",
      "C:\\Users\\mbustamf\\Anaconda3\\lib\\site-packages\\xgboost\\sklearn.py:793: UserWarning: `early_stopping_rounds` in `fit` method is deprecated for better compatibility with scikit-learn, use `early_stopping_rounds` in constructor or`set_params` instead.\n",
      "  warnings.warn(\n",
      "\n"
     ]
    },
    {
     "name": "stdout",
     "output_type": "stream",
     "text": [
      "SCORE:                                                                             \n",
      "0.8137034502981135                                                                 \n",
      " 73%|███████▎  | 73/100 [00:17<00:06,  4.26trial/s, best loss: -0.8137034502981135]"
     ]
    },
    {
     "name": "stderr",
     "output_type": "stream",
     "text": [
      "C:\\Users\\mbustamf\\Anaconda3\\lib\\site-packages\\xgboost\\sklearn.py:793: UserWarning: `eval_metric` in `fit` method is deprecated for better compatibility with scikit-learn, use `eval_metric` in constructor or`set_params` instead.\n",
      "  warnings.warn(\n",
      "\n",
      "C:\\Users\\mbustamf\\Anaconda3\\lib\\site-packages\\xgboost\\sklearn.py:793: UserWarning: `early_stopping_rounds` in `fit` method is deprecated for better compatibility with scikit-learn, use `early_stopping_rounds` in constructor or`set_params` instead.\n",
      "  warnings.warn(\n",
      "\n"
     ]
    },
    {
     "name": "stdout",
     "output_type": "stream",
     "text": [
      "SCORE:                                                                             \n",
      "0.8137034502981135                                                                 \n",
      " 74%|███████▍  | 74/100 [00:17<00:06,  4.24trial/s, best loss: -0.8137034502981135]"
     ]
    },
    {
     "name": "stderr",
     "output_type": "stream",
     "text": [
      "C:\\Users\\mbustamf\\Anaconda3\\lib\\site-packages\\xgboost\\sklearn.py:793: UserWarning: `eval_metric` in `fit` method is deprecated for better compatibility with scikit-learn, use `eval_metric` in constructor or`set_params` instead.\n",
      "  warnings.warn(\n",
      "\n",
      "C:\\Users\\mbustamf\\Anaconda3\\lib\\site-packages\\xgboost\\sklearn.py:793: UserWarning: `early_stopping_rounds` in `fit` method is deprecated for better compatibility with scikit-learn, use `early_stopping_rounds` in constructor or`set_params` instead.\n",
      "  warnings.warn(\n",
      "\n"
     ]
    },
    {
     "name": "stdout",
     "output_type": "stream",
     "text": [
      "SCORE:                                                                             \n",
      "0.8137034502981135                                                                 \n",
      " 75%|███████▌  | 75/100 [00:18<00:06,  4.12trial/s, best loss: -0.8137034502981135]"
     ]
    },
    {
     "name": "stderr",
     "output_type": "stream",
     "text": [
      "C:\\Users\\mbustamf\\Anaconda3\\lib\\site-packages\\xgboost\\sklearn.py:793: UserWarning: `eval_metric` in `fit` method is deprecated for better compatibility with scikit-learn, use `eval_metric` in constructor or`set_params` instead.\n",
      "  warnings.warn(\n",
      "\n",
      "C:\\Users\\mbustamf\\Anaconda3\\lib\\site-packages\\xgboost\\sklearn.py:793: UserWarning: `early_stopping_rounds` in `fit` method is deprecated for better compatibility with scikit-learn, use `early_stopping_rounds` in constructor or`set_params` instead.\n",
      "  warnings.warn(\n",
      "\n"
     ]
    },
    {
     "name": "stdout",
     "output_type": "stream",
     "text": [
      "SCORE:                                                                             \n",
      "0.8137034502981135                                                                 \n",
      " 76%|███████▌  | 76/100 [00:18<00:05,  4.12trial/s, best loss: -0.8137034502981135]"
     ]
    },
    {
     "name": "stderr",
     "output_type": "stream",
     "text": [
      "C:\\Users\\mbustamf\\Anaconda3\\lib\\site-packages\\xgboost\\sklearn.py:793: UserWarning: `eval_metric` in `fit` method is deprecated for better compatibility with scikit-learn, use `eval_metric` in constructor or`set_params` instead.\n",
      "  warnings.warn(\n",
      "\n",
      "C:\\Users\\mbustamf\\Anaconda3\\lib\\site-packages\\xgboost\\sklearn.py:793: UserWarning: `early_stopping_rounds` in `fit` method is deprecated for better compatibility with scikit-learn, use `early_stopping_rounds` in constructor or`set_params` instead.\n",
      "  warnings.warn(\n",
      "\n"
     ]
    },
    {
     "name": "stdout",
     "output_type": "stream",
     "text": [
      "SCORE:                                                                             \n",
      "0.8137034502981135                                                                 \n",
      " 77%|███████▋  | 77/100 [00:18<00:05,  4.10trial/s, best loss: -0.8137034502981135]"
     ]
    },
    {
     "name": "stderr",
     "output_type": "stream",
     "text": [
      "C:\\Users\\mbustamf\\Anaconda3\\lib\\site-packages\\xgboost\\sklearn.py:793: UserWarning: `eval_metric` in `fit` method is deprecated for better compatibility with scikit-learn, use `eval_metric` in constructor or`set_params` instead.\n",
      "  warnings.warn(\n",
      "\n",
      "C:\\Users\\mbustamf\\Anaconda3\\lib\\site-packages\\xgboost\\sklearn.py:793: UserWarning: `early_stopping_rounds` in `fit` method is deprecated for better compatibility with scikit-learn, use `early_stopping_rounds` in constructor or`set_params` instead.\n",
      "  warnings.warn(\n",
      "\n"
     ]
    },
    {
     "name": "stdout",
     "output_type": "stream",
     "text": [
      "SCORE:                                                                             \n",
      "0.8137034502981135                                                                 \n",
      " 78%|███████▊  | 78/100 [00:18<00:05,  4.17trial/s, best loss: -0.8137034502981135]"
     ]
    },
    {
     "name": "stderr",
     "output_type": "stream",
     "text": [
      "C:\\Users\\mbustamf\\Anaconda3\\lib\\site-packages\\xgboost\\sklearn.py:793: UserWarning: `eval_metric` in `fit` method is deprecated for better compatibility with scikit-learn, use `eval_metric` in constructor or`set_params` instead.\n",
      "  warnings.warn(\n",
      "\n",
      "C:\\Users\\mbustamf\\Anaconda3\\lib\\site-packages\\xgboost\\sklearn.py:793: UserWarning: `early_stopping_rounds` in `fit` method is deprecated for better compatibility with scikit-learn, use `early_stopping_rounds` in constructor or`set_params` instead.\n",
      "  warnings.warn(\n",
      "\n"
     ]
    },
    {
     "name": "stdout",
     "output_type": "stream",
     "text": [
      "SCORE:                                                                             \n",
      "0.8137034502981135                                                                 \n",
      " 79%|███████▉  | 79/100 [00:19<00:04,  4.21trial/s, best loss: -0.8137034502981135]"
     ]
    },
    {
     "name": "stderr",
     "output_type": "stream",
     "text": [
      "C:\\Users\\mbustamf\\Anaconda3\\lib\\site-packages\\xgboost\\sklearn.py:793: UserWarning: `eval_metric` in `fit` method is deprecated for better compatibility with scikit-learn, use `eval_metric` in constructor or`set_params` instead.\n",
      "  warnings.warn(\n",
      "\n",
      "C:\\Users\\mbustamf\\Anaconda3\\lib\\site-packages\\xgboost\\sklearn.py:793: UserWarning: `early_stopping_rounds` in `fit` method is deprecated for better compatibility with scikit-learn, use `early_stopping_rounds` in constructor or`set_params` instead.\n",
      "  warnings.warn(\n",
      "\n"
     ]
    },
    {
     "name": "stdout",
     "output_type": "stream",
     "text": [
      "SCORE:                                                                             \n",
      "0.8137034502981135                                                                 \n",
      " 80%|████████  | 80/100 [00:19<00:04,  4.23trial/s, best loss: -0.8137034502981135]"
     ]
    },
    {
     "name": "stderr",
     "output_type": "stream",
     "text": [
      "C:\\Users\\mbustamf\\Anaconda3\\lib\\site-packages\\xgboost\\sklearn.py:793: UserWarning: `eval_metric` in `fit` method is deprecated for better compatibility with scikit-learn, use `eval_metric` in constructor or`set_params` instead.\n",
      "  warnings.warn(\n",
      "\n",
      "C:\\Users\\mbustamf\\Anaconda3\\lib\\site-packages\\xgboost\\sklearn.py:793: UserWarning: `early_stopping_rounds` in `fit` method is deprecated for better compatibility with scikit-learn, use `early_stopping_rounds` in constructor or`set_params` instead.\n",
      "  warnings.warn(\n",
      "\n"
     ]
    },
    {
     "name": "stdout",
     "output_type": "stream",
     "text": [
      "SCORE:                                                                             \n",
      "0.8137034502981135                                                                 \n",
      " 81%|████████  | 81/100 [00:19<00:04,  4.25trial/s, best loss: -0.8137034502981135]"
     ]
    },
    {
     "name": "stderr",
     "output_type": "stream",
     "text": [
      "C:\\Users\\mbustamf\\Anaconda3\\lib\\site-packages\\xgboost\\sklearn.py:793: UserWarning: `eval_metric` in `fit` method is deprecated for better compatibility with scikit-learn, use `eval_metric` in constructor or`set_params` instead.\n",
      "  warnings.warn(\n",
      "\n",
      "C:\\Users\\mbustamf\\Anaconda3\\lib\\site-packages\\xgboost\\sklearn.py:793: UserWarning: `early_stopping_rounds` in `fit` method is deprecated for better compatibility with scikit-learn, use `early_stopping_rounds` in constructor or`set_params` instead.\n",
      "  warnings.warn(\n",
      "\n"
     ]
    },
    {
     "name": "stdout",
     "output_type": "stream",
     "text": [
      "SCORE:                                                                             \n",
      "0.8137034502981135                                                                 \n",
      " 82%|████████▏ | 82/100 [00:19<00:04,  4.21trial/s, best loss: -0.8137034502981135]"
     ]
    },
    {
     "name": "stderr",
     "output_type": "stream",
     "text": [
      "C:\\Users\\mbustamf\\Anaconda3\\lib\\site-packages\\xgboost\\sklearn.py:793: UserWarning: `eval_metric` in `fit` method is deprecated for better compatibility with scikit-learn, use `eval_metric` in constructor or`set_params` instead.\n",
      "  warnings.warn(\n",
      "\n",
      "C:\\Users\\mbustamf\\Anaconda3\\lib\\site-packages\\xgboost\\sklearn.py:793: UserWarning: `early_stopping_rounds` in `fit` method is deprecated for better compatibility with scikit-learn, use `early_stopping_rounds` in constructor or`set_params` instead.\n",
      "  warnings.warn(\n",
      "\n"
     ]
    },
    {
     "name": "stdout",
     "output_type": "stream",
     "text": [
      "SCORE:                                                                             \n",
      "0.8137034502981135                                                                 \n",
      " 83%|████████▎ | 83/100 [00:20<00:04,  4.08trial/s, best loss: -0.8137034502981135]"
     ]
    },
    {
     "name": "stderr",
     "output_type": "stream",
     "text": [
      "C:\\Users\\mbustamf\\Anaconda3\\lib\\site-packages\\xgboost\\sklearn.py:793: UserWarning: `eval_metric` in `fit` method is deprecated for better compatibility with scikit-learn, use `eval_metric` in constructor or`set_params` instead.\n",
      "  warnings.warn(\n",
      "\n",
      "C:\\Users\\mbustamf\\Anaconda3\\lib\\site-packages\\xgboost\\sklearn.py:793: UserWarning: `early_stopping_rounds` in `fit` method is deprecated for better compatibility with scikit-learn, use `early_stopping_rounds` in constructor or`set_params` instead.\n",
      "  warnings.warn(\n",
      "\n"
     ]
    },
    {
     "name": "stdout",
     "output_type": "stream",
     "text": [
      "SCORE:                                                                             \n",
      "0.8137034502981135                                                                 \n",
      " 84%|████████▍ | 84/100 [00:20<00:04,  3.99trial/s, best loss: -0.8137034502981135]"
     ]
    },
    {
     "name": "stderr",
     "output_type": "stream",
     "text": [
      "C:\\Users\\mbustamf\\Anaconda3\\lib\\site-packages\\xgboost\\sklearn.py:793: UserWarning: `eval_metric` in `fit` method is deprecated for better compatibility with scikit-learn, use `eval_metric` in constructor or`set_params` instead.\n",
      "  warnings.warn(\n",
      "\n",
      "C:\\Users\\mbustamf\\Anaconda3\\lib\\site-packages\\xgboost\\sklearn.py:793: UserWarning: `early_stopping_rounds` in `fit` method is deprecated for better compatibility with scikit-learn, use `early_stopping_rounds` in constructor or`set_params` instead.\n",
      "  warnings.warn(\n",
      "\n"
     ]
    },
    {
     "name": "stdout",
     "output_type": "stream",
     "text": [
      "SCORE:                                                                             \n",
      "0.8137034502981135                                                                 \n",
      " 85%|████████▌ | 85/100 [00:20<00:03,  3.99trial/s, best loss: -0.8137034502981135]"
     ]
    },
    {
     "name": "stderr",
     "output_type": "stream",
     "text": [
      "C:\\Users\\mbustamf\\Anaconda3\\lib\\site-packages\\xgboost\\sklearn.py:793: UserWarning: `eval_metric` in `fit` method is deprecated for better compatibility with scikit-learn, use `eval_metric` in constructor or`set_params` instead.\n",
      "  warnings.warn(\n",
      "\n",
      "C:\\Users\\mbustamf\\Anaconda3\\lib\\site-packages\\xgboost\\sklearn.py:793: UserWarning: `early_stopping_rounds` in `fit` method is deprecated for better compatibility with scikit-learn, use `early_stopping_rounds` in constructor or`set_params` instead.\n",
      "  warnings.warn(\n",
      "\n"
     ]
    },
    {
     "name": "stdout",
     "output_type": "stream",
     "text": [
      "SCORE:                                                                             \n",
      "0.8137034502981135                                                                 \n",
      " 86%|████████▌ | 86/100 [00:20<00:03,  4.06trial/s, best loss: -0.8137034502981135]"
     ]
    },
    {
     "name": "stderr",
     "output_type": "stream",
     "text": [
      "C:\\Users\\mbustamf\\Anaconda3\\lib\\site-packages\\xgboost\\sklearn.py:793: UserWarning: `eval_metric` in `fit` method is deprecated for better compatibility with scikit-learn, use `eval_metric` in constructor or`set_params` instead.\n",
      "  warnings.warn(\n",
      "\n",
      "C:\\Users\\mbustamf\\Anaconda3\\lib\\site-packages\\xgboost\\sklearn.py:793: UserWarning: `early_stopping_rounds` in `fit` method is deprecated for better compatibility with scikit-learn, use `early_stopping_rounds` in constructor or`set_params` instead.\n",
      "  warnings.warn(\n",
      "\n"
     ]
    },
    {
     "name": "stdout",
     "output_type": "stream",
     "text": [
      "SCORE:                                                                             \n",
      "0.8137034502981135                                                                 \n",
      " 87%|████████▋ | 87/100 [00:21<00:03,  4.04trial/s, best loss: -0.8137034502981135]"
     ]
    },
    {
     "name": "stderr",
     "output_type": "stream",
     "text": [
      "C:\\Users\\mbustamf\\Anaconda3\\lib\\site-packages\\xgboost\\sklearn.py:793: UserWarning: `eval_metric` in `fit` method is deprecated for better compatibility with scikit-learn, use `eval_metric` in constructor or`set_params` instead.\n",
      "  warnings.warn(\n",
      "\n",
      "C:\\Users\\mbustamf\\Anaconda3\\lib\\site-packages\\xgboost\\sklearn.py:793: UserWarning: `early_stopping_rounds` in `fit` method is deprecated for better compatibility with scikit-learn, use `early_stopping_rounds` in constructor or`set_params` instead.\n",
      "  warnings.warn(\n",
      "\n"
     ]
    },
    {
     "name": "stdout",
     "output_type": "stream",
     "text": [
      "SCORE:                                                                             \n",
      "0.8137034502981135                                                                 \n",
      " 88%|████████▊ | 88/100 [00:21<00:02,  4.11trial/s, best loss: -0.8137034502981135]"
     ]
    },
    {
     "name": "stderr",
     "output_type": "stream",
     "text": [
      "C:\\Users\\mbustamf\\Anaconda3\\lib\\site-packages\\xgboost\\sklearn.py:793: UserWarning: `eval_metric` in `fit` method is deprecated for better compatibility with scikit-learn, use `eval_metric` in constructor or`set_params` instead.\n",
      "  warnings.warn(\n",
      "\n",
      "C:\\Users\\mbustamf\\Anaconda3\\lib\\site-packages\\xgboost\\sklearn.py:793: UserWarning: `early_stopping_rounds` in `fit` method is deprecated for better compatibility with scikit-learn, use `early_stopping_rounds` in constructor or`set_params` instead.\n",
      "  warnings.warn(\n",
      "\n"
     ]
    },
    {
     "name": "stdout",
     "output_type": "stream",
     "text": [
      "SCORE:                                                                             \n",
      "0.8137034502981135                                                                 \n",
      " 89%|████████▉ | 89/100 [00:21<00:02,  4.14trial/s, best loss: -0.8137034502981135]"
     ]
    },
    {
     "name": "stderr",
     "output_type": "stream",
     "text": [
      "C:\\Users\\mbustamf\\Anaconda3\\lib\\site-packages\\xgboost\\sklearn.py:793: UserWarning: `eval_metric` in `fit` method is deprecated for better compatibility with scikit-learn, use `eval_metric` in constructor or`set_params` instead.\n",
      "  warnings.warn(\n",
      "\n",
      "C:\\Users\\mbustamf\\Anaconda3\\lib\\site-packages\\xgboost\\sklearn.py:793: UserWarning: `early_stopping_rounds` in `fit` method is deprecated for better compatibility with scikit-learn, use `early_stopping_rounds` in constructor or`set_params` instead.\n",
      "  warnings.warn(\n",
      "\n"
     ]
    },
    {
     "name": "stdout",
     "output_type": "stream",
     "text": [
      "SCORE:                                                                             \n",
      "0.8137034502981135                                                                 \n",
      " 90%|█████████ | 90/100 [00:21<00:02,  4.12trial/s, best loss: -0.8137034502981135]"
     ]
    },
    {
     "name": "stderr",
     "output_type": "stream",
     "text": [
      "C:\\Users\\mbustamf\\Anaconda3\\lib\\site-packages\\xgboost\\sklearn.py:793: UserWarning: `eval_metric` in `fit` method is deprecated for better compatibility with scikit-learn, use `eval_metric` in constructor or`set_params` instead.\n",
      "  warnings.warn(\n",
      "\n",
      "C:\\Users\\mbustamf\\Anaconda3\\lib\\site-packages\\xgboost\\sklearn.py:793: UserWarning: `early_stopping_rounds` in `fit` method is deprecated for better compatibility with scikit-learn, use `early_stopping_rounds` in constructor or`set_params` instead.\n",
      "  warnings.warn(\n",
      "\n"
     ]
    },
    {
     "name": "stdout",
     "output_type": "stream",
     "text": [
      "SCORE:                                                                             \n",
      "0.8137034502981135                                                                 \n",
      " 91%|█████████ | 91/100 [00:22<00:02,  4.06trial/s, best loss: -0.8137034502981135]"
     ]
    },
    {
     "name": "stderr",
     "output_type": "stream",
     "text": [
      "C:\\Users\\mbustamf\\Anaconda3\\lib\\site-packages\\xgboost\\sklearn.py:793: UserWarning: `eval_metric` in `fit` method is deprecated for better compatibility with scikit-learn, use `eval_metric` in constructor or`set_params` instead.\n",
      "  warnings.warn(\n",
      "\n",
      "C:\\Users\\mbustamf\\Anaconda3\\lib\\site-packages\\xgboost\\sklearn.py:793: UserWarning: `early_stopping_rounds` in `fit` method is deprecated for better compatibility with scikit-learn, use `early_stopping_rounds` in constructor or`set_params` instead.\n",
      "  warnings.warn(\n",
      "\n"
     ]
    },
    {
     "name": "stdout",
     "output_type": "stream",
     "text": [
      "SCORE:                                                                             \n",
      "0.8137034502981135                                                                 \n",
      " 92%|█████████▏| 92/100 [00:22<00:01,  4.02trial/s, best loss: -0.8137034502981135]"
     ]
    },
    {
     "name": "stderr",
     "output_type": "stream",
     "text": [
      "C:\\Users\\mbustamf\\Anaconda3\\lib\\site-packages\\xgboost\\sklearn.py:793: UserWarning: `eval_metric` in `fit` method is deprecated for better compatibility with scikit-learn, use `eval_metric` in constructor or`set_params` instead.\n",
      "  warnings.warn(\n",
      "\n",
      "C:\\Users\\mbustamf\\Anaconda3\\lib\\site-packages\\xgboost\\sklearn.py:793: UserWarning: `early_stopping_rounds` in `fit` method is deprecated for better compatibility with scikit-learn, use `early_stopping_rounds` in constructor or`set_params` instead.\n",
      "  warnings.warn(\n",
      "\n"
     ]
    },
    {
     "name": "stdout",
     "output_type": "stream",
     "text": [
      "SCORE:                                                                             \n",
      "0.8137034502981135                                                                 \n",
      " 93%|█████████▎| 93/100 [00:22<00:01,  4.01trial/s, best loss: -0.8137034502981135]"
     ]
    },
    {
     "name": "stderr",
     "output_type": "stream",
     "text": [
      "C:\\Users\\mbustamf\\Anaconda3\\lib\\site-packages\\xgboost\\sklearn.py:793: UserWarning: `eval_metric` in `fit` method is deprecated for better compatibility with scikit-learn, use `eval_metric` in constructor or`set_params` instead.\n",
      "  warnings.warn(\n",
      "\n",
      "C:\\Users\\mbustamf\\Anaconda3\\lib\\site-packages\\xgboost\\sklearn.py:793: UserWarning: `early_stopping_rounds` in `fit` method is deprecated for better compatibility with scikit-learn, use `early_stopping_rounds` in constructor or`set_params` instead.\n",
      "  warnings.warn(\n",
      "\n"
     ]
    },
    {
     "name": "stdout",
     "output_type": "stream",
     "text": [
      "SCORE:                                                                             \n",
      "0.8137034502981135                                                                 \n",
      " 94%|█████████▍| 94/100 [00:23<00:02,  2.80trial/s, best loss: -0.8137034502981135]"
     ]
    },
    {
     "name": "stderr",
     "output_type": "stream",
     "text": [
      "C:\\Users\\mbustamf\\Anaconda3\\lib\\site-packages\\xgboost\\sklearn.py:793: UserWarning: `eval_metric` in `fit` method is deprecated for better compatibility with scikit-learn, use `eval_metric` in constructor or`set_params` instead.\n",
      "  warnings.warn(\n",
      "\n",
      "C:\\Users\\mbustamf\\Anaconda3\\lib\\site-packages\\xgboost\\sklearn.py:793: UserWarning: `early_stopping_rounds` in `fit` method is deprecated for better compatibility with scikit-learn, use `early_stopping_rounds` in constructor or`set_params` instead.\n",
      "  warnings.warn(\n",
      "\n"
     ]
    },
    {
     "name": "stdout",
     "output_type": "stream",
     "text": [
      "SCORE:                                                                             \n",
      "0.8137034502981135                                                                 \n",
      " 95%|█████████▌| 95/100 [00:23<00:01,  3.12trial/s, best loss: -0.8137034502981135]"
     ]
    },
    {
     "name": "stderr",
     "output_type": "stream",
     "text": [
      "C:\\Users\\mbustamf\\Anaconda3\\lib\\site-packages\\xgboost\\sklearn.py:793: UserWarning: `eval_metric` in `fit` method is deprecated for better compatibility with scikit-learn, use `eval_metric` in constructor or`set_params` instead.\n",
      "  warnings.warn(\n",
      "\n",
      "C:\\Users\\mbustamf\\Anaconda3\\lib\\site-packages\\xgboost\\sklearn.py:793: UserWarning: `early_stopping_rounds` in `fit` method is deprecated for better compatibility with scikit-learn, use `early_stopping_rounds` in constructor or`set_params` instead.\n",
      "  warnings.warn(\n",
      "\n"
     ]
    },
    {
     "name": "stdout",
     "output_type": "stream",
     "text": [
      "SCORE:                                                                             \n",
      "0.8137034502981135                                                                 \n",
      " 96%|█████████▌| 96/100 [00:23<00:01,  3.40trial/s, best loss: -0.8137034502981135]"
     ]
    },
    {
     "name": "stderr",
     "output_type": "stream",
     "text": [
      "C:\\Users\\mbustamf\\Anaconda3\\lib\\site-packages\\xgboost\\sklearn.py:793: UserWarning: `eval_metric` in `fit` method is deprecated for better compatibility with scikit-learn, use `eval_metric` in constructor or`set_params` instead.\n",
      "  warnings.warn(\n",
      "\n",
      "C:\\Users\\mbustamf\\Anaconda3\\lib\\site-packages\\xgboost\\sklearn.py:793: UserWarning: `early_stopping_rounds` in `fit` method is deprecated for better compatibility with scikit-learn, use `early_stopping_rounds` in constructor or`set_params` instead.\n",
      "  warnings.warn(\n",
      "\n"
     ]
    },
    {
     "name": "stdout",
     "output_type": "stream",
     "text": [
      "SCORE:                                                                             \n",
      "0.8137034502981135                                                                 \n",
      " 97%|█████████▋| 97/100 [00:23<00:00,  3.62trial/s, best loss: -0.8137034502981135]"
     ]
    },
    {
     "name": "stderr",
     "output_type": "stream",
     "text": [
      "C:\\Users\\mbustamf\\Anaconda3\\lib\\site-packages\\xgboost\\sklearn.py:793: UserWarning: `eval_metric` in `fit` method is deprecated for better compatibility with scikit-learn, use `eval_metric` in constructor or`set_params` instead.\n",
      "  warnings.warn(\n",
      "\n",
      "C:\\Users\\mbustamf\\Anaconda3\\lib\\site-packages\\xgboost\\sklearn.py:793: UserWarning: `early_stopping_rounds` in `fit` method is deprecated for better compatibility with scikit-learn, use `early_stopping_rounds` in constructor or`set_params` instead.\n",
      "  warnings.warn(\n",
      "\n"
     ]
    },
    {
     "name": "stdout",
     "output_type": "stream",
     "text": [
      "SCORE:                                                                             \n",
      "0.8137034502981135                                                                 \n",
      " 98%|█████████▊| 98/100 [00:24<00:00,  3.80trial/s, best loss: -0.8137034502981135]"
     ]
    },
    {
     "name": "stderr",
     "output_type": "stream",
     "text": [
      "C:\\Users\\mbustamf\\Anaconda3\\lib\\site-packages\\xgboost\\sklearn.py:793: UserWarning: `eval_metric` in `fit` method is deprecated for better compatibility with scikit-learn, use `eval_metric` in constructor or`set_params` instead.\n",
      "  warnings.warn(\n",
      "\n",
      "C:\\Users\\mbustamf\\Anaconda3\\lib\\site-packages\\xgboost\\sklearn.py:793: UserWarning: `early_stopping_rounds` in `fit` method is deprecated for better compatibility with scikit-learn, use `early_stopping_rounds` in constructor or`set_params` instead.\n",
      "  warnings.warn(\n",
      "\n"
     ]
    },
    {
     "name": "stdout",
     "output_type": "stream",
     "text": [
      "SCORE:                                                                             \n",
      "0.8137034502981135                                                                 \n",
      " 99%|█████████▉| 99/100 [00:24<00:00,  3.92trial/s, best loss: -0.8137034502981135]"
     ]
    },
    {
     "name": "stderr",
     "output_type": "stream",
     "text": [
      "C:\\Users\\mbustamf\\Anaconda3\\lib\\site-packages\\xgboost\\sklearn.py:793: UserWarning: `eval_metric` in `fit` method is deprecated for better compatibility with scikit-learn, use `eval_metric` in constructor or`set_params` instead.\n",
      "  warnings.warn(\n",
      "\n",
      "C:\\Users\\mbustamf\\Anaconda3\\lib\\site-packages\\xgboost\\sklearn.py:793: UserWarning: `early_stopping_rounds` in `fit` method is deprecated for better compatibility with scikit-learn, use `early_stopping_rounds` in constructor or`set_params` instead.\n",
      "  warnings.warn(\n",
      "\n"
     ]
    },
    {
     "name": "stdout",
     "output_type": "stream",
     "text": [
      "SCORE:                                                                             \n",
      "0.8137034502981135                                                                 \n",
      "100%|██████████| 100/100 [00:24<00:00,  4.07trial/s, best loss: -0.8137034502981135]\n"
     ]
    }
   ],
   "source": [
    "trials = Trials()\n",
    "\n",
    "best_hyperparams = fmin(fn = objective,\n",
    "                        space = space,\n",
    "                        algo = tpe.suggest,\n",
    "                        max_evals = 100,\n",
    "                        trials = trials)\n",
    "\n"
   ]
  },
  {
   "cell_type": "code",
   "execution_count": 287,
   "id": "dc294138",
   "metadata": {},
   "outputs": [
    {
     "name": "stdout",
     "output_type": "stream",
     "text": [
      "Los mejores hypermarametros son:  \n",
      "\n",
      "{'colsample_bytree': 0.9892403831077343, 'gamma': 1.8528490488310299, 'max_depth': 4.0, 'min_child_weight': 9.0, 'reg_alpha': 116.0, 'reg_lambda': 0.7541916569636499}\n"
     ]
    }
   ],
   "source": [
    "print(\"Los mejores hypermarametros son: \",\"\\n\")\n",
    "print(best_hyperparams)"
   ]
  },
  {
   "cell_type": "code",
   "execution_count": 288,
   "id": "829b657d",
   "metadata": {},
   "outputs": [
    {
     "data": {
      "text/plain": [
       "0.666731098884824"
      ]
     },
     "execution_count": 288,
     "metadata": {},
     "output_type": "execute_result"
    }
   ],
   "source": [
    "clf=XGBClassifier(n_estimators =180, max_depth = 7, gamma = 1.7679696104338376,\n",
    "                    reg_alpha = 4,min_child_weight=4,\n",
    "                    colsample_bytree=int(0.8620285832468177))\n",
    "    \n",
    "clf.fit(X_train, y_train)\n",
    "xgb_valid_pred = clf.predict_proba(X_test)[:, 1]\n",
    "\n",
    "roc_auc_score(y_test, xgb_valid_pred)\n",
    "    \n"
   ]
  },
  {
   "cell_type": "code",
   "execution_count": 289,
   "id": "c599914e",
   "metadata": {},
   "outputs": [
    {
     "name": "stdout",
     "output_type": "stream",
     "text": [
      "Data test:\n",
      "\n",
      "Precision ---> 81.35568370638256 %\n",
      "Reporte completo\n",
      "                   False         True  accuracy     macro avg  weighted avg\n",
      "precision      0.814352     0.468085  0.813557      0.641219      0.749844\n",
      "recall         0.998498     0.005771  0.813557      0.502135      0.813557\n",
      "f1-score       0.897073     0.011402  0.813557      0.454237      0.732075\n",
      "support    16650.000000  3812.000000  0.813557  20462.000000  20462.000000\n",
      "Matriz de confusión:\n",
      " [[16625    25]\n",
      " [ 3790    22]]\n",
      "Roc score ---> 0.5021348735934256\n",
      "Acc score ---> 0.8135568370638256\n"
     ]
    }
   ],
   "source": [
    "print_score(clf, X_train, y_train, X_test, y_test,\"XGBClassifier Hyp Tunn\",train=False,add=False)"
   ]
  },
  {
   "cell_type": "markdown",
   "id": "44c00563",
   "metadata": {},
   "source": [
    "A continuación se presenta una tabla resumen de los resultados obtenidos por modelo, cabe destacar que cada puntaje indicado es con respecto al conjunto de test y no el de entrenamiento."
   ]
  },
  {
   "cell_type": "code",
   "execution_count": 290,
   "id": "9d735e98",
   "metadata": {},
   "outputs": [
    {
     "name": "stdout",
     "output_type": "stream",
     "text": [
      "╒════════════════════════╤═════════════╤══════════╕\n",
      "│ Modelo                 │   Precision │      Roc │\n",
      "╞════════════════════════╪═════════════╪══════════╡\n",
      "│ DT_gridsearch          │     82.1767 │ 0.548342 │\n",
      "├────────────────────────┼─────────────┼──────────┤\n",
      "│ Decision Tree          │     80.4907 │ 0.561344 │\n",
      "├────────────────────────┼─────────────┼──────────┤\n",
      "│ Gradient Boost         │     80.5151 │ 0.54784  │\n",
      "├────────────────────────┼─────────────┼──────────┤\n",
      "│ Logistic Regression    │     81.5512 │ 0.513753 │\n",
      "├────────────────────────┼─────────────┼──────────┤\n",
      "│ Random Forest          │     81.7711 │ 0.525825 │\n",
      "├────────────────────────┼─────────────┼──────────┤\n",
      "│ XGBClassifier          │     82.2989 │ 0.560521 │\n",
      "├────────────────────────┼─────────────┼──────────┤\n",
      "│ XGBClassifier Hyp Tunn │     81.3557 │ 0.502135 │\n",
      "╘════════════════════════╧═════════════╧══════════╛\n"
     ]
    }
   ],
   "source": [
    "from tabulate import tabulate\n",
    "log[1:] = sorted(log[1:])\n",
    "print(tabulate(log, headers='firstrow', tablefmt='fancy_grid'))"
   ]
  },
  {
   "cell_type": "markdown",
   "id": "ebed3c45",
   "metadata": {},
   "source": [
    "# Conclusiones Finales"
   ]
  },
  {
   "cell_type": "markdown",
   "id": "804f59bb",
   "metadata": {},
   "source": [
    "Comparando la precisión de los modelos testeados el que entrego mejor resultado fue XGBClassifier junto Decision Tree, el cual este último al recibir una optimización de parametros recibio un leve mejoramiento en su precisión. Contrario al caso de XGB que al recibir optimización de parametros su variacion fue levemente negativa. No obstante los resultados en torno a la precisión ROC score de ambos no son muy altos.\n",
    "\n",
    "Una causa con respecto a la deficiencia de la precisión puede darse por las pocas variables que se tienen en torno a las caracteristicas de los vuelos, estas variables solo estan enfocadas en factores sobre los vuelos que se atrasan y no caracteristicas mas relevantes que puedan afectar a los vuelos. Como lo serían las condiciones climatologicas, distancia, la separación de hora de llegada con la hora de salida, si el vuelo tuvo mas de un destino (escalas), tipos de pasajeros (se ha notado como en ciertos casos vuelos con gente que se encuentra en situaciones de discapacidad etc.\n",
    "\n",
    "Para un mejoramiento del modelo en un futuro se propone aumentar la información que se tiene alrededor de los vuelos, de esta manera se podría generar un mejor estudio.\n"
   ]
  },
  {
   "cell_type": "code",
   "execution_count": null,
   "id": "f15179f7",
   "metadata": {},
   "outputs": [],
   "source": []
  }
 ],
 "metadata": {
  "kernelspec": {
   "display_name": "Python 3 (ipykernel)",
   "language": "python",
   "name": "python3"
  },
  "language_info": {
   "codemirror_mode": {
    "name": "ipython",
    "version": 3
   },
   "file_extension": ".py",
   "mimetype": "text/x-python",
   "name": "python",
   "nbconvert_exporter": "python",
   "pygments_lexer": "ipython3",
   "version": "3.9.7"
  }
 },
 "nbformat": 4,
 "nbformat_minor": 5
}
